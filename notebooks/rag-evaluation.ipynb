{
 "cells": [
  {
   "cell_type": "code",
   "execution_count": 33,
   "id": "8514e4cc-30bf-46d4-aa7b-91152f8dd96e",
   "metadata": {},
   "outputs": [],
   "source": [
    "import pandas as pd\n",
    "from tqdm.auto import tqdm\n",
    "import re\n",
    "from elasticsearch import Elasticsearch\n",
    "from elasticsearch.helpers import bulk, BulkIndexError\n",
    "from openai import OpenAI\n",
    "from sentence_transformers import SentenceTransformer\n",
    "import json"
   ]
  },
  {
   "cell_type": "markdown",
   "id": "51edc6f6-40ea-4075-9e9f-7b03997a18b2",
   "metadata": {},
   "source": [
    "## Ingestion"
   ]
  },
  {
   "cell_type": "code",
   "execution_count": 34,
   "id": "4d4c5757-77d6-46eb-b36f-ecaf3797f2e0",
   "metadata": {},
   "outputs": [],
   "source": [
    "with open('../data/flight_manuals_documents-with-ids.json', 'rt') as f_in:\n",
    "    documents = json.load(f_in)\n",
    "\n"
   ]
  },
  {
   "cell_type": "code",
   "execution_count": 35,
   "id": "59a78dab",
   "metadata": {},
   "outputs": [
    {
     "data": {
      "text/plain": [
       "{'manual_section': 'AOM Section 3',\n",
       " 'scenario': 'Electrical Failure',\n",
       " 'instructions': 'Advise cabin crew of situation, maintain visual contact with other aircraft.',\n",
       " 'id': '61162cbd'}"
      ]
     },
     "execution_count": 35,
     "metadata": {},
     "output_type": "execute_result"
    }
   ],
   "source": [
    "documents[0]"
   ]
  },
  {
   "cell_type": "code",
   "execution_count": 36,
   "id": "c4d76113",
   "metadata": {},
   "outputs": [
    {
     "name": "stderr",
     "output_type": "stream",
     "text": [
      "c:\\Users\\aksha\\.virtualenvs\\AviMate-LLM-RbionjtU\\Lib\\site-packages\\transformers\\tokenization_utils_base.py:1617: FutureWarning: `clean_up_tokenization_spaces` was not set. It will be set to `True` by default. This behavior will be deprecated in transformers v4.45, and will be then set to `False` by default. For more details check this issue: https://github.com/huggingface/transformers/issues/31884\n",
      "  warnings.warn(\n"
     ]
    }
   ],
   "source": [
    "model = SentenceTransformer('all-MiniLM-L6-v2')"
   ]
  },
  {
   "cell_type": "code",
   "execution_count": 37,
   "id": "20adfd57",
   "metadata": {},
   "outputs": [
    {
     "data": {
      "application/vnd.jupyter.widget-view+json": {
       "model_id": "8eea08a63b2644bdb8fb5de1b095642b",
       "version_major": 2,
       "version_minor": 0
      },
      "text/plain": [
       "  0%|          | 0/300 [00:00<?, ?it/s]"
      ]
     },
     "metadata": {},
     "output_type": "display_data"
    }
   ],
   "source": [
    "for doc in tqdm(documents):\n",
    "    scenario = doc['scenario']\n",
    "    instructions = doc['instructions']\n",
    "    text = scenario + \". \" +instructions\n",
    "    doc['text'] = text\n",
    "    doc['text_vector'] = model.encode(text)"
   ]
  },
  {
   "cell_type": "code",
   "execution_count": 38,
   "id": "2159e264",
   "metadata": {},
   "outputs": [
    {
     "data": {
      "text/plain": [
       "{'manual_section': 'AOM Section 3',\n",
       " 'scenario': 'Electrical Failure',\n",
       " 'instructions': 'Advise cabin crew of situation, maintain visual contact with other aircraft.',\n",
       " 'id': '61162cbd',\n",
       " 'text': 'Electrical Failure. Advise cabin crew of situation, maintain visual contact with other aircraft.',\n",
       " 'text_vector': array([ 1.26540717e-02,  2.84629804e-03,  5.22968061e-02,  4.39964682e-02,\n",
       "         2.07632184e-02,  1.82993114e-02,  4.20230851e-02,  7.63038844e-02,\n",
       "        -6.08727783e-02,  3.16061154e-02,  6.11943565e-02, -3.47804241e-02,\n",
       "        -1.91798471e-02,  9.82684270e-02, -6.07081689e-02, -2.01766267e-02,\n",
       "         5.33694923e-02, -6.71771839e-02, -5.92697896e-02,  1.63402986e-02,\n",
       "         3.60341519e-02,  7.94296265e-02, -4.43195701e-02,  4.55499962e-02,\n",
       "        -9.81410742e-02,  5.52850142e-02,  1.96695551e-02, -8.49044882e-03,\n",
       "        -4.67055365e-02, -5.09895012e-02, -2.03544237e-02,  1.26710339e-02,\n",
       "        -6.31223768e-02,  1.73256136e-02,  9.05830786e-03,  7.68855587e-02,\n",
       "         4.14208174e-02, -1.84271876e-02,  3.07415668e-02, -3.78087573e-02,\n",
       "        -8.27251449e-02, -4.67231125e-02,  4.65298891e-02, -2.97156014e-02,\n",
       "        -2.99413339e-03, -1.67999770e-02,  5.24453074e-02, -4.28363122e-02,\n",
       "         1.11636214e-01,  1.15913041e-02, -3.84879149e-02, -3.03446501e-02,\n",
       "         7.35331327e-02, -1.49435923e-02,  3.06022186e-02, -5.76945618e-02,\n",
       "        -2.72059813e-02, -4.52082418e-02, -1.44147184e-02, -5.81067130e-02,\n",
       "         5.59896305e-02,  3.31776775e-02, -2.22806027e-03,  3.19095105e-02,\n",
       "        -1.78277958e-02, -9.77221318e-03,  7.02874064e-02, -2.06296071e-02,\n",
       "         7.98342600e-02,  4.98649143e-02,  1.78406686e-02, -4.55305241e-02,\n",
       "        -4.47715931e-02,  3.27013433e-02, -1.54883042e-03,  1.41481124e-02,\n",
       "         4.59585711e-02, -1.23904929e-01,  5.72151579e-02, -1.49784507e-02,\n",
       "        -4.08524573e-02, -9.85336397e-03, -1.03451304e-01,  7.27851242e-02,\n",
       "         6.01098649e-02,  4.28277962e-02,  1.73204876e-02, -2.28521861e-02,\n",
       "        -8.40192884e-02,  8.17261450e-03, -1.83265992e-02, -3.06400899e-02,\n",
       "         7.42354989e-02,  3.96571681e-03,  2.96681784e-02, -7.41942553e-03,\n",
       "        -3.22787799e-02, -6.45388663e-02, -6.25988021e-02, -8.70480854e-03,\n",
       "         4.58491072e-02, -1.93371885e-02,  3.69275175e-02,  2.96222009e-02,\n",
       "        -2.56577004e-02, -2.41285451e-02,  6.11777566e-02, -1.46212885e-02,\n",
       "         1.18720846e-03, -9.68726277e-02, -4.07013856e-02,  6.42396063e-02,\n",
       "        -5.12860343e-02,  1.96611825e-02, -7.93499500e-03,  1.52723081e-02,\n",
       "        -4.17327359e-02, -3.02931704e-02,  6.71002548e-03,  6.22966476e-02,\n",
       "         1.44294649e-02, -1.09709976e-02,  5.79828694e-02, -1.68170389e-02,\n",
       "        -1.37808360e-02, -5.60874753e-02,  1.07917368e-01, -1.33569779e-35,\n",
       "         5.55485524e-02,  8.50697793e-03,  1.14547024e-02,  7.92778432e-02,\n",
       "         7.20268190e-02,  1.54998330e-02, -7.48816654e-02,  4.12785113e-02,\n",
       "         5.65984622e-02,  5.95611259e-02,  5.25943981e-03, -1.13093760e-02,\n",
       "         8.36456493e-02, -8.66310596e-02,  1.02146892e-02, -3.76699641e-02,\n",
       "        -1.60292946e-02, -3.92488837e-02, -4.28106226e-02, -4.29526810e-03,\n",
       "        -2.76362076e-02, -3.96204256e-02,  4.36866544e-02,  1.37309427e-03,\n",
       "         5.39832041e-02,  2.17445306e-02, -3.31163406e-02,  6.15974714e-04,\n",
       "        -3.69108072e-03,  1.88575685e-02, -3.38335931e-02,  1.55109033e-01,\n",
       "        -1.62855983e-02, -3.08241695e-02, -9.31598321e-02,  3.90986614e-02,\n",
       "        -1.96997188e-02, -1.44257639e-02, -6.70865029e-02, -1.86372723e-03,\n",
       "        -8.45322832e-02,  4.90285605e-02, -6.29583672e-02,  8.14694613e-02,\n",
       "         8.88413340e-02,  1.67160463e-02,  5.22606075e-02,  2.28372924e-02,\n",
       "        -4.23929170e-02,  7.71486014e-02, -1.03418253e-01, -4.35561361e-03,\n",
       "         3.49577032e-02, -7.09383143e-03, -1.08247194e-02,  4.28570881e-02,\n",
       "         7.13835284e-02, -1.44713176e-02,  4.78817336e-02,  1.02307694e-02,\n",
       "         7.36640487e-03,  2.63555907e-02, -4.15692367e-02,  1.04065603e-02,\n",
       "         3.50444280e-02, -1.88730527e-02,  6.71042800e-02, -2.32427847e-02,\n",
       "        -3.52016240e-02, -7.91089162e-02, -7.93439001e-02, -3.80884223e-02,\n",
       "        -1.94704859e-03, -2.94545516e-02, -6.67858422e-02, -4.01824228e-02,\n",
       "        -1.03356428e-01,  6.79055869e-04,  1.54293654e-02, -5.58295697e-02,\n",
       "        -1.94401443e-02, -5.56553081e-02,  1.01256996e-01,  2.52108648e-02,\n",
       "         7.24110976e-02,  3.76646332e-02, -1.96787734e-02,  4.22282293e-02,\n",
       "        -1.17837630e-01,  2.72786748e-02,  1.35976030e-03,  1.60293747e-02,\n",
       "         2.11987793e-02, -3.75436470e-02,  3.21731456e-02, -1.12356882e-33,\n",
       "         5.54954540e-03,  1.78530943e-04, -2.70332303e-02,  2.50015520e-02,\n",
       "         3.45843583e-02, -6.49902374e-02, -2.24520564e-02,  3.73945273e-02,\n",
       "        -1.51173168e-04, -4.99335304e-03, -4.54287380e-02, -1.06485439e-02,\n",
       "        -5.67679480e-02,  3.12176626e-02,  4.73391032e-03, -9.11091175e-03,\n",
       "        -5.89166284e-02,  4.85136174e-03,  2.80924104e-02,  4.92816456e-02,\n",
       "         9.84749198e-02,  4.12624255e-02, -1.37620755e-02, -3.14861303e-04,\n",
       "        -2.06720140e-02,  1.00304604e-01,  7.95663707e-03, -2.26306915e-02,\n",
       "        -9.03244168e-02, -7.52786323e-02,  7.63489529e-02,  3.91267464e-02,\n",
       "         1.54554127e-02,  7.60359764e-02, -4.03606109e-02,  4.28338572e-02,\n",
       "         3.96238826e-02,  3.97370681e-02, -1.39079228e-01, -8.76282435e-03,\n",
       "         9.86652896e-02,  1.01604246e-01,  7.35724047e-02,  1.92179307e-02,\n",
       "        -1.71335302e-02, -5.98660931e-02, -3.27698551e-02, -7.12088495e-02,\n",
       "        -8.78134966e-02,  1.22895483e-02, -4.69571762e-02, -1.22990824e-01,\n",
       "        -2.74107642e-02,  4.72705960e-02, -2.34122924e-03, -1.79071389e-02,\n",
       "         1.80671811e-02, -9.32483189e-03,  4.66146767e-02, -3.23642939e-02,\n",
       "         5.47015965e-02, -4.04498959e-03,  2.26290822e-02,  1.73799135e-02,\n",
       "         2.02831570e-02, -6.30019382e-02,  1.61884520e-02,  1.08664200e-01,\n",
       "         1.25440001e-01,  4.71641682e-02,  9.71675366e-02,  6.12786710e-02,\n",
       "        -3.89940385e-03, -5.30518591e-02, -4.47625369e-02,  1.79406442e-02,\n",
       "        -1.05587311e-01, -2.61266697e-02, -6.39216509e-04,  8.81883223e-03,\n",
       "         2.90237293e-02, -1.00691453e-01, -1.03780190e-02,  3.96924131e-02,\n",
       "         2.22263094e-02,  2.37745252e-02,  9.96580496e-02,  3.09428871e-02,\n",
       "        -2.07472872e-03, -9.74885672e-02, -9.49637815e-02, -4.07891581e-03,\n",
       "        -7.44962171e-02,  5.68019524e-02, -2.03494299e-02, -1.99494306e-08,\n",
       "        -9.84757245e-02,  3.00382227e-02,  3.00591085e-02, -5.33386655e-02,\n",
       "        -1.99271971e-03, -8.45489502e-02,  5.36417700e-02, -4.37207986e-03,\n",
       "        -2.45812908e-02, -2.30972022e-02, -4.09156680e-02, -1.91313531e-02,\n",
       "         6.45660982e-02,  1.49096493e-02,  3.98561284e-02, -3.71560007e-02,\n",
       "        -4.93074842e-02,  7.60534331e-02, -6.85891882e-02, -2.45050993e-02,\n",
       "        -6.69662356e-02, -2.82583646e-02,  3.86533439e-02,  4.35748249e-02,\n",
       "         2.27909498e-02,  5.61378300e-02,  5.59342280e-02,  6.04468808e-02,\n",
       "        -2.34539378e-02,  6.41755154e-03, -1.06961042e-01,  1.27899218e-02,\n",
       "         3.08352355e-02, -3.99181545e-02, -7.15761706e-02,  1.94733627e-02,\n",
       "         5.73561005e-02, -7.60077909e-02, -2.89736763e-02, -2.28281152e-02,\n",
       "        -5.62766567e-02,  1.08004399e-02,  1.73304081e-02,  4.16021459e-02,\n",
       "         1.18523560e-01, -2.75257099e-02,  5.64809106e-02,  6.01305347e-03,\n",
       "        -1.66191906e-02, -1.06740966e-01,  3.19350623e-02, -2.78866920e-03,\n",
       "        -4.37192544e-02,  1.41493231e-01, -5.01410067e-02, -7.43982475e-03,\n",
       "        -1.10321725e-02,  5.38402610e-02, -1.35234082e-02,  7.67348800e-03,\n",
       "        -2.54233554e-02, -1.67497026e-03, -1.16554722e-01,  1.38734821e-02],\n",
       "       dtype=float32)}"
      ]
     },
     "execution_count": 38,
     "metadata": {},
     "output_type": "execute_result"
    }
   ],
   "source": [
    "documents[0]"
   ]
  },
  {
   "cell_type": "code",
   "execution_count": 39,
   "id": "cb62407e",
   "metadata": {},
   "outputs": [],
   "source": [
    "es_client = Elasticsearch('http://localhost:9200')"
   ]
  },
  {
   "cell_type": "code",
   "execution_count": 40,
   "id": "50929f2e",
   "metadata": {},
   "outputs": [],
   "source": [
    "index_name = 'flight_manuals'\n",
    "\n",
    "index_settings = {\n",
    "    \"settings\": {\n",
    "        \"number_of_shards\": 1,\n",
    "        \"number_of_replicas\": 0\n",
    "    },\n",
    "    \"mappings\": {\n",
    "        \"properties\": {\n",
    "            \"manual_section\": {\"type\": \"keyword\"},\n",
    "            \"scenario\": {\"type\": \"text\"},\n",
    "            \"instructions\": {\"type\": \"text\"},\n",
    "            \"id\": {\"type\": \"keyword\"},\n",
    "            \"text\": {\"type\": \"text\"},\n",
    "            \"text_vector\": {\"type\": \"dense_vector\", \"dims\": 384, \"index\": True, \"similarity\": \"cosine\"}  # Adjust dims based on embedding size\n",
    "        }\n",
    "    }\n",
    "}\n"
   ]
  },
  {
   "cell_type": "code",
   "execution_count": 41,
   "id": "9b641bfa",
   "metadata": {},
   "outputs": [
    {
     "data": {
      "text/plain": [
       "ObjectApiResponse({'acknowledged': True, 'shards_acknowledged': True, 'index': 'flight_manuals'})"
      ]
     },
     "execution_count": 41,
     "metadata": {},
     "output_type": "execute_result"
    }
   ],
   "source": [
    "# Delete the index if it already exists\n",
    "if es_client.indices.exists(index=index_name):\n",
    "    es_client.indices.delete(index=index_name)\n",
    "\n",
    "# Create the index\n",
    "es_client.indices.create(index=index_name, body=index_settings)\n"
   ]
  },
  {
   "cell_type": "code",
   "execution_count": 42,
   "id": "1ed20e3d",
   "metadata": {},
   "outputs": [],
   "source": [
    "def get_embedding(text):\n",
    "    return model.encode(text).tolist()\n"
   ]
  },
  {
   "cell_type": "markdown",
   "id": "74b7ca99",
   "metadata": {},
   "source": [
    " ### Indexing Data with Embeddings"
   ]
  },
  {
   "cell_type": "code",
   "execution_count": 43,
   "id": "6df153aa",
   "metadata": {},
   "outputs": [],
   "source": [
    "def generate_actions():\n",
    "    for record in documents:\n",
    "        yield {\n",
    "            \"_index\": index_name,\n",
    "            \"_source\": record\n",
    "            \n",
    "        }"
   ]
  },
  {
   "cell_type": "code",
   "execution_count": 44,
   "id": "89309389",
   "metadata": {},
   "outputs": [],
   "source": [
    "def bulk_index_data(es_client, actions):\n",
    "    try:\n",
    "        bulk(es_client, generate_actions())\n",
    "        print(\"Bulk indexing completed successfully!\")\n",
    "    except BulkIndexError as e:\n",
    "        print(f\"{len(e.errors)} documents failed to index\")\n",
    "\n",
    "        failed_documents = e.errors\n",
    "        for i, error in enumerate(failed_documents, 1):\n",
    "            action = error['index']\n",
    "            error_info = action.get('error', {})\n",
    "            document_id = action.get('_id', \"N/A\")\n",
    "            status = action.get('status', \"Unknown Status\")\n",
    "\n",
    "            print(f\"\\nFailed Document {i}:\")\n",
    "            print(f\"ID: {document_id}\")\n",
    "            print(f\"Status: {status}\")\n",
    "            print(f\"Error Type: {error_info.get('type')}\")\n",
    "            print(f\"Reason: {error_info.get('reason')}\")\n",
    "            document_source = action.get('data', {})\n",
    "            print(f\"Document Content: {document_source}\")\n",
    "\n",
    "    "
   ]
  },
  {
   "cell_type": "code",
   "execution_count": 45,
   "id": "5b1a7707",
   "metadata": {},
   "outputs": [
    {
     "name": "stdout",
     "output_type": "stream",
     "text": [
      "Bulk indexing completed successfully!\n"
     ]
    }
   ],
   "source": [
    "bulk_index_data(es_client, generate_actions())\n"
   ]
  },
  {
   "cell_type": "code",
   "execution_count": 46,
   "id": "b3b6a5dd",
   "metadata": {},
   "outputs": [],
   "source": [
    "client = OpenAI()"
   ]
  },
  {
   "cell_type": "code",
   "execution_count": 47,
   "id": "b346d7bf",
   "metadata": {},
   "outputs": [],
   "source": [
    "def get_user_query(query):\n",
    "    # For demonstration, you can hardcode a query or accept input\n",
    "    return query\n"
   ]
  },
  {
   "cell_type": "code",
   "execution_count": 48,
   "id": "209e7bce",
   "metadata": {},
   "outputs": [],
   "source": [
    "def get_query_embedding(query):\n",
    "    return model.encode(query).tolist()\n"
   ]
  },
  {
   "cell_type": "code",
   "execution_count": 49,
   "id": "c64a49d4",
   "metadata": {},
   "outputs": [],
   "source": [
    "def elastic_search(query_vector, index_name, es_client, top_k=3):\n",
    "    # Define the script query\n",
    "    script_query = {\n",
    "        \"script_score\": {\n",
    "            \"query\": {\n",
    "                \"match_all\": {}\n",
    "            },\n",
    "            \"script\": {\n",
    "                \"source\": \"cosineSimilarity(params.query_vector, 'text_vector') + 1.0\",\n",
    "                \"params\": {\"query_vector\": query_vector}\n",
    "            }\n",
    "        }\n",
    "    }\n",
    "    \n",
    "    try:\n",
    "        # Execute the search query\n",
    "        response = es_client.search(\n",
    "            index=index_name,\n",
    "            body={\n",
    "                \"size\": top_k,\n",
    "                \"query\": script_query,\n",
    "                \"_source\": [\"manual_section\", \"scenario\", \"instructions\", \"text\", \"id\"]  # Adjust fields as needed\n",
    "            }\n",
    "        )\n",
    "        \n",
    "        # Collect the search results\n",
    "        result_docs = [hit['_source'] for hit in response['hits']['hits']]\n",
    "        \n",
    "        return result_docs  # Return the results for further processing if needed\n",
    "        \n",
    "    except Exception as e:\n",
    "        print(f\"An error occurred: {e}\")\n",
    "        return None\n"
   ]
  },
  {
   "cell_type": "code",
   "execution_count": 50,
   "id": "6eca9b39",
   "metadata": {},
   "outputs": [],
   "source": [
    "def retrieve_documents(query):\n",
    "    query_vector = get_query_embedding(query)\n",
    "    retrieved_docs = elastic_search(query_vector, index_name, es_client, top_k=3)\n",
    "    return retrieved_docs"
   ]
  },
  {
   "cell_type": "code",
   "execution_count": 51,
   "id": "45237a24",
   "metadata": {},
   "outputs": [
    {
     "data": {
      "text/plain": [
       "'Hydraulic Failure. Limit control inputs to essential movements, monitor hydraulic pressure levels.'"
      ]
     },
     "execution_count": 51,
     "metadata": {},
     "output_type": "execute_result"
    }
   ],
   "source": [
    "retrieve_documents('How should I handle a hydraulic failure during flight?')[0]['text']"
   ]
  },
  {
   "cell_type": "code",
   "execution_count": 53,
   "id": "23f0dc89",
   "metadata": {},
   "outputs": [],
   "source": [
    "def format_retrieved_documents(retrieved_docs):\n",
    "    formatted_docs = \"\"\n",
    "    for doc in retrieved_docs:\n",
    "        formatted_docs += f\"Manual Section: {doc['manual_section']}\\n\"\n",
    "        formatted_docs += f\"Scenario: {doc['scenario']}\\n\"\n",
    "        formatted_docs += f\"Instructions: {doc['instructions']}\\n\"\n",
    "        formatted_docs += f\"Text: {doc['text']}\\n\\n\"\n",
    "    return formatted_docs\n"
   ]
  },
  {
   "cell_type": "code",
   "execution_count": 54,
   "id": "9d104acb-bfd2-4a46-b008-2bcfcaa3566e",
   "metadata": {},
   "outputs": [],
   "source": [
    "\n",
    "def build_prompt(question, retrieved_docs):\n",
    "\n",
    "    prompt_template = \"\"\"\n",
    "    You are an assistant helping pilots with flight procedures. Based on the following flight manual information, answer the question:\n",
    "\n",
    "    Flight Manual Information:\n",
    "    {retrieved_docs}\n",
    "\n",
    "    Question:\n",
    "    {question}\n",
    "\n",
    "    Answer:\n",
    "    \"\"\".strip()\n",
    "\n",
    "    # Format the retrieved documents\n",
    "    formatted_docs = format_retrieved_documents(retrieved_docs)\n",
    "    \n",
    "    # Construct the prompt\n",
    "    prompt = prompt_template.format(retrieved_docs=formatted_docs, question=question)\n",
    "    \n",
    "    return prompt"
   ]
  },
  {
   "cell_type": "code",
   "execution_count": 55,
   "id": "5b18a913",
   "metadata": {},
   "outputs": [],
   "source": [
    "def generate_answer(prompt):\n",
    "    response = client.chat.completions.create(\n",
    "        model = 'gpt-4o-mini', \n",
    "        messages = [{'role':'assistant', 'content':prompt}],\n",
    "        max_tokens = 2500,\n",
    "        temperature=0.5\n",
    "    )\n",
    "    answer = response.choices[0].message.content\n",
    "\n",
    "    return answer\n"
   ]
  },
  {
   "cell_type": "code",
   "execution_count": 56,
   "id": "c947a74b-5fff-4833-b57c-bbf9744ef58c",
   "metadata": {},
   "outputs": [],
   "source": [
    "def rag(query):\n",
    "    query = get_user_query(query)\n",
    "    retrieved_docs = retrieve_documents(query)\n",
    "    prompt = build_prompt(query, retrieved_docs)\n",
    "    answer = generate_answer(prompt)\n",
    "    #print(\"\\nAnswer:\\n\", answer)\n",
    "\n",
    "    return answer"
   ]
  },
  {
   "cell_type": "code",
   "execution_count": 57,
   "id": "00a0f751-35bc-4a24-9e16-6f206d857dc5",
   "metadata": {},
   "outputs": [
    {
     "name": "stdout",
     "output_type": "stream",
     "text": [
      "In the event of an engine failure, the flight manuals provide the following instructions:\n",
      "\n",
      "1. **Monitor engine parameters**: Continuously check the performance indicators for the affected engine.\n",
      "2. **Shut down affected engine if necessary**: If the parameters indicate a critical issue, proceed to safely shut down the malfunctioning engine.\n",
      "3. **Advise cabin crew**: Inform the cabin crew about the situation to ensure they are prepared for any necessary actions.\n",
      "\n",
      "These instructions are consistent across multiple sections of the flight manuals, including FCOM Sections 2 and 4, as well as AOM Section 4.\n"
     ]
    }
   ],
   "source": [
    "answer = rag(\"engine failure flight manuals\")\n",
    "print(answer)"
   ]
  },
  {
   "cell_type": "code",
   "execution_count": 58,
   "id": "e70c0ffd",
   "metadata": {},
   "outputs": [
    {
     "name": "stdout",
     "output_type": "stream",
     "text": [
      "In the event of a hydraulic failure during flight, you should follow these procedures:\n",
      "\n",
      "1. **Limit Control Inputs**: Restrict your control movements to only essential actions. Avoid unnecessary or aggressive inputs to prevent further strain on the hydraulic system.\n",
      "\n",
      "2. **Monitor Hydraulic Pressure Levels**: Continuously observe the hydraulic pressure indicators to assess the status of the hydraulic system. This will help you determine the extent of the failure and any potential impact on aircraft control.\n",
      "\n",
      "By adhering to these instructions, you can manage the situation more effectively and maintain control of the aircraft.\n"
     ]
    }
   ],
   "source": [
    "answer = rag(\"How should I handle a hydraulic failure during flight?\")\n",
    "print(answer)"
   ]
  },
  {
   "cell_type": "code",
   "execution_count": 29,
   "id": "22c9984a-78c6-464f-b396-dea5728c4428",
   "metadata": {},
   "outputs": [
    {
     "name": "stdout",
     "output_type": "stream",
     "text": [
      "In icing conditions scenarios, you should take the following actions:\n",
      "\n",
      "1. Report icing conditions to ATC.\n",
      "2. Request a vector to exit the icing area.\n",
      "3. Perform de-icing procedures as outlined in the flight manual.\n"
     ]
    }
   ],
   "source": [
    "answer = rag('What shall i do for Icing Conditions scenarios?')\n",
    "print(answer)"
   ]
  },
  {
   "cell_type": "code",
   "execution_count": 30,
   "id": "974bff71-53f3-4e7b-8b20-ba960ab1a506",
   "metadata": {},
   "outputs": [
    {
     "name": "stdout",
     "output_type": "stream",
     "text": [
      "Yes, there is a Landing Gear Malfunction. The flight manual information indicates that in the event of a landing gear malfunction, the procedures include attempting manual gear extension and preparing for a low approach for visual inspection.\n"
     ]
    }
   ],
   "source": [
    "answer = rag('is there Landing Gear Malfunction?')\n",
    "print(answer)"
   ]
  },
  {
   "cell_type": "code",
   "execution_count": 31,
   "id": "d37e577f",
   "metadata": {},
   "outputs": [],
   "source": [
    "### Load Ground Truth Data\n",
    "df_ground_truth = pd.read_csv('../data/ground-truth-data-flight-manuals.csv')\n",
    "ground_truth = df_ground_truth.to_dict(orient='records')\n"
   ]
  },
  {
   "cell_type": "code",
   "execution_count": 32,
   "id": "7e7e6314",
   "metadata": {},
   "outputs": [
    {
     "data": {
      "text/plain": [
       "{'id': '61162cbd',\n",
       " 'question': 'What specific instructions should I give to the cabin crew during an electrical failure?'}"
      ]
     },
     "execution_count": 32,
     "metadata": {},
     "output_type": "execute_result"
    }
   ],
   "source": [
    "ground_truth[0]"
   ]
  },
  {
   "cell_type": "code",
   "execution_count": 55,
   "id": "776436c1",
   "metadata": {},
   "outputs": [],
   "source": [
    "doc_idx = {d['id']: d for d in documents}\n"
   ]
  },
  {
   "cell_type": "code",
   "execution_count": 62,
   "id": "1586abc6",
   "metadata": {},
   "outputs": [
    {
     "data": {
      "text/plain": [
       "{'manual_section': 'AOM Section 3',\n",
       " 'scenario': 'Electrical Failure',\n",
       " 'instructions': 'Advise cabin crew of situation, maintain visual contact with other aircraft.',\n",
       " 'id': '61162cbd',\n",
       " 'text': 'Electrical Failure. Advise cabin crew of situation, maintain visual contact with other aircraft.',\n",
       " 'text_vector': array([ 1.26540717e-02,  2.84629804e-03,  5.22968061e-02,  4.39964682e-02,\n",
       "         2.07632184e-02,  1.82993114e-02,  4.20230851e-02,  7.63038844e-02,\n",
       "        -6.08727783e-02,  3.16061154e-02,  6.11943565e-02, -3.47804241e-02,\n",
       "        -1.91798471e-02,  9.82684270e-02, -6.07081689e-02, -2.01766267e-02,\n",
       "         5.33694923e-02, -6.71771839e-02, -5.92697896e-02,  1.63402986e-02,\n",
       "         3.60341519e-02,  7.94296265e-02, -4.43195701e-02,  4.55499962e-02,\n",
       "        -9.81410742e-02,  5.52850142e-02,  1.96695551e-02, -8.49044882e-03,\n",
       "        -4.67055365e-02, -5.09895012e-02, -2.03544237e-02,  1.26710339e-02,\n",
       "        -6.31223768e-02,  1.73256136e-02,  9.05830786e-03,  7.68855587e-02,\n",
       "         4.14208174e-02, -1.84271876e-02,  3.07415668e-02, -3.78087573e-02,\n",
       "        -8.27251449e-02, -4.67231125e-02,  4.65298891e-02, -2.97156014e-02,\n",
       "        -2.99413339e-03, -1.67999770e-02,  5.24453074e-02, -4.28363122e-02,\n",
       "         1.11636214e-01,  1.15913041e-02, -3.84879149e-02, -3.03446501e-02,\n",
       "         7.35331327e-02, -1.49435923e-02,  3.06022186e-02, -5.76945618e-02,\n",
       "        -2.72059813e-02, -4.52082418e-02, -1.44147184e-02, -5.81067130e-02,\n",
       "         5.59896305e-02,  3.31776775e-02, -2.22806027e-03,  3.19095105e-02,\n",
       "        -1.78277958e-02, -9.77221318e-03,  7.02874064e-02, -2.06296071e-02,\n",
       "         7.98342600e-02,  4.98649143e-02,  1.78406686e-02, -4.55305241e-02,\n",
       "        -4.47715931e-02,  3.27013433e-02, -1.54883042e-03,  1.41481124e-02,\n",
       "         4.59585711e-02, -1.23904929e-01,  5.72151579e-02, -1.49784507e-02,\n",
       "        -4.08524573e-02, -9.85336397e-03, -1.03451304e-01,  7.27851242e-02,\n",
       "         6.01098649e-02,  4.28277962e-02,  1.73204876e-02, -2.28521861e-02,\n",
       "        -8.40192884e-02,  8.17261450e-03, -1.83265992e-02, -3.06400899e-02,\n",
       "         7.42354989e-02,  3.96571681e-03,  2.96681784e-02, -7.41942553e-03,\n",
       "        -3.22787799e-02, -6.45388663e-02, -6.25988021e-02, -8.70480854e-03,\n",
       "         4.58491072e-02, -1.93371885e-02,  3.69275175e-02,  2.96222009e-02,\n",
       "        -2.56577004e-02, -2.41285451e-02,  6.11777566e-02, -1.46212885e-02,\n",
       "         1.18720846e-03, -9.68726277e-02, -4.07013856e-02,  6.42396063e-02,\n",
       "        -5.12860343e-02,  1.96611825e-02, -7.93499500e-03,  1.52723081e-02,\n",
       "        -4.17327359e-02, -3.02931704e-02,  6.71002548e-03,  6.22966476e-02,\n",
       "         1.44294649e-02, -1.09709976e-02,  5.79828694e-02, -1.68170389e-02,\n",
       "        -1.37808360e-02, -5.60874753e-02,  1.07917368e-01, -1.33569779e-35,\n",
       "         5.55485524e-02,  8.50697793e-03,  1.14547024e-02,  7.92778432e-02,\n",
       "         7.20268190e-02,  1.54998330e-02, -7.48816654e-02,  4.12785113e-02,\n",
       "         5.65984622e-02,  5.95611259e-02,  5.25943981e-03, -1.13093760e-02,\n",
       "         8.36456493e-02, -8.66310596e-02,  1.02146892e-02, -3.76699641e-02,\n",
       "        -1.60292946e-02, -3.92488837e-02, -4.28106226e-02, -4.29526810e-03,\n",
       "        -2.76362076e-02, -3.96204256e-02,  4.36866544e-02,  1.37309427e-03,\n",
       "         5.39832041e-02,  2.17445306e-02, -3.31163406e-02,  6.15974714e-04,\n",
       "        -3.69108072e-03,  1.88575685e-02, -3.38335931e-02,  1.55109033e-01,\n",
       "        -1.62855983e-02, -3.08241695e-02, -9.31598321e-02,  3.90986614e-02,\n",
       "        -1.96997188e-02, -1.44257639e-02, -6.70865029e-02, -1.86372723e-03,\n",
       "        -8.45322832e-02,  4.90285605e-02, -6.29583672e-02,  8.14694613e-02,\n",
       "         8.88413340e-02,  1.67160463e-02,  5.22606075e-02,  2.28372924e-02,\n",
       "        -4.23929170e-02,  7.71486014e-02, -1.03418253e-01, -4.35561361e-03,\n",
       "         3.49577032e-02, -7.09383143e-03, -1.08247194e-02,  4.28570881e-02,\n",
       "         7.13835284e-02, -1.44713176e-02,  4.78817336e-02,  1.02307694e-02,\n",
       "         7.36640487e-03,  2.63555907e-02, -4.15692367e-02,  1.04065603e-02,\n",
       "         3.50444280e-02, -1.88730527e-02,  6.71042800e-02, -2.32427847e-02,\n",
       "        -3.52016240e-02, -7.91089162e-02, -7.93439001e-02, -3.80884223e-02,\n",
       "        -1.94704859e-03, -2.94545516e-02, -6.67858422e-02, -4.01824228e-02,\n",
       "        -1.03356428e-01,  6.79055869e-04,  1.54293654e-02, -5.58295697e-02,\n",
       "        -1.94401443e-02, -5.56553081e-02,  1.01256996e-01,  2.52108648e-02,\n",
       "         7.24110976e-02,  3.76646332e-02, -1.96787734e-02,  4.22282293e-02,\n",
       "        -1.17837630e-01,  2.72786748e-02,  1.35976030e-03,  1.60293747e-02,\n",
       "         2.11987793e-02, -3.75436470e-02,  3.21731456e-02, -1.12356882e-33,\n",
       "         5.54954540e-03,  1.78530943e-04, -2.70332303e-02,  2.50015520e-02,\n",
       "         3.45843583e-02, -6.49902374e-02, -2.24520564e-02,  3.73945273e-02,\n",
       "        -1.51173168e-04, -4.99335304e-03, -4.54287380e-02, -1.06485439e-02,\n",
       "        -5.67679480e-02,  3.12176626e-02,  4.73391032e-03, -9.11091175e-03,\n",
       "        -5.89166284e-02,  4.85136174e-03,  2.80924104e-02,  4.92816456e-02,\n",
       "         9.84749198e-02,  4.12624255e-02, -1.37620755e-02, -3.14861303e-04,\n",
       "        -2.06720140e-02,  1.00304604e-01,  7.95663707e-03, -2.26306915e-02,\n",
       "        -9.03244168e-02, -7.52786323e-02,  7.63489529e-02,  3.91267464e-02,\n",
       "         1.54554127e-02,  7.60359764e-02, -4.03606109e-02,  4.28338572e-02,\n",
       "         3.96238826e-02,  3.97370681e-02, -1.39079228e-01, -8.76282435e-03,\n",
       "         9.86652896e-02,  1.01604246e-01,  7.35724047e-02,  1.92179307e-02,\n",
       "        -1.71335302e-02, -5.98660931e-02, -3.27698551e-02, -7.12088495e-02,\n",
       "        -8.78134966e-02,  1.22895483e-02, -4.69571762e-02, -1.22990824e-01,\n",
       "        -2.74107642e-02,  4.72705960e-02, -2.34122924e-03, -1.79071389e-02,\n",
       "         1.80671811e-02, -9.32483189e-03,  4.66146767e-02, -3.23642939e-02,\n",
       "         5.47015965e-02, -4.04498959e-03,  2.26290822e-02,  1.73799135e-02,\n",
       "         2.02831570e-02, -6.30019382e-02,  1.61884520e-02,  1.08664200e-01,\n",
       "         1.25440001e-01,  4.71641682e-02,  9.71675366e-02,  6.12786710e-02,\n",
       "        -3.89940385e-03, -5.30518591e-02, -4.47625369e-02,  1.79406442e-02,\n",
       "        -1.05587311e-01, -2.61266697e-02, -6.39216509e-04,  8.81883223e-03,\n",
       "         2.90237293e-02, -1.00691453e-01, -1.03780190e-02,  3.96924131e-02,\n",
       "         2.22263094e-02,  2.37745252e-02,  9.96580496e-02,  3.09428871e-02,\n",
       "        -2.07472872e-03, -9.74885672e-02, -9.49637815e-02, -4.07891581e-03,\n",
       "        -7.44962171e-02,  5.68019524e-02, -2.03494299e-02, -1.99494306e-08,\n",
       "        -9.84757245e-02,  3.00382227e-02,  3.00591085e-02, -5.33386655e-02,\n",
       "        -1.99271971e-03, -8.45489502e-02,  5.36417700e-02, -4.37207986e-03,\n",
       "        -2.45812908e-02, -2.30972022e-02, -4.09156680e-02, -1.91313531e-02,\n",
       "         6.45660982e-02,  1.49096493e-02,  3.98561284e-02, -3.71560007e-02,\n",
       "        -4.93074842e-02,  7.60534331e-02, -6.85891882e-02, -2.45050993e-02,\n",
       "        -6.69662356e-02, -2.82583646e-02,  3.86533439e-02,  4.35748249e-02,\n",
       "         2.27909498e-02,  5.61378300e-02,  5.59342280e-02,  6.04468808e-02,\n",
       "        -2.34539378e-02,  6.41755154e-03, -1.06961042e-01,  1.27899218e-02,\n",
       "         3.08352355e-02, -3.99181545e-02, -7.15761706e-02,  1.94733627e-02,\n",
       "         5.73561005e-02, -7.60077909e-02, -2.89736763e-02, -2.28281152e-02,\n",
       "        -5.62766567e-02,  1.08004399e-02,  1.73304081e-02,  4.16021459e-02,\n",
       "         1.18523560e-01, -2.75257099e-02,  5.64809106e-02,  6.01305347e-03,\n",
       "        -1.66191906e-02, -1.06740966e-01,  3.19350623e-02, -2.78866920e-03,\n",
       "        -4.37192544e-02,  1.41493231e-01, -5.01410067e-02, -7.43982475e-03,\n",
       "        -1.10321725e-02,  5.38402610e-02, -1.35234082e-02,  7.67348800e-03,\n",
       "        -2.54233554e-02, -1.67497026e-03, -1.16554722e-01,  1.38734821e-02],\n",
       "       dtype=float32)}"
      ]
     },
     "execution_count": 62,
     "metadata": {},
     "output_type": "execute_result"
    }
   ],
   "source": [
    "doc_idx['61162cbd']"
   ]
  },
  {
   "cell_type": "code",
   "execution_count": 59,
   "id": "60502494",
   "metadata": {},
   "outputs": [
    {
     "data": {
      "text/plain": [
       "\"During an electrical failure, you should advise the cabin crew of the situation and ensure they are aware of the need to maintain visual contact with other aircraft. It's important to communicate clearly and provide any additional information they may need to assist passengers and maintain safety.\""
      ]
     },
     "execution_count": 59,
     "metadata": {},
     "output_type": "execute_result"
    }
   ],
   "source": [
    "rag(ground_truth[0]['question'])"
   ]
  },
  {
   "cell_type": "markdown",
   "id": "2b2c6302",
   "metadata": {},
   "source": [
    "### Cosine Similarity Metric"
   ]
  },
  {
   "cell_type": "code",
   "execution_count": 60,
   "id": "abbe18f9",
   "metadata": {},
   "outputs": [
    {
     "data": {
      "text/plain": [
       "np.float32(0.80421853)"
      ]
     },
     "execution_count": 60,
     "metadata": {},
     "output_type": "execute_result"
    }
   ],
   "source": [
    "answer_orig = 'Electrical Failure. Advise cabin crew of situation, maintain visual contact with other aircraft.'\n",
    "answer_llm = 'During an electrical failure, you should advise the cabin crew of the situation and ensure they are aware of the need to maintain visual contact with other aircraft. Its important to communicate clearly and provide any additional information they may need to assist passengers and maintain safety'\n",
    "v_llm = model.encode(answer_llm)\n",
    "v_orig = model.encode(answer_orig)\n",
    "\n",
    "v_llm.dot(v_orig)"
   ]
  },
  {
   "cell_type": "code",
   "execution_count": 74,
   "id": "bc2ede1e",
   "metadata": {},
   "outputs": [
    {
     "data": {
      "text/plain": [
       "1500"
      ]
     },
     "execution_count": 74,
     "metadata": {},
     "output_type": "execute_result"
    }
   ],
   "source": [
    "len(ground_truth)"
   ]
  },
  {
   "cell_type": "markdown",
   "id": "464d18fa",
   "metadata": {},
   "source": [
    "### Since ground truth dataset is large, need to use parallel processing to speed up the answer generation"
   ]
  },
  {
   "cell_type": "code",
   "execution_count": 108,
   "id": "fd8e9e70",
   "metadata": {},
   "outputs": [],
   "source": [
    "import concurrent.futures\n",
    "import time\n"
   ]
  },
  {
   "cell_type": "code",
   "execution_count": 106,
   "id": "70264ba5",
   "metadata": {},
   "outputs": [],
   "source": [
    "def process_record(rec):\n",
    "    \"\"\"\n",
    "    Processes a single record to generate an LLM answer.\n",
    "\n",
    "    Args:\n",
    "        rec (dict): A dictionary containing 'id' and 'question'.\n",
    "\n",
    "    Returns:\n",
    "        dict: A dictionary with 'doc_id', 'question', and 'answer_llm'.\n",
    "    \"\"\"\n",
    "    try:\n",
    "        question = rec['question']\n",
    "        doc_id = rec['id']\n",
    "        answer_llm = rag(question)\n",
    "        return {\n",
    "            'doc_id': doc_id,\n",
    "            'question': question,\n",
    "            'answer_llm': answer_llm\n",
    "        }\n",
    "    except Exception as e:\n",
    "        print(f\"Error processing record ID {rec.get('id', 'Unknown')}: {e}\")\n",
    "        return {\n",
    "            'doc_id': rec.get('id', 'Unknown'),\n",
    "            'question': rec.get('question', 'Unknown'),\n",
    "            'answer_llm': None\n",
    "        }\n"
   ]
  },
  {
   "cell_type": "code",
   "execution_count": 109,
   "id": "bb83be7e",
   "metadata": {},
   "outputs": [],
   "source": [
    "def llm_answers_concurrent(ground_truth, max_workers=10):\n",
    "    \"\"\"\n",
    "    Generates LLM answers for each question in the ground_truth dataset using concurrency.\n",
    "\n",
    "    Args:\n",
    "        ground_truth (list of dict): The dataset containing 'id' and 'question'.\n",
    "        max_workers (int): The maximum number of threads to use.\n",
    "\n",
    "    Returns:\n",
    "        list of dict: A list where each dictionary contains 'doc_id', 'question', and 'answer_llm'.\n",
    "    \"\"\"\n",
    "    results = []\n",
    "    with concurrent.futures.ThreadPoolExecutor(max_workers=max_workers) as executor:\n",
    "        # Submit all tasks to the executor\n",
    "        futures = {executor.submit(process_record, rec): rec for rec in ground_truth}\n",
    "        \n",
    "        # Use tqdm to display the progress bar\n",
    "        for future in tqdm(concurrent.futures.as_completed(futures), total=len(futures), desc=\"Generating LLM Answers\"):\n",
    "            result = future.result()\n",
    "            results.append(result)\n",
    "    return results"
   ]
  },
  {
   "cell_type": "code",
   "execution_count": 111,
   "id": "17eb0ece",
   "metadata": {},
   "outputs": [
    {
     "data": {
      "application/vnd.jupyter.widget-view+json": {
       "model_id": "3f52d19a18f64eada542b6792b6da950",
       "version_major": 2,
       "version_minor": 0
      },
      "text/plain": [
       "Generating LLM Answers:   0%|          | 0/1500 [00:00<?, ?it/s]"
      ]
     },
     "metadata": {},
     "output_type": "display_data"
    },
    {
     "name": "stdout",
     "output_type": "stream",
     "text": [
      "Processed 1500 records in 282.99 seconds.\n"
     ]
    }
   ],
   "source": [
    "start_time = time.time()\n",
    "results = llm_answers_concurrent(ground_truth, max_workers=20)  # Adjust max_workers as needed\n",
    "end_time = time.time()\n",
    "    \n",
    "print(f\"Processed {len(results)} records in {end_time - start_time:.2f} seconds.\")"
   ]
  },
  {
   "cell_type": "code",
   "execution_count": 112,
   "id": "a06d77b6",
   "metadata": {},
   "outputs": [],
   "source": [
    "df_llm_answers = pd.DataFrame(results)"
   ]
  },
  {
   "cell_type": "code",
   "execution_count": 113,
   "id": "9957bbdd",
   "metadata": {},
   "outputs": [],
   "source": [
    "df_llm_answers.to_csv('../data/gpt4o-mini-flight-manuals-results.csv', index=None)"
   ]
  },
  {
   "cell_type": "code",
   "execution_count": 114,
   "id": "c90df12e",
   "metadata": {},
   "outputs": [],
   "source": [
    "df_llm_answers = pd.read_csv('../data/gpt4o-mini-flight-manuals-results.csv')"
   ]
  },
  {
   "cell_type": "code",
   "execution_count": 115,
   "id": "dd99e3a7",
   "metadata": {},
   "outputs": [
    {
     "data": {
      "text/html": [
       "<div>\n",
       "<style scoped>\n",
       "    .dataframe tbody tr th:only-of-type {\n",
       "        vertical-align: middle;\n",
       "    }\n",
       "\n",
       "    .dataframe tbody tr th {\n",
       "        vertical-align: top;\n",
       "    }\n",
       "\n",
       "    .dataframe thead th {\n",
       "        text-align: right;\n",
       "    }\n",
       "</style>\n",
       "<table border=\"1\" class=\"dataframe\">\n",
       "  <thead>\n",
       "    <tr style=\"text-align: right;\">\n",
       "      <th></th>\n",
       "      <th>doc_id</th>\n",
       "      <th>question</th>\n",
       "      <th>answer_llm</th>\n",
       "    </tr>\n",
       "  </thead>\n",
       "  <tbody>\n",
       "    <tr>\n",
       "      <th>0</th>\n",
       "      <td>15f6e195</td>\n",
       "      <td>How should I manage the aircraft's bank during...</td>\n",
       "      <td>During a stall warning, you should avoid banki...</td>\n",
       "    </tr>\n",
       "    <tr>\n",
       "      <th>1</th>\n",
       "      <td>f66c8aa4</td>\n",
       "      <td>Can you provide the turbulence penetration spe...</td>\n",
       "      <td>The provided flight manual information does no...</td>\n",
       "    </tr>\n",
       "    <tr>\n",
       "      <th>2</th>\n",
       "      <td>15f6e195</td>\n",
       "      <td>Are there any specific maneuvers to avoid whil...</td>\n",
       "      <td>Yes, when handling a stall warning, you should...</td>\n",
       "    </tr>\n",
       "    <tr>\n",
       "      <th>3</th>\n",
       "      <td>61162cbd</td>\n",
       "      <td>What should I prioritize: informing the cabin ...</td>\n",
       "      <td>You should prioritize maintaining aircraft con...</td>\n",
       "    </tr>\n",
       "    <tr>\n",
       "      <th>4</th>\n",
       "      <td>f66c8aa4</td>\n",
       "      <td>What speed should I reduce to during turbulence?</td>\n",
       "      <td>The flight manual information provided does no...</td>\n",
       "    </tr>\n",
       "  </tbody>\n",
       "</table>\n",
       "</div>"
      ],
      "text/plain": [
       "     doc_id                                           question  \\\n",
       "0  15f6e195  How should I manage the aircraft's bank during...   \n",
       "1  f66c8aa4  Can you provide the turbulence penetration spe...   \n",
       "2  15f6e195  Are there any specific maneuvers to avoid whil...   \n",
       "3  61162cbd  What should I prioritize: informing the cabin ...   \n",
       "4  f66c8aa4   What speed should I reduce to during turbulence?   \n",
       "\n",
       "                                          answer_llm  \n",
       "0  During a stall warning, you should avoid banki...  \n",
       "1  The provided flight manual information does no...  \n",
       "2  Yes, when handling a stall warning, you should...  \n",
       "3  You should prioritize maintaining aircraft con...  \n",
       "4  The flight manual information provided does no...  "
      ]
     },
     "execution_count": 115,
     "metadata": {},
     "output_type": "execute_result"
    }
   ],
   "source": [
    "df_llm_answers.head()"
   ]
  },
  {
   "cell_type": "markdown",
   "id": "4a20327d",
   "metadata": {},
   "source": [
    "### As we dont have original answers to evaluate the generated llm answers We will use LLM as a Judge approach"
   ]
  },
  {
   "cell_type": "code",
   "execution_count": 116,
   "id": "123a1048",
   "metadata": {},
   "outputs": [],
   "source": [
    "prompt2_template = \"\"\"\n",
    "    You are an expert evaluator for a Retrieval-Augmented Generation (RAG) system.\n",
    "    Your task is to analyze the relevance of the generated answer to the given question.\n",
    "    Based on the relevance of the generated answer, you will classify it\n",
    "    as \"NON_RELEVANT\", \"PARTLY_RELEVANT\", or \"RELEVANT\".\n",
    "\n",
    "  Here is the data for evaluation:\n",
    "\n",
    "  Question: {question}\n",
    "  Generated Answer: {answer_llm}\n",
    "\n",
    "  Please analyze the content and context of the generated answer in relation to the question\n",
    "  and provide your evaluation in parsable JSON without using code blocks:\n",
    "\n",
    "  {{\n",
    "    \"Relevance\": \"NON_RELEVANT\" | \"PARTLY_RELEVANT\" | \"RELEVANT\",\n",
    "    \"Explanation\": \"[Provide a brief explanation for your evaluation]\"\n",
    "  }}\n",
    "  \"\"\".strip()"
   ]
  },
  {
   "cell_type": "code",
   "execution_count": 117,
   "id": "1a352071",
   "metadata": {},
   "outputs": [],
   "source": [
    "df_sample = df_llm_answers.sample(n=150, random_state=1)\n"
   ]
  },
  {
   "cell_type": "code",
   "execution_count": 118,
   "id": "e7c6bab1",
   "metadata": {},
   "outputs": [],
   "source": [
    "samples = df_sample.to_dict(orient='records')\n"
   ]
  },
  {
   "cell_type": "code",
   "execution_count": 119,
   "id": "8f805089",
   "metadata": {},
   "outputs": [
    {
     "data": {
      "text/plain": [
       "{'doc_id': '409ce57a',\n",
       " 'question': 'Can you guide me through the alternate gear extension procedures?',\n",
       " 'answer_llm': \"Certainly! While the specific steps for alternate gear extension procedures can vary depending on the aircraft type, the general process usually involves the following steps:\\n\\n1. **Prepare for Alternate Extension**:\\n   - Ensure that you have notified ATC of the landing gear malfunction and your intentions.\\n   - Assess the situation and prepare the cockpit for the alternate gear extension.\\n\\n2. **Locate the Alternate Gear Extension Mechanism**:\\n   - Identify the location of the alternate gear extension handle or mechanism in the cockpit. This is typically found in the landing gear section of the overhead panel or near the throttle quadrant.\\n\\n3. **Check the Gear Position Indicators**:\\n   - Verify the current position of the landing gear using the gear position indicators. This will help you understand whether the gear is up or down.\\n\\n4. **Perform the Alternate Gear Extension**:\\n   - Pull the alternate gear extension handle or activate the alternate extension mechanism as per the aircraft's flight manual.\\n   - This action typically releases the landing gear from its locked position, allowing it to free-fall into the down position.\\n\\n5. **Monitor the Gear Indicators**:\\n   - Keep an eye on the gear position indicators to confirm that the landing gear has successfully extended and locked into place.\\n\\n6. **Prepare for Landing**:\\n   - Once the gear is confirmed down and locked, proceed with your landing checklist.\\n   - Ensure that you have accounted for any potential changes in landing performance due to the gear malfunction.\\n\\n7. **Communicate with ATC**:\\n   - Inform ATC that you have successfully extended the landing gear and are preparing for landing.\\n\\n8. **Land the Aircraft**:\\n   - Proceed with landing, ensuring to follow standard landing procedures and be prepared for any abnormal behavior during touchdown.\\n\\nRemember to refer to your specific aircraft's flight manual for detailed instructions and any aircraft-specific considerations. If you have any further questions or need clarification on any steps, feel free to ask!\"}"
      ]
     },
     "execution_count": 119,
     "metadata": {},
     "output_type": "execute_result"
    }
   ],
   "source": [
    "record = samples[0]\n",
    "record"
   ]
  },
  {
   "cell_type": "code",
   "execution_count": 120,
   "id": "65d967bc",
   "metadata": {},
   "outputs": [
    {
     "name": "stdout",
     "output_type": "stream",
     "text": [
      "You are an expert evaluator for a Retrieval-Augmented Generation (RAG) system.\n",
      "    Your task is to analyze the relevance of the generated answer to the given question.\n",
      "    Based on the relevance of the generated answer, you will classify it\n",
      "    as \"NON_RELEVANT\", \"PARTLY_RELEVANT\", or \"RELEVANT\".\n",
      "\n",
      "  Here is the data for evaluation:\n",
      "\n",
      "  Question: Can you guide me through the alternate gear extension procedures?\n",
      "  Generated Answer: Certainly! While the specific steps for alternate gear extension procedures can vary depending on the aircraft type, the general process usually involves the following steps:\n",
      "\n",
      "1. **Prepare for Alternate Extension**:\n",
      "   - Ensure that you have notified ATC of the landing gear malfunction and your intentions.\n",
      "   - Assess the situation and prepare the cockpit for the alternate gear extension.\n",
      "\n",
      "2. **Locate the Alternate Gear Extension Mechanism**:\n",
      "   - Identify the location of the alternate gear extension handle or mechanism in the cockpit. This is typically found in the landing gear section of the overhead panel or near the throttle quadrant.\n",
      "\n",
      "3. **Check the Gear Position Indicators**:\n",
      "   - Verify the current position of the landing gear using the gear position indicators. This will help you understand whether the gear is up or down.\n",
      "\n",
      "4. **Perform the Alternate Gear Extension**:\n",
      "   - Pull the alternate gear extension handle or activate the alternate extension mechanism as per the aircraft's flight manual.\n",
      "   - This action typically releases the landing gear from its locked position, allowing it to free-fall into the down position.\n",
      "\n",
      "5. **Monitor the Gear Indicators**:\n",
      "   - Keep an eye on the gear position indicators to confirm that the landing gear has successfully extended and locked into place.\n",
      "\n",
      "6. **Prepare for Landing**:\n",
      "   - Once the gear is confirmed down and locked, proceed with your landing checklist.\n",
      "   - Ensure that you have accounted for any potential changes in landing performance due to the gear malfunction.\n",
      "\n",
      "7. **Communicate with ATC**:\n",
      "   - Inform ATC that you have successfully extended the landing gear and are preparing for landing.\n",
      "\n",
      "8. **Land the Aircraft**:\n",
      "   - Proceed with landing, ensuring to follow standard landing procedures and be prepared for any abnormal behavior during touchdown.\n",
      "\n",
      "Remember to refer to your specific aircraft's flight manual for detailed instructions and any aircraft-specific considerations. If you have any further questions or need clarification on any steps, feel free to ask!\n",
      "\n",
      "  Please analyze the content and context of the generated answer in relation to the question\n",
      "  and provide your evaluation in parsable JSON without using code blocks:\n",
      "\n",
      "  {\n",
      "    \"Relevance\": \"NON_RELEVANT\" | \"PARTLY_RELEVANT\" | \"RELEVANT\",\n",
      "    \"Explanation\": \"[Provide a brief explanation for your evaluation]\"\n",
      "  }\n"
     ]
    }
   ],
   "source": [
    "prompt = prompt2_template.format(**record)\n",
    "print(prompt)"
   ]
  },
  {
   "cell_type": "code",
   "execution_count": 121,
   "id": "fd17e0c8",
   "metadata": {},
   "outputs": [
    {
     "data": {
      "application/vnd.jupyter.widget-view+json": {
       "model_id": "8935f8c113644fa0b280046d80d3c45b",
       "version_major": 2,
       "version_minor": 0
      },
      "text/plain": [
       "  0%|          | 0/150 [00:00<?, ?it/s]"
      ]
     },
     "metadata": {},
     "output_type": "display_data"
    }
   ],
   "source": [
    "evaluations = []\n",
    "\n",
    "for record in tqdm(samples):\n",
    "    prompt = prompt2_template.format(**record)\n",
    "    evaluation = generate_answer(prompt)    \n",
    "    evaluations.append(evaluation)"
   ]
  },
  {
   "cell_type": "code",
   "execution_count": 124,
   "id": "3e96bd6c",
   "metadata": {},
   "outputs": [
    {
     "data": {
      "text/plain": [
       "'{\\n  \"Relevance\": \"RELEVANT\",\\n  \"Explanation\": \"The generated answer provides a detailed step-by-step guide on alternate gear extension procedures, addressing the question directly. It includes essential actions to take, checks to perform, and communication with ATC, which are all relevant to the inquiry about guiding someone through these procedures.\"\\n}'"
      ]
     },
     "execution_count": 124,
     "metadata": {},
     "output_type": "execute_result"
    }
   ],
   "source": [
    "evaluations[0]"
   ]
  },
  {
   "cell_type": "code",
   "execution_count": 125,
   "id": "79daa4a1",
   "metadata": {},
   "outputs": [],
   "source": [
    "json_evaluations = []\n",
    "\n",
    "for i, str_eval in enumerate(evaluations):\n",
    "    json_eval = json.loads(str_eval)\n",
    "    json_evaluations.append(json_eval)"
   ]
  },
  {
   "cell_type": "code",
   "execution_count": 126,
   "id": "e87bbf0c",
   "metadata": {},
   "outputs": [
    {
     "data": {
      "text/plain": [
       "{'Relevance': 'RELEVANT',\n",
       " 'Explanation': 'The generated answer provides a detailed step-by-step guide on alternate gear extension procedures, addressing the question directly. It includes essential actions to take, checks to perform, and communication with ATC, which are all relevant to the inquiry about guiding someone through these procedures.'}"
      ]
     },
     "execution_count": 126,
     "metadata": {},
     "output_type": "execute_result"
    }
   ],
   "source": [
    "json_evaluations[0]"
   ]
  },
  {
   "cell_type": "code",
   "execution_count": 127,
   "id": "25b55265",
   "metadata": {},
   "outputs": [],
   "source": [
    "df_evaluations = pd.DataFrame(json_evaluations)\n"
   ]
  },
  {
   "cell_type": "code",
   "execution_count": 128,
   "id": "882c112e",
   "metadata": {},
   "outputs": [
    {
     "data": {
      "text/plain": [
       "Relevance\n",
       "RELEVANT           130\n",
       "PARTLY_RELEVANT     19\n",
       "NON_RELEVANT         1\n",
       "Name: count, dtype: int64"
      ]
     },
     "execution_count": 128,
     "metadata": {},
     "output_type": "execute_result"
    }
   ],
   "source": [
    "df_evaluations.Relevance.value_counts()\n"
   ]
  },
  {
   "cell_type": "code",
   "execution_count": 129,
   "id": "64005341",
   "metadata": {},
   "outputs": [
    {
     "data": {
      "text/html": [
       "<div>\n",
       "<style scoped>\n",
       "    .dataframe tbody tr th:only-of-type {\n",
       "        vertical-align: middle;\n",
       "    }\n",
       "\n",
       "    .dataframe tbody tr th {\n",
       "        vertical-align: top;\n",
       "    }\n",
       "\n",
       "    .dataframe thead th {\n",
       "        text-align: right;\n",
       "    }\n",
       "</style>\n",
       "<table border=\"1\" class=\"dataframe\">\n",
       "  <thead>\n",
       "    <tr style=\"text-align: right;\">\n",
       "      <th></th>\n",
       "      <th>Relevance</th>\n",
       "      <th>Explanation</th>\n",
       "    </tr>\n",
       "  </thead>\n",
       "  <tbody>\n",
       "    <tr>\n",
       "      <th>58</th>\n",
       "      <td>NON_RELEVANT</td>\n",
       "      <td>The generated answer does not provide any info...</td>\n",
       "    </tr>\n",
       "  </tbody>\n",
       "</table>\n",
       "</div>"
      ],
      "text/plain": [
       "       Relevance                                        Explanation\n",
       "58  NON_RELEVANT  The generated answer does not provide any info..."
      ]
     },
     "execution_count": 129,
     "metadata": {},
     "output_type": "execute_result"
    }
   ],
   "source": [
    "df_evaluations[df_evaluations['Relevance'] == \"NON_RELEVANT\"]"
   ]
  },
  {
   "cell_type": "code",
   "execution_count": 131,
   "id": "eba43945",
   "metadata": {},
   "outputs": [],
   "source": [
    "df_evaluations.to_csv('../data/flight-manuals-evaluations-qa.csv', index=False)\n"
   ]
  }
 ],
 "metadata": {
  "kernelspec": {
   "display_name": "AviMate-LLM-RbionjtU",
   "language": "python",
   "name": "python3"
  },
  "language_info": {
   "codemirror_mode": {
    "name": "ipython",
    "version": 3
   },
   "file_extension": ".py",
   "mimetype": "text/x-python",
   "name": "python",
   "nbconvert_exporter": "python",
   "pygments_lexer": "ipython3",
   "version": "3.11.5"
  }
 },
 "nbformat": 4,
 "nbformat_minor": 5
}
