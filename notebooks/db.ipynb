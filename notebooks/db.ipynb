{
 "cells": [
  {
   "cell_type": "code",
   "execution_count": 2,
   "metadata": {},
   "outputs": [],
   "source": [
    "import os\n",
    "import psycopg2\n",
    "\n"
   ]
  },
  {
   "cell_type": "code",
   "execution_count": 8,
   "metadata": {},
   "outputs": [],
   "source": [
    "conn = psycopg2.connect(\n",
    "        host=os.getenv(\"POSTGRES_HOST\", \"localhost\"),\n",
    "        database=os.getenv(\"POSTGRES_DB\", \"flight-assistant\"),\n",
    "        user=os.getenv(\"POSTGRES_USER\", \"root\"),\n",
    "        password=os.getenv(\"POSTGRES_PASSWORD\", \"root\")\n",
    "        )"
   ]
  },
  {
   "cell_type": "code",
   "execution_count": 10,
   "metadata": {},
   "outputs": [
    {
     "name": "stdout",
     "output_type": "stream",
     "text": [
      "Conversation ID: ee43c9e6-de4d-447e-b6fb-9237db9392b2\n",
      "User Input: What shall i do for Icing Conditions scenarios?\n",
      "Bot Response: For Icing Conditions scenarios, you should:\n",
      "\n",
      "1. Report icing conditions to ATC.\n",
      "2. Request a vector to exit the icing area.\n",
      "3. Perform de-icing procedures as necessary.\n",
      "---\n",
      "Conversation ID: a287c67f-8e56-4f27-ab87-32a78fd61a50\n",
      "User Input: What shall i do for Icing Conditions scenarios?\n",
      "Bot Response: In Icing Conditions scenarios, you should take the following actions:\n",
      "\n",
      "1. Report icing conditions to ATC.\n",
      "2. Request a vector to exit the icing area.\n",
      "3. Perform de-icing procedures as outlined in your flight manual.\n",
      "---\n"
     ]
    }
   ],
   "source": [
    "import psycopg2\n",
    "import streamlit as st\n",
    "\n",
    "def fetch_conversations():\n",
    "    # Connect to PostgreSQL database\n",
    "    conn = psycopg2.connect(\n",
    "            host=os.getenv(\"POSTGRES_HOST\", \"localhost\"),\n",
    "            database=os.getenv(\"POSTGRES_DB\", \"flight-assistant\"),\n",
    "            user=os.getenv(\"POSTGRES_USER\", \"root\"),\n",
    "            password=os.getenv(\"POSTGRES_PASSWORD\", \"root\")\n",
    "            )\n",
    "    \n",
    "    cur = conn.cursor()\n",
    "    \n",
    "    # Execute a query to fetch all conversations\n",
    "    cur.execute(\"SELECT * FROM conversations\")\n",
    "    \n",
    "    rows = cur.fetchall()\n",
    "    \n",
    "    # Display the results in Streamlit\n",
    "    for row in rows:\n",
    "       print(f\"Conversation ID: {row[0]}\")\n",
    "       print(f\"User Input: {row[1]}\")\n",
    "       print(f\"Bot Response: {row[2]}\")\n",
    "       print(\"---\")\n",
    "    \n",
    "    cur.close()\n",
    "    conn.close()\n",
    "\n",
    "fetch_conversations()\n"
   ]
  },
  {
   "cell_type": "code",
   "execution_count": 15,
   "metadata": {},
   "outputs": [],
   "source": [
    "def fetch_feedback():\n",
    "    # Connect to PostgreSQL database\n",
    "    conn = psycopg2.connect(\n",
    "            host=os.getenv(\"POSTGRES_HOST\", \"localhost\"),\n",
    "            database=os.getenv(\"POSTGRES_DB\", \"flight-assistant\"),\n",
    "            user=os.getenv(\"POSTGRES_USER\", \"root\"),\n",
    "            password=os.getenv(\"POSTGRES_PASSWORD\", \"root\")\n",
    "            )\n",
    "    \n",
    "    cur = conn.cursor()\n",
    "    \n",
    "    # Execute a query to fetch all feedback\n",
    "    cur.execute(\"\"\"\n",
    "        SELECT conversation_id, feedback\n",
    "        FROM feedback\n",
    "    \"\"\")\n",
    "    \n",
    "    rows = cur.fetchall()\n",
    "    \n",
    "    # Display the results in Streamlit\n",
    "    for row in rows:\n",
    "        st.write(f\"Conversation ID: {row[0]}\")\n",
    "        st.write(f\"Feedback: {row[1]}\")\n",
    "        st.write(\"---\")\n",
    "    \n",
    "    cur.close()\n",
    "\n",
    "fetch_feedback()"
   ]
  }
 ],
 "metadata": {
  "kernelspec": {
   "display_name": "AviMate-LLM-RbionjtU",
   "language": "python",
   "name": "python3"
  },
  "language_info": {
   "codemirror_mode": {
    "name": "ipython",
    "version": 3
   },
   "file_extension": ".py",
   "mimetype": "text/x-python",
   "name": "python",
   "nbconvert_exporter": "python",
   "pygments_lexer": "ipython3",
   "version": "3.11.5"
  }
 },
 "nbformat": 4,
 "nbformat_minor": 2
}
