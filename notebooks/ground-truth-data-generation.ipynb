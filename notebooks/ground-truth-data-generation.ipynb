{
 "cells": [
  {
   "cell_type": "code",
   "execution_count": 69,
   "metadata": {},
   "outputs": [],
   "source": [
    "import pandas as pd\n",
    "from openai import OpenAI\n",
    "import json\n",
    "\n"
   ]
  },
  {
   "cell_type": "code",
   "execution_count": 70,
   "metadata": {},
   "outputs": [],
   "source": [
    "client = OpenAI()"
   ]
  },
  {
   "cell_type": "code",
   "execution_count": 71,
   "metadata": {},
   "outputs": [],
   "source": [
    "df_flight_manuals = pd.read_csv('../data/flight_manuals.csv', encoding='ISO-8859-1')\n"
   ]
  },
  {
   "cell_type": "code",
   "execution_count": 72,
   "metadata": {},
   "outputs": [],
   "source": [
    "def clean_column_names(df):\n",
    "    clean_column_names = []\n",
    "    for col in df.columns:\n",
    "        clean_column_names.append(col.lower().replace(' ','_'))\n",
    "     \n",
    "    return clean_column_names"
   ]
  },
  {
   "cell_type": "code",
   "execution_count": 73,
   "metadata": {},
   "outputs": [],
   "source": [
    "df_flight_manuals.columns = clean_column_names(df_flight_manuals)"
   ]
  },
  {
   "cell_type": "code",
   "execution_count": 74,
   "metadata": {},
   "outputs": [
    {
     "name": "stdout",
     "output_type": "stream",
     "text": [
      "manual_section    0\n",
      "scenario          0\n",
      "instructions      0\n",
      "dtype: int64\n"
     ]
    }
   ],
   "source": [
    "# Check for missing values\n",
    "print(df_flight_manuals.isnull().sum())\n",
    "\n",
    "# Drop rows with missing values (if any)\n",
    "df_flight_manuals.dropna(inplace=True)\n",
    "\n",
    "# drop duplicates\n",
    "df_flight_manuals.drop_duplicates(inplace=True)\n",
    "\n",
    "# Reset index after dropping rows\n",
    "df_flight_manuals.reset_index(drop=True, inplace=True)"
   ]
  },
  {
   "cell_type": "code",
   "execution_count": 75,
   "metadata": {},
   "outputs": [
    {
     "data": {
      "text/plain": [
       "(300, 3)"
      ]
     },
     "execution_count": 75,
     "metadata": {},
     "output_type": "execute_result"
    }
   ],
   "source": [
    "df_flight_manuals.shape"
   ]
  },
  {
   "cell_type": "code",
   "execution_count": 79,
   "metadata": {},
   "outputs": [],
   "source": [
    "flight_manuals_documents = df_flight_manuals.to_dict(orient='records')\n"
   ]
  },
  {
   "cell_type": "code",
   "execution_count": 80,
   "metadata": {},
   "outputs": [],
   "source": [
    "import hashlib"
   ]
  },
  {
   "cell_type": "code",
   "execution_count": 81,
   "metadata": {},
   "outputs": [],
   "source": [
    "def generate_document_id(doc):\n",
    "    combined = f\"{doc['manual_section'] + doc['scenario'] + doc['instructions'][:10]}\"\n",
    "    hash_object = hashlib.md5(combined.encode())\n",
    "    hash_hex = hash_object.hexdigest()\n",
    "    document_id = hash_hex[:8]\n",
    "    return document_id"
   ]
  },
  {
   "cell_type": "code",
   "execution_count": 82,
   "metadata": {},
   "outputs": [],
   "source": [
    "# create id for each row\n",
    "for doc in flight_manuals_documents:\n",
    "    doc['id'] = generate_document_id(doc)"
   ]
  },
  {
   "cell_type": "code",
   "execution_count": 83,
   "metadata": {},
   "outputs": [
    {
     "data": {
      "text/plain": [
       "{'manual_section': 'AOM Section 7',\n",
       " 'scenario': 'Fuel Leak',\n",
       " 'instructions': 'Monitor fuel levels closely, communicate fuel status to ATC.',\n",
       " 'id': 'd2530459'}"
      ]
     },
     "execution_count": 83,
     "metadata": {},
     "output_type": "execute_result"
    }
   ],
   "source": [
    "flight_manuals_documents[3]"
   ]
  },
  {
   "cell_type": "code",
   "execution_count": 84,
   "metadata": {},
   "outputs": [],
   "source": [
    "with open('../data/flight_manuals_documents-with-ids.json', 'wt') as f_out:\n",
    "    json.dump(flight_manuals_documents, f_out, indent=2)"
   ]
  },
  {
   "cell_type": "code",
   "execution_count": 85,
   "metadata": {},
   "outputs": [],
   "source": [
    "prompt_template = \"\"\"\n",
    "You emulate a user or captain of our AviMate Pilot cockpit assistant application.\n",
    "Formulate 5 questions this user might ask based on a provided exercise.\n",
    "Make the questions specific to this exercise.\n",
    "The record should contain the answer to the questions, and the questions should\n",
    "be complete and not too short. Use as fewer words as possible from the record. \n",
    "\n",
    "The record:\n",
    "\n",
    "manual_section: {manual_section}\n",
    "scenario : {scenario}\n",
    "instructions: {instructions}\n",
    "\n",
    "\n",
    "Provide the output in parsable JSON without using code blocks:\n",
    "\n",
    "{{\"questions\": [\"question1\", \"question2\", ..., \"question5\"]}}\n",
    "\"\"\".strip()"
   ]
  },
  {
   "cell_type": "code",
   "execution_count": 86,
   "metadata": {},
   "outputs": [
    {
     "name": "stdout",
     "output_type": "stream",
     "text": [
      "You emulate a user or captain of our AviMate Pilot cockpit assistant application.\n",
      "Formulate 5 questions this user might ask based on a provided exercise.\n",
      "Make the questions specific to this exercise.\n",
      "The record should contain the answer to the questions, and the questions should\n",
      "be complete and not too short. Use as fewer words as possible from the record. \n",
      "\n",
      "The record:\n",
      "\n",
      "manual_section: AOM Section 3\n",
      "scenario : Electrical Failure\n",
      "instructions: Advise cabin crew of situation, maintain visual contact with other aircraft.\n",
      "\n",
      "\n",
      "Provide the output in parsable JSON without using code blocks:\n",
      "\n",
      "{\"questions\": [\"question1\", \"question2\", ..., \"question5\"]}\n"
     ]
    }
   ],
   "source": [
    "prompt = prompt_template.format(**flight_manuals_documents[0])\n",
    "print(prompt)\n"
   ]
  },
  {
   "cell_type": "code",
   "execution_count": 87,
   "metadata": {},
   "outputs": [],
   "source": [
    "def llm(prompt):\n",
    "    response = client.chat.completions.create(\n",
    "        model='gpt-4o-mini',\n",
    "        messages=[{\"role\": \"user\", \"content\": prompt}]\n",
    "    )\n",
    "    \n",
    "    return response.choices[0].message.content"
   ]
  },
  {
   "cell_type": "code",
   "execution_count": 89,
   "metadata": {},
   "outputs": [
    {
     "name": "stdout",
     "output_type": "stream",
     "text": [
      "{\"questions\": [\"What steps should I take to inform the cabin crew about the electrical failure?\", \"How do I maintain visual contact with other aircraft during this scenario?\", \"Are there specific protocols for communicating with other aircraft in case of an electrical failure?\", \"What actions should I prioritize when dealing with an electrical failure situation?\", \"Is there any immediate checklist I need to follow for electrical failure management?\"]}\n"
     ]
    }
   ],
   "source": [
    "questions = llm(prompt)\n",
    "print(questions)"
   ]
  },
  {
   "cell_type": "code",
   "execution_count": 90,
   "metadata": {},
   "outputs": [
    {
     "data": {
      "text/plain": [
       "{'questions': ['What steps should I take to inform the cabin crew about the electrical failure?',\n",
       "  'How do I maintain visual contact with other aircraft during this scenario?',\n",
       "  'Are there specific protocols for communicating with other aircraft in case of an electrical failure?',\n",
       "  'What actions should I prioritize when dealing with an electrical failure situation?',\n",
       "  'Is there any immediate checklist I need to follow for electrical failure management?']}"
      ]
     },
     "execution_count": 90,
     "metadata": {},
     "output_type": "execute_result"
    }
   ],
   "source": [
    "json.loads(questions)\n"
   ]
  },
  {
   "cell_type": "code",
   "execution_count": 91,
   "metadata": {},
   "outputs": [],
   "source": [
    "def generate_questions(doc):\n",
    "    prompt = prompt_template.format(**doc)\n",
    "\n",
    "    response = client.chat.completions.create(\n",
    "        model='gpt-4o-mini',\n",
    "        messages=[{\"role\": \"user\", \"content\": prompt}]\n",
    "    )\n",
    "\n",
    "    json_response = response.choices[0].message.content\n",
    "    return json_response"
   ]
  },
  {
   "cell_type": "code",
   "execution_count": 92,
   "metadata": {},
   "outputs": [],
   "source": [
    "from tqdm.auto import tqdm\n",
    "import pickle\n"
   ]
  },
  {
   "cell_type": "code",
   "execution_count": 93,
   "metadata": {},
   "outputs": [],
   "source": [
    "results = {}\n"
   ]
  },
  {
   "cell_type": "code",
   "execution_count": 94,
   "metadata": {},
   "outputs": [
    {
     "data": {
      "application/vnd.jupyter.widget-view+json": {
       "model_id": "727fe036551e4c9b968ab809a4c516fc",
       "version_major": 2,
       "version_minor": 0
      },
      "text/plain": [
       "  0%|          | 0/300 [00:00<?, ?it/s]"
      ]
     },
     "metadata": {},
     "output_type": "display_data"
    }
   ],
   "source": [
    "for doc in tqdm(flight_manuals_documents): \n",
    "    doc_id = doc['id']\n",
    "    if doc_id in results:\n",
    "        continue\n",
    "\n",
    "    questions_raw = generate_questions(doc)\n",
    "    questions = json.loads(questions_raw)\n",
    "    results[doc_id] = questions['questions']"
   ]
  },
  {
   "cell_type": "code",
   "execution_count": 95,
   "metadata": {},
   "outputs": [],
   "source": [
    "final_results = []\n",
    "\n",
    "for doc_id, questions in results.items():\n",
    "    for q in questions:\n",
    "        final_results.append((doc_id, q))\n"
   ]
  },
  {
   "cell_type": "code",
   "execution_count": 96,
   "metadata": {},
   "outputs": [
    {
     "data": {
      "text/plain": [
       "('61162cbd',\n",
       " 'What specific instructions should I give to the cabin crew during an electrical failure?')"
      ]
     },
     "execution_count": 96,
     "metadata": {},
     "output_type": "execute_result"
    }
   ],
   "source": [
    "final_results[0]"
   ]
  },
  {
   "cell_type": "code",
   "execution_count": 97,
   "metadata": {},
   "outputs": [],
   "source": [
    "df_results = pd.DataFrame(final_results, columns=['id', 'question'])\n"
   ]
  },
  {
   "cell_type": "code",
   "execution_count": 98,
   "metadata": {},
   "outputs": [],
   "source": [
    "df_results.to_csv('../data/ground-truth-data-flight-manuals.csv', index=False)\n"
   ]
  },
  {
   "cell_type": "code",
   "execution_count": 99,
   "metadata": {},
   "outputs": [],
   "source": [
    "from collections import defaultdict"
   ]
  },
  {
   "cell_type": "code",
   "execution_count": 100,
   "metadata": {},
   "outputs": [
    {
     "data": {
      "text/plain": [
       "defaultdict(list, {})"
      ]
     },
     "execution_count": 100,
     "metadata": {},
     "output_type": "execute_result"
    }
   ],
   "source": [
    "hashes = defaultdict(list)\n",
    "hashes"
   ]
  },
  {
   "cell_type": "code",
   "execution_count": 101,
   "metadata": {},
   "outputs": [],
   "source": [
    "for doc in flight_manuals_documents:\n",
    "    doc_id = doc['id']\n",
    "    hashes[doc_id].append(doc)"
   ]
  },
  {
   "cell_type": "code",
   "execution_count": 102,
   "metadata": {},
   "outputs": [
    {
     "data": {
      "text/plain": [
       "(300, 300)"
      ]
     },
     "execution_count": 102,
     "metadata": {},
     "output_type": "execute_result"
    }
   ],
   "source": [
    "len(hashes), len(flight_manuals_documents)"
   ]
  },
  {
   "cell_type": "code",
   "execution_count": 103,
   "metadata": {},
   "outputs": [],
   "source": [
    "for k, values in hashes.items():\n",
    "    if len(values) > 1:\n",
    "        print(k, len(values))"
   ]
  },
  {
   "cell_type": "code",
   "execution_count": 54,
   "metadata": {},
   "outputs": [
    {
     "data": {
      "text/plain": [
       "[{'manual_section': 'AOM Section 10',\n",
       "  'scenario': 'Hydraulic Failure',\n",
       "  'instructions': 'Switch to backup hydraulic system, contact ATC for nearest airport diversion.',\n",
       "  'id': '6f874e56'},\n",
       " {'manual_section': 'AOM Section 10',\n",
       "  'scenario': 'Hydraulic Failure',\n",
       "  'instructions': 'Switch to backup hydraulic system, contact ATC for nearest airport diversion.',\n",
       "  'id': '6f874e56'},\n",
       " {'manual_section': 'AOM Section 10',\n",
       "  'scenario': 'Hydraulic Failure',\n",
       "  'instructions': 'Switch to backup hydraulic system, contact ATC for nearest airport diversion.',\n",
       "  'id': '6f874e56'},\n",
       " {'manual_section': 'AOM Section 10',\n",
       "  'scenario': 'Hydraulic Failure',\n",
       "  'instructions': 'Switch to backup hydraulic system, contact ATC for nearest airport diversion.',\n",
       "  'id': '6f874e56'},\n",
       " {'manual_section': 'AOM Section 10',\n",
       "  'scenario': 'Hydraulic Failure',\n",
       "  'instructions': 'Switch to backup hydraulic system, contact ATC for nearest airport diversion.',\n",
       "  'id': '6f874e56'}]"
      ]
     },
     "execution_count": 54,
     "metadata": {},
     "output_type": "execute_result"
    }
   ],
   "source": [
    "hashes['6f874e56']\n"
   ]
  },
  {
   "cell_type": "code",
   "execution_count": null,
   "metadata": {},
   "outputs": [],
   "source": []
  }
 ],
 "metadata": {
  "kernelspec": {
   "display_name": "AviMate-LLM-RbionjtU",
   "language": "python",
   "name": "python3"
  },
  "language_info": {
   "codemirror_mode": {
    "name": "ipython",
    "version": 3
   },
   "file_extension": ".py",
   "mimetype": "text/x-python",
   "name": "python",
   "nbconvert_exporter": "python",
   "pygments_lexer": "ipython3",
   "version": "3.11.5"
  }
 },
 "nbformat": 4,
 "nbformat_minor": 2
}
