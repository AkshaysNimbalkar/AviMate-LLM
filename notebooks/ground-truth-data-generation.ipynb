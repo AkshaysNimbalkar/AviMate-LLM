{
 "cells": [
  {
   "cell_type": "code",
   "execution_count": 69,
   "metadata": {},
   "outputs": [],
   "source": [
    "import pandas as pd\n",
    "from openai import OpenAI\n",
    "import json\n",
    "\n"
   ]
  },
  {
   "cell_type": "code",
   "execution_count": 70,
   "metadata": {},
   "outputs": [],
   "source": [
    "client = OpenAI()"
   ]
  },
  {
   "cell_type": "code",
   "execution_count": 71,
   "metadata": {},
   "outputs": [],
   "source": [
    "df_flight_manuals = pd.read_csv('../data/flight_manuals.csv', encoding='ISO-8859-1')\n"
   ]
  },
  {
   "cell_type": "code",
   "execution_count": 72,
   "metadata": {},
   "outputs": [],
   "source": [
    "def clean_column_names(df):\n",
    "    clean_column_names = []\n",
    "    for col in df.columns:\n",
    "        clean_column_names.append(col.lower().replace(' ','_'))\n",
    "     \n",
    "    return clean_column_names"
   ]
  },
  {
   "cell_type": "code",
   "execution_count": 73,
   "metadata": {},
   "outputs": [],
   "source": [
    "df_flight_manuals.columns = clean_column_names(df_flight_manuals)"
   ]
  },
  {
   "cell_type": "code",
   "execution_count": 74,
   "metadata": {},
   "outputs": [
    {
     "name": "stdout",
     "output_type": "stream",
     "text": [
      "manual_section    0\n",
      "scenario          0\n",
      "instructions      0\n",
      "dtype: int64\n"
     ]
    }
   ],
   "source": [
    "# Check for missing values\n",
    "print(df_flight_manuals.isnull().sum())\n",
    "\n",
    "# Drop rows with missing values (if any)\n",
    "df_flight_manuals.dropna(inplace=True)\n",
    "\n",
    "# drop duplicates\n",
    "df_flight_manuals.drop_duplicates(inplace=True)\n",
    "\n",
    "# Reset index after dropping rows\n",
    "df_flight_manuals.reset_index(drop=True, inplace=True)"
   ]
  },
  {
   "cell_type": "code",
   "execution_count": 75,
   "metadata": {},
   "outputs": [
    {
     "data": {
      "text/plain": [
       "(300, 3)"
      ]
     },
     "execution_count": 75,
     "metadata": {},
     "output_type": "execute_result"
    }
   ],
   "source": [
    "df_flight_manuals.shape"
   ]
  },
  {
   "cell_type": "code",
   "execution_count": 8,
   "metadata": {},
   "outputs": [],
   "source": [
    "flight_manuals_documents = df_flight_manuals.to_dict(orient='records')\n"
   ]
  },
  {
   "cell_type": "code",
   "execution_count": 9,
   "metadata": {},
   "outputs": [],
   "source": [
    "import hashlib"
   ]
  },
  {
   "cell_type": "code",
   "execution_count": 19,
   "metadata": {},
   "outputs": [],
   "source": [
    "def generate_document_id(doc):\n",
    "    combined = f\"{doc['manual_section'] + doc['scenario'] + doc['instructions'][:10]}\"\n",
    "    hash_object = hashlib.md5(combined.encode())\n",
    "    hash_hex = hash_object.hexdigest()\n",
    "    document_id = hash_hex[:8]\n",
    "    return document_id"
   ]
  },
  {
   "cell_type": "code",
   "execution_count": 20,
   "metadata": {},
   "outputs": [],
   "source": [
    "# create id for each row\n",
    "for doc in flight_manuals_documents:\n",
    "    doc['id'] = generate_document_id(doc)"
   ]
  },
  {
   "cell_type": "code",
   "execution_count": 21,
   "metadata": {},
   "outputs": [
    {
     "data": {
      "text/plain": [
       "{'manual_section': 'AOM Section 3',\n",
       " 'scenario': 'Icing Conditions',\n",
       " 'instructions': 'Activate anti-ice systems, monitor fuel temperature, consider altitude change.',\n",
       " 'id': '998902cf'}"
      ]
     },
     "execution_count": 21,
     "metadata": {},
     "output_type": "execute_result"
    }
   ],
   "source": [
    "flight_manuals_documents[3]"
   ]
  },
  {
   "cell_type": "code",
   "execution_count": 24,
   "metadata": {},
   "outputs": [],
   "source": [
    "with open('../data/flight_manuals_documents-with-ids.json', 'wt') as f_out:\n",
    "    json.dump(flight_manuals_documents, f_out, indent=2)"
   ]
  },
  {
   "cell_type": "code",
   "execution_count": 25,
   "metadata": {},
   "outputs": [],
   "source": [
    "prompt_template = \"\"\"\n",
    "You emulate a user or captain of our AviMate Pilot cockpit assistant application.\n",
    "Formulate 5 questions this user might ask based on a provided exercise.\n",
    "Make the questions specific to this exercise.\n",
    "The record should contain the answer to the questions, and the questions should\n",
    "be complete and not too short. Use as fewer words as possible from the record. \n",
    "\n",
    "The record:\n",
    "\n",
    "manual_section: {manual_section}\n",
    "scenario : {scenario}\n",
    "instructions: {instructions}\n",
    "\n",
    "\n",
    "Provide the output in parsable JSON without using code blocks:\n",
    "\n",
    "{{\"questions\": [\"question1\", \"question2\", ..., \"question5\"]}}\n",
    "\"\"\".strip()"
   ]
  },
  {
   "cell_type": "code",
   "execution_count": 26,
   "metadata": {},
   "outputs": [
    {
     "name": "stdout",
     "output_type": "stream",
     "text": [
      "You emulate a user or captain of our AviMate Pilot cockpit assistant application.\n",
      "Formulate 5 questions this user might ask based on a provided exercise.\n",
      "Make the questions specific to this exercise.\n",
      "The record should contain the answer to the questions, and the questions should\n",
      "be complete and not too short. Use as fewer words as possible from the record. \n",
      "\n",
      "The record:\n",
      "\n",
      "manual_section: AOM Section 10\n",
      "scenario : Hydraulic Failure\n",
      "instructions: Switch to backup hydraulic system, contact ATC for nearest airport diversion.\n",
      "\n",
      "\n",
      "Provide the output in parsable JSON without using code blocks:\n",
      "\n",
      "{\"questions\": [\"question1\", \"question2\", ..., \"question5\"]}\n"
     ]
    }
   ],
   "source": [
    "prompt = prompt_template.format(**flight_manuals_documents[0])\n",
    "print(prompt)\n"
   ]
  },
  {
   "cell_type": "code",
   "execution_count": 27,
   "metadata": {},
   "outputs": [],
   "source": [
    "def llm(prompt):\n",
    "    response = client.chat.completions.create(\n",
    "        model='gpt-4o-mini',\n",
    "        messages=[{\"role\": \"user\", \"content\": prompt}]\n",
    "    )\n",
    "    \n",
    "    return response.choices[0].message.content"
   ]
  },
  {
   "cell_type": "code",
   "execution_count": 28,
   "metadata": {},
   "outputs": [
    {
     "name": "stdout",
     "output_type": "stream",
     "text": [
      "{\"questions\": [\"What steps should I follow in the event of a hydraulic failure?\", \"Which hydraulic system should I switch to during a hydraulic failure?\", \"How do I contact ATC for a diversion due to hydraulic failure?\", \"What is the best way to identify the nearest airport for diversion?\", \"Are there any specific checklists or procedures for handling hydraulic failure?\"]}\n"
     ]
    }
   ],
   "source": [
    "questions = llm(prompt)\n",
    "print(questions)"
   ]
  },
  {
   "cell_type": "code",
   "execution_count": 29,
   "metadata": {},
   "outputs": [
    {
     "data": {
      "text/plain": [
       "{'questions': ['What steps should I follow in the event of a hydraulic failure?',\n",
       "  'Which hydraulic system should I switch to during a hydraulic failure?',\n",
       "  'How do I contact ATC for a diversion due to hydraulic failure?',\n",
       "  'What is the best way to identify the nearest airport for diversion?',\n",
       "  'Are there any specific checklists or procedures for handling hydraulic failure?']}"
      ]
     },
     "execution_count": 29,
     "metadata": {},
     "output_type": "execute_result"
    }
   ],
   "source": [
    "json.loads(questions)\n"
   ]
  },
  {
   "cell_type": "code",
   "execution_count": 30,
   "metadata": {},
   "outputs": [],
   "source": [
    "def generate_questions(doc):\n",
    "    prompt = prompt_template.format(**doc)\n",
    "\n",
    "    response = client.chat.completions.create(\n",
    "        model='gpt-4o-mini',\n",
    "        messages=[{\"role\": \"user\", \"content\": prompt}]\n",
    "    )\n",
    "\n",
    "    json_response = response.choices[0].message.content\n",
    "    return json_response"
   ]
  },
  {
   "cell_type": "code",
   "execution_count": 32,
   "metadata": {},
   "outputs": [],
   "source": [
    "from tqdm.auto import tqdm\n",
    "import pickle\n"
   ]
  },
  {
   "cell_type": "code",
   "execution_count": 34,
   "metadata": {},
   "outputs": [],
   "source": [
    "results = {}\n"
   ]
  },
  {
   "cell_type": "code",
   "execution_count": 35,
   "metadata": {},
   "outputs": [
    {
     "data": {
      "application/vnd.jupyter.widget-view+json": {
       "model_id": "3f3a3ab325424c8386521b2dbbd86463",
       "version_major": 2,
       "version_minor": 0
      },
      "text/plain": [
       "  0%|          | 0/286 [00:00<?, ?it/s]"
      ]
     },
     "metadata": {},
     "output_type": "display_data"
    }
   ],
   "source": [
    "for doc in tqdm(flight_manuals_documents): \n",
    "    doc_id = doc['id']\n",
    "    if doc_id in results:\n",
    "        continue\n",
    "\n",
    "    questions_raw = generate_questions(doc)\n",
    "    questions = json.loads(questions_raw)\n",
    "    results[doc_id] = questions['questions']"
   ]
  },
  {
   "cell_type": "code",
   "execution_count": 55,
   "metadata": {},
   "outputs": [
    {
     "data": {
      "text/plain": [
       "{'6f874e56': ['What steps should I take following a hydraulic failure in the cockpit?',\n",
       "  'How do I switch to the backup hydraulic system during an emergency?',\n",
       "  'What information do I need to provide to ATC when contacting them about a diversion?',\n",
       "  'Is there a specific procedure I should follow to identify the nearest airport after a hydraulic failure?',\n",
       "  'Can you confirm what section of the AOM provides guidance on hydraulic failures?'],\n",
       " '4fb290f8': ['What steps should I follow to switch to the backup navigation system?',\n",
       "  \"How do I ensure I'm maintaining safe altitude while flying manually?\",\n",
       "  'What specific preparations should I make for a manual landing?',\n",
       "  'Are there any particular checks I should complete before switching to the backup system?',\n",
       "  'What emergency protocols should I be aware of during this navigation system failure scenario?'],\n",
       " '9568af42': ['What steps should I take for manual gear extension in a landing gear malfunction scenario?',\n",
       "  'How do I prepare for a low approach for visual inspection after attempting manual gear extension?',\n",
       "  'What is the procedure for transitioning from a manual gear extension to an emergency landing?',\n",
       "  'Are there specific altitude or speed considerations I should observe during the low approach?',\n",
       "  'What indicators should I look for during the visual inspection to assess the landing gear condition?'],\n",
       " '998902cf': ['What section of the AOM should I refer to for icing conditions?',\n",
       "  'What systems should I activate during icing conditions?',\n",
       "  'How should I monitor fuel temperature in these conditions?',\n",
       "  'Is it advisable to change altitude when facing icing conditions?',\n",
       "  'What steps should I prioritize when encountering icing conditions?'],\n",
       " '5adcfc37': ['What is the first step to take in case of an electrical failure?',\n",
       "  'How do I switch to the backup power system effectively?',\n",
       "  'What are considered non-essential loads that I should reduce?',\n",
       "  'What information should I provide to ATC when contacting them for diversion?',\n",
       "  'Is there a checklist I should follow during an electrical failure scenario?'],\n",
       " 'e4bfc37e': ['What steps should I take to switch to the backup navigation system during a navigation system failure?',\n",
       "  'How do I continue the flight under manual control after switching systems?',\n",
       "  'What specific preparations should I make for a manual landing in this scenario?',\n",
       "  'Are there any checklists I should follow when handling a navigation system failure?',\n",
       "  'How can I ensure passenger safety while dealing with a navigation system failure?'],\n",
       " '2a2af0e9': [\"What steps should I take when there's a fire in the engine?\",\n",
       "  'How do I activate the fire suppression system?',\n",
       "  'What should I do after shutting down the affected engine?',\n",
       "  'Is there a specific procedure for preparing for an emergency landing?',\n",
       "  'Where can I find more detailed information on engine fire scenarios in the AOM?'],\n",
       " '33153f2b': ['What speed should I reduce to when encountering turbulence?',\n",
       "  'What specific preparations are necessary to secure the cabin during turbulence?',\n",
       "  'How do I determine the proper altitude to change to during turbulence?',\n",
       "  'Are there any particular checklists I should follow when dealing with turbulence?',\n",
       "  'What are the standard procedures for communicating turbulence conditions to passengers?'],\n",
       " '88bb7920': ['What steps should I take if I detect smoke in the cabin during flight?',\n",
       "  'How do I declare an emergency in this situation?',\n",
       "  'What specific procedures should I initiate for cabin smoke removal?',\n",
       "  'Which airport should I divert to if there is smoke in the cabin?',\n",
       "  'Are there any checklists I should follow after initiating cabin smoke removal procedures?'],\n",
       " '6806b7b2': ['What specific anti-ice systems should I activate in icing conditions?',\n",
       "  'How do I monitor the fuel temperature during flight?',\n",
       "  'What indicators should I look for to determine if I need to change altitude?',\n",
       "  'Are there any specific procedures for dealing with icing conditions while maintaining safety?',\n",
       "  \"What are the potential effects of icing on the aircraft's performance?\"],\n",
       " '6c666f77': ['What should I do first if I detect a fire in the engine during flight?',\n",
       "  'How do I activate the fire suppression system in the cockpit?',\n",
       "  'What steps should I follow to prepare for an emergency landing after an engine fire?',\n",
       "  'Is there a specific procedure to shut down the affected engine?',\n",
       "  'What indications or alerts should I look for after activating the fire suppression system?'],\n",
       " 'b3930114': ['What is the recommended turbulence penetration speed I should reduce to?',\n",
       "  'How can I secure the cabin effectively during turbulence?',\n",
       "  'Are there specific procedures to follow when preparing for an altitude change in turbulence?',\n",
       "  'What indicators should I monitor to assess the severity of the turbulence?',\n",
       "  'Should I communicate with passengers about the upcoming turbulence and speed reduction?'],\n",
       " '58c923ff': ['What steps should I take immediately after a navigation system failure occurs?',\n",
       "  'How do I switch to the backup navigation system?',\n",
       "  'What are the key considerations for flying under manual control?',\n",
       "  'What preparations are necessary for executing a manual landing?',\n",
       "  'Are there any specific checklists to follow during this scenario?'],\n",
       " '1c1d54d7': ['What is the procedure to switch to the backup hydraulic system during a hydraulic failure?',\n",
       "  'How do I contact ATC to report the hydraulic failure and inquire about diversion options?',\n",
       "  'What indicators should I look for to confirm a hydraulic failure before switching systems?',\n",
       "  'Which airports are typically the nearest for diversion in case of hydraulic issues?',\n",
       "  'Are there any specific checklists I should follow after switching to the backup hydraulic system?'],\n",
       " 'de81c65e': ['What steps should I take to switch to the backup power system during an electrical failure?',\n",
       "  'Which specific non-essential loads should I consider reducing in this scenario?',\n",
       "  'How should I communicate with ATC regarding our diversion due to electrical failure?',\n",
       "  'Are there any indications I should monitor while switching to backup power?',\n",
       "  'What are the potential consequences if I fail to reduce non-essential loads during this failure?'],\n",
       " 'ba61db15': ['What are the steps to switch to the backup hydraulic system during hydraulic failure?',\n",
       "  'How do I contact ATC for nearest airport diversion after hydraulic failure?',\n",
       "  'What information should I provide to ATC when requesting airport diversion due to hydraulic failure?',\n",
       "  'Are there any specific safety checks I should perform before switching to the backup hydraulic system?',\n",
       "  'What are the potential risks of not switching to the backup hydraulic system in a hydraulic failure scenario?'],\n",
       " 'ce9c85cb': ['What is the turbulence penetration speed we should reduce to during turbulence?',\n",
       "  'What specific actions are required to secure the cabin in preparation for turbulence?',\n",
       "  'How do we prepare for an altitude change while experiencing turbulence?',\n",
       "  'Are there any specific communication procedures we need to follow when experiencing turbulence?',\n",
       "  'What steps should be taken to monitor the weather conditions during turbulence?'],\n",
       " 'd044fcb4': ['What are the first steps to take during an engine failure according to the AOM Section 10?',\n",
       "  'How should I adjust the throttle when experiencing engine failure?',\n",
       "  'What is the recommended climb setting after an engine failure?',\n",
       "  'Is it necessary to contact ATC immediately after an engine failure, and what do I need to request?',\n",
       "  'What section of the AOM should I refer to for procedures regarding engine failure?'],\n",
       " '8067612f': ['What are the first steps to take if I detect smoke in the cabin during flight?',\n",
       "  'How do I declare an emergency in this situation?',\n",
       "  'Can you explain the cabin smoke removal procedures I need to initiate?',\n",
       "  'Which airport should I divert to in this scenario?',\n",
       "  'What should I communicate to air traffic control when declaring an emergency?'],\n",
       " 'c864430b': ['What is the turbulence penetration speed I should reduce to?',\n",
       "  'What specific actions should I take to secure the cabin during turbulence?',\n",
       "  'How do I prepare for an altitude change when anticipating turbulence?',\n",
       "  'Is there a recommended procedure for managing passenger communications during turbulence?',\n",
       "  'What should I monitor in the instruments while experiencing turbulence?'],\n",
       " 'a881bd7c': ['What steps should I take immediately after experiencing an electrical failure?',\n",
       "  'How do I switch to the backup power system when facing an electrical failure?',\n",
       "  'What specific non-essential loads should I reduce in the event of an electrical failure?',\n",
       "  'What information should I provide to ATC when contacting them for diversion?',\n",
       "  'Is there a recommended procedure for switching back to the main power system after an electrical failure?'],\n",
       " '37233acc': ['What are the first steps to take if there is a fire in the engine?',\n",
       "  'How do I activate the fire suppression system in this situation?',\n",
       "  'What should I prioritize after shutting down the affected engine?',\n",
       "  'Are there any specific procedures for preparing for an emergency landing?',\n",
       "  'How do I ensure the safety of the passengers during this emergency?'],\n",
       " 'd543665e': ['What is the first action I should take during an engine failure scenario according to AOM Section 2?',\n",
       "  'After setting the throttle to idle, what is the next step to ensure safe altitude gain?',\n",
       "  'How should I communicate with ATC in the event of an engine failure?',\n",
       "  'Is there any specific phraseology I should use when requesting emergency landing clearance?',\n",
       "  'What sequence of actions should I follow after applying maximum climb?'],\n",
       " '5ac7c529': ['What steps should I take to activate the anti-ice systems in icing conditions?',\n",
       "  'How do I monitor the fuel temperature effectively while flying in icing conditions?',\n",
       "  'What altitude changes should I consider to mitigate icing risks?',\n",
       "  'Are there specific indicators I should look for when activating the anti-ice systems?',\n",
       "  'How often should I check the fuel temperature during icing conditions?'],\n",
       " '1013c799': ['What actions should I take if the navigation system fails during flight?',\n",
       "  'How do I switch to the backup navigation system when a failure occurs?',\n",
       "  'What does it mean to continue flight under manual control after a navigation failure?',\n",
       "  'Are there specific procedures for preparing for a manual landing after a navigation system failure?',\n",
       "  'What resources do I have to assist me in performing a manual landing under these circumstances?'],\n",
       " '9314dd83': ['What should I do with the throttle in case of engine failure?',\n",
       "  'How do I initiate a climb after experiencing an engine failure?',\n",
       "  'Is it necessary to contact ATC immediately after an engine failure?',\n",
       "  'What is the correct procedure for requesting emergency landing clearance from ATC?',\n",
       "  'When should I apply maximum climb during an engine failure scenario?'],\n",
       " 'd018d472': ['What steps should I follow during an electrical failure scenario in the AOM Section 2?',\n",
       "  'How do I switch to the backup power system when faced with an electrical failure?',\n",
       "  'What are the non-essential loads that should be reduced in this situation?',\n",
       "  'What information should I provide to ATC when contacting them for diversion due to an electrical failure?',\n",
       "  'Is there a specific sequence I should follow for these actions during an electrical failure?'],\n",
       " '6d588250': ['What steps should I take if I experience a hydraulic failure during flight?',\n",
       "  'Which hydraulic system should I switch to in the event of a failure?',\n",
       "  'How do I contact ATC for a nearest airport diversion after a hydraulic failure?',\n",
       "  'Is there any specific procedure for identifying the backup hydraulic system?',\n",
       "  'What should I be aware of when switching to the backup hydraulic system during a hydraulic failure?'],\n",
       " 'f9f3c374': ['What are the immediate steps I need to take if smoke is detected in the cabin?',\n",
       "  'How do I declare an emergency in this situation?',\n",
       "  'What specific cabin smoke removal procedures should I initiate?',\n",
       "  'Which airport should I divert to if smoke is present?',\n",
       "  'Are there any additional protocols I should follow during the diversion?'],\n",
       " '564b2dc8': ['What should I do with the throttle during an engine failure scenario?',\n",
       "  'How do I apply maximum climb after an engine failure?',\n",
       "  'What is the first step to take when experiencing engine failure?',\n",
       "  'Who should I contact for emergency landing clearance during engine failure?',\n",
       "  'What is the purpose of contacting ATC in this situation?'],\n",
       " '65ee1297': ['What are the steps I should follow for manual gear extension in case of a malfunction?',\n",
       "  'How do I prepare for a low approach for visual inspection of the landing gear?',\n",
       "  'What actions should I take in case the manual gear extension is unsuccessful?',\n",
       "  'What factors should I consider when preparing for an emergency landing?',\n",
       "  'Are there any specific checklists I should use for a landing gear malfunction scenario?'],\n",
       " '527ce75a': ['What procedures should I follow after a hydraulic failure occurs?',\n",
       "  'How do I switch to the backup hydraulic system?',\n",
       "  'What information do I need to provide to ATC when requesting a diversion?',\n",
       "  'Can you guide me on how to assess the nearest airport for a diversion?',\n",
       "  'What should I check after switching to the backup hydraulic system?'],\n",
       " '0684cd8c': ['What is the first action to take in case of cabin pressure loss?',\n",
       "  'At what altitude should we descend during a cabin pressure loss scenario?',\n",
       "  'What equipment must be deployed according to the instructions?',\n",
       "  'Who should we contact during the emergency descent?',\n",
       "  'Is there a specific section in the manual that addresses cabin pressure loss procedures?'],\n",
       " 'fb69630c': ['What should I do first during a navigation system failure?',\n",
       "  'How do I switch to the backup navigation system?',\n",
       "  'What should I be aware of while flying under manual control?',\n",
       "  'Are there specific procedures for preparing for a manual landing?',\n",
       "  'What actions should I take if the backup navigation system also fails?'],\n",
       " 'c95db9e4': ['What is the first step I should take during an electrical failure scenario?',\n",
       "  'How can I reduce non-essential loads effectively?',\n",
       "  'What should I communicate to ATC after switching to the backup power system?',\n",
       "  'Is there a specific procedure for contacting ATC during this type of failure?',\n",
       "  'What tools or indicators should I refer to when determining non-essential loads?'],\n",
       " '9459129c': ['What specific procedures should I follow to remove smoke from the cabin?',\n",
       "  'How do I declare an emergency effectively in this scenario?',\n",
       "  'Which nearest airport should I divert to in case of smoke in the cabin?',\n",
       "  'Are there any checklist items I need to complete during the smoke removal procedures?',\n",
       "  'What communication protocols should I use when declaring an emergency?'],\n",
       " '1fe2ca38': ['What are the steps to activate the anti-ice systems in icing conditions?',\n",
       "  'How should I monitor the fuel temperature during icing conditions?',\n",
       "  'Are there specific altitude changes recommended when encountering icing conditions?',\n",
       "  'What protocols should I follow if the fuel temperature exceeds safe limits?',\n",
       "  'How can I confirm that the anti-ice systems are functioning correctly?'],\n",
       " '28b1837e': ['What are the first steps to take during an electrical failure according to AOM Section 7?',\n",
       "  'How do I switch to the backup power system in this scenario?',\n",
       "  'What should I do to manage non-essential loads during an electrical failure?',\n",
       "  'How can I contact ATC for a diversion in this situation?',\n",
       "  'What specific actions are emphasized for handling an electrical failure in the manual?'],\n",
       " 'adb5cc7f': ['What should I do with the throttle during an engine failure?',\n",
       "  'How do I initiate maximum climb after an engine failure?',\n",
       "  'What is the procedure for contacting ATC in this scenario?',\n",
       "  'When should I seek emergency landing clearance from ATC?',\n",
       "  'Are there any specific altitudes I need to maintain during the climb?'],\n",
       " '5f62756c': ['What are the steps for attempting a manual gear extension in case of a malfunction?',\n",
       "  'How do I prepare for a low approach for visual inspection after a landing gear failure?',\n",
       "  'What should I communicate to air traffic control regarding the landing gear issue?',\n",
       "  'What actions should I take if manual gear extension is unsuccessful?',\n",
       "  'What are the key preparations for an emergency landing due to landing gear malfunction?'],\n",
       " 'd26b56ff': ['What should I do with the throttle during an engine failure?',\n",
       "  'How do I apply maximum climb in this scenario?',\n",
       "  'Who should I contact after experiencing an engine failure?',\n",
       "  'What is the primary action needed for emergency landing clearance?',\n",
       "  'Is it necessary to perform any specific checks before contacting ATC?'],\n",
       " '736b9bc8': ['What speed should I reduce to when experiencing turbulence?',\n",
       "  'How do I secure the cabin before entering turbulence?',\n",
       "  'What steps should I follow to prepare for an altitude change during turbulence?',\n",
       "  'Is there a specific turbulence penetration speed I need to be aware of?',\n",
       "  'Are there any additional precautions I should take when flying through turbulent areas?'],\n",
       " '33307320': ['What specific anti-ice systems need to be activated during icing conditions?',\n",
       "  'How do I monitor the fuel temperature effectively in icing conditions?',\n",
       "  'At what point should I consider changing altitude when encountering icing conditions?',\n",
       "  'Are there any additional steps I should take after activating the anti-ice systems?',\n",
       "  'What are the signs that indicate the need for altitude change in icing conditions?'],\n",
       " '6e20e527': ['What are the steps for attempting a manual gear extension during a landing gear malfunction?',\n",
       "  'How should I prepare for a low approach to conduct a visual inspection?',\n",
       "  'What checklist should I follow for an emergency landing in case of gear failure?',\n",
       "  'Are there specific indications of a landing gear malfunction I should be aware of?',\n",
       "  'What is the recommended altitude for a low approach during this scenario?'],\n",
       " '4f540448': ['What is the first step to take in the event of a fire in one of the engines?',\n",
       "  'How do I activate the fire suppression system if there is a fire in the engine?',\n",
       "  'What preparations should I make for an emergency landing after shutting down the affected engine?',\n",
       "  'Is there a specific checklist I should follow after shutting down the engine due to a fire?',\n",
       "  'What are the signs of an engine fire that I should be aware of during flight?'],\n",
       " '3ab6904a': ['What are the first steps to take in the event of a hydraulic failure?',\n",
       "  'How do I switch to the backup hydraulic system during a malfunction?',\n",
       "  'Should I contact ATC immediately after the hydraulic failure occurs?',\n",
       "  'What information should I request from ATC regarding a nearest airport diversion?',\n",
       "  'Are there any specific checks I need to perform before switching to the backup system?'],\n",
       " '5a6bd9e3': ['What is the first action I should take during a cabin pressure loss scenario?',\n",
       "  'At what altitude should I descend to in case of cabin pressure loss?',\n",
       "  'Do I need to deploy oxygen masks when experiencing cabin pressure loss?',\n",
       "  'Who should I contact for an emergency descent following cabin pressure loss?',\n",
       "  'Are there any specific procedures to follow after descending to 10,000 feet?'],\n",
       " 'b512f467': ['What steps should I take for manual gear extension during a landing gear malfunction?',\n",
       "  'How do I conduct a low approach for visual inspection after attempting manual gear extension?',\n",
       "  'What preparations are necessary for an emergency landing following a gear malfunction?',\n",
       "  'Are there specific altitude and speed recommendations for the low approach inspection?',\n",
       "  'What checklist items should be completed before initiating the emergency landing sequence?'],\n",
       " 'a12c4585': ['What is the correct altitude to descend to during a cabin pressure loss scenario?',\n",
       "  'What should I do with the oxygen masks in this situation?',\n",
       "  'Should I notify ATC immediately after experiencing cabin pressure loss?',\n",
       "  'What is the specific emergency procedure for a cabin pressure loss according to AOM Section 5?',\n",
       "  'Are there any additional steps I should take during the descent?'],\n",
       " '3753d3ea': ['What speed should I reduce to during turbulence?',\n",
       "  'What should I do to secure the cabin before encountering turbulence?',\n",
       "  'Are there any specific altitude changes I need to prepare for during turbulence?',\n",
       "  'How will reducing speed to turbulence penetration speed affect our flight?',\n",
       "  'What is the protocol for communication with cabin crew during turbulence?'],\n",
       " '9af5bf17': ['What is the prescribed altitude to descend to during a cabin pressure loss?',\n",
       "  'What safety equipment must be deployed following cabin pressure loss?',\n",
       "  'Who should be contacted during the emergency descent procedure?',\n",
       "  'Is there a specific section in the AOM that covers cabin pressure loss procedures?',\n",
       "  'What are the immediate actions required for crew and passenger safety during cabin pressure loss?'],\n",
       " '2f2be4e5': ['What is the first step I should take in the event of smoke in the cabin?',\n",
       "  'How do I initiate the cabin smoke removal procedures?',\n",
       "  'What should I do if I need to divert the flight due to smoke?',\n",
       "  'Which airport should I divert to in this scenario?',\n",
       "  'Do I need to inform air traffic control about the emergency situation?'],\n",
       " '2ba83365': ['What steps should I take to shut down the affected engine during a fire situation?',\n",
       "  'Can you guide me on how to activate the fire suppression system in the cockpit?',\n",
       "  'What preparations do I need to consider for an emergency landing after an engine fire?',\n",
       "  'Is there a specific checklist I should follow after an engine shut down due to fire?',\n",
       "  'What are the signs that indicate the need to activate the fire suppression system?'],\n",
       " 'cc8c44b1': ['What steps should I take if there is a fire in the engine during flight?',\n",
       "  'How do I properly shut down the affected engine?',\n",
       "  'What is the procedure for activating the fire suppression system?',\n",
       "  'Once the engine is shut down, what preparations should I make for an emergency landing?',\n",
       "  'Are there any specific checklists I need to follow for this scenario?'],\n",
       " 'f3299990': ['What is the first action I should take when experiencing a cabin pressure loss?',\n",
       "  'At what altitude should I aim to descend during a cabin pressure loss scenario?',\n",
       "  'How do I ensure that oxygen masks are properly deployed?',\n",
       "  'What information do I need to relay to ATC during the emergency descent?',\n",
       "  'Is there a specific procedure I must follow after initiating the descent and deploying oxygen masks?'],\n",
       " 'de5b5ee6': ['What are the steps for activating the anti-ice systems in icing conditions?',\n",
       "  'How do I monitor the fuel temperature effectively during these conditions?',\n",
       "  'Is there a specific altitude I should consider changing to when experiencing icing?',\n",
       "  'What indicators should I look for that confirm the anti-ice systems are functioning properly?',\n",
       "  'Should I take any other precautions while flying in icing conditions aside from what has been mentioned?'],\n",
       " '645b9cc1': ['What altitude should we descend to in case of cabin pressure loss?',\n",
       "  'How do we ensure the oxygen masks are deployed during an emergency?',\n",
       "  'What communication steps should we take with ATC after experiencing a cabin pressure loss?',\n",
       "  'Is there a specific rate at which we should descend to 10,000 feet?',\n",
       "  'What are the indications that we need to deploy oxygen masks?'],\n",
       " '1ddfa77d': ['What are the immediate steps to take if there is smoke in the cabin during flight?',\n",
       "  'How do I declare an emergency effectively in this scenario?',\n",
       "  'What procedures should I follow to remove smoke from the cabin?',\n",
       "  'Which airport should I divert to if I encounter smoke in the cabin?',\n",
       "  'Is there a specific altitude or configuration I should maintain while managing smoke in the cabin?'],\n",
       " '5cf77fb3': ['What steps should I take to switch to the backup navigation system?',\n",
       "  'How do I operate the aircraft under manual control after the navigation system failure?',\n",
       "  'What preparations are required for a manual landing in this scenario?',\n",
       "  'Are there any specific checklists I should refer to after the navigation system fails?',\n",
       "  'What should I communicate to air traffic control regarding the navigation system failure?'],\n",
       " 'd362de2f': ['What steps should I take to attempt manual gear extension during a landing gear malfunction?',\n",
       "  'What preparations are necessary for a low approach for visual inspection after a gear malfunction?',\n",
       "  'How do I prepare for an emergency landing in case the gear does not extend properly?',\n",
       "  'Are there specific checklist items I should follow for the landing gear malfunction scenario?',\n",
       "  'What factors should I consider while conducting a visual inspection during a low approach?']}"
      ]
     },
     "execution_count": 55,
     "metadata": {},
     "output_type": "execute_result"
    }
   ],
   "source": [
    "results"
   ]
  },
  {
   "cell_type": "code",
   "execution_count": 36,
   "metadata": {},
   "outputs": [],
   "source": [
    "final_results = []\n",
    "\n",
    "for doc_id, questions in results.items():\n",
    "    for q in questions:\n",
    "        final_results.append((doc_id, q))\n"
   ]
  },
  {
   "cell_type": "code",
   "execution_count": 39,
   "metadata": {},
   "outputs": [
    {
     "data": {
      "text/plain": [
       "('6f874e56',\n",
       " 'What steps should I take following a hydraulic failure in the cockpit?')"
      ]
     },
     "execution_count": 39,
     "metadata": {},
     "output_type": "execute_result"
    }
   ],
   "source": [
    "final_results[0]"
   ]
  },
  {
   "cell_type": "code",
   "execution_count": 40,
   "metadata": {},
   "outputs": [],
   "source": [
    "df_results = pd.DataFrame(final_results, columns=['id', 'question'])\n"
   ]
  },
  {
   "cell_type": "code",
   "execution_count": 41,
   "metadata": {},
   "outputs": [],
   "source": [
    "df_results.to_csv('../data/ground-truth-data-flight-manuals.csv', index=False)\n"
   ]
  },
  {
   "cell_type": "code",
   "execution_count": 44,
   "metadata": {},
   "outputs": [],
   "source": [
    "from collections import defaultdict"
   ]
  },
  {
   "cell_type": "code",
   "execution_count": 46,
   "metadata": {},
   "outputs": [
    {
     "data": {
      "text/plain": [
       "defaultdict(list, {})"
      ]
     },
     "execution_count": 46,
     "metadata": {},
     "output_type": "execute_result"
    }
   ],
   "source": [
    "hashes = defaultdict(list)\n",
    "hashes"
   ]
  },
  {
   "cell_type": "code",
   "execution_count": 47,
   "metadata": {},
   "outputs": [],
   "source": [
    "for doc in flight_manuals_documents:\n",
    "    doc_id = doc['id']\n",
    "    hashes[doc_id].append(doc)"
   ]
  },
  {
   "cell_type": "code",
   "execution_count": 52,
   "metadata": {},
   "outputs": [
    {
     "data": {
      "text/plain": [
       "(60, 286)"
      ]
     },
     "execution_count": 52,
     "metadata": {},
     "output_type": "execute_result"
    }
   ],
   "source": [
    "len(hashes), len(flight_manuals_documents)"
   ]
  },
  {
   "cell_type": "code",
   "execution_count": 53,
   "metadata": {},
   "outputs": [
    {
     "name": "stdout",
     "output_type": "stream",
     "text": [
      "6f874e56 5\n",
      "4fb290f8 5\n",
      "9568af42 8\n",
      "998902cf 2\n",
      "5adcfc37 5\n",
      "e4bfc37e 5\n",
      "2a2af0e9 3\n",
      "33153f2b 3\n",
      "88bb7920 8\n",
      "6806b7b2 5\n",
      "6c666f77 10\n",
      "b3930114 5\n",
      "58c923ff 5\n",
      "1c1d54d7 6\n",
      "de81c65e 6\n",
      "ba61db15 4\n",
      "ce9c85cb 9\n",
      "d044fcb4 4\n",
      "8067612f 5\n",
      "c864430b 3\n",
      "a881bd7c 4\n",
      "37233acc 7\n",
      "d543665e 4\n",
      "5ac7c529 2\n",
      "1013c799 2\n",
      "9314dd83 3\n",
      "d018d472 5\n",
      "6d588250 5\n",
      "f9f3c374 6\n",
      "564b2dc8 5\n",
      "65ee1297 3\n",
      "527ce75a 8\n",
      "0684cd8c 5\n",
      "fb69630c 10\n",
      "c95db9e4 3\n",
      "9459129c 4\n",
      "1fe2ca38 5\n",
      "28b1837e 8\n",
      "adb5cc7f 3\n",
      "5f62756c 8\n",
      "d26b56ff 4\n",
      "736b9bc8 3\n",
      "33307320 3\n",
      "6e20e527 5\n",
      "4f540448 5\n",
      "3ab6904a 3\n",
      "5a6bd9e3 6\n",
      "b512f467 4\n",
      "a12c4585 3\n",
      "3753d3ea 9\n",
      "9af5bf17 5\n",
      "2f2be4e5 4\n",
      "2ba83365 5\n",
      "cc8c44b1 3\n",
      "f3299990 5\n",
      "de5b5ee6 2\n",
      "645b9cc1 4\n",
      "1ddfa77d 5\n"
     ]
    }
   ],
   "source": [
    "for k, values in hashes.items():\n",
    "    if len(values) > 1:\n",
    "        print(k, len(values))"
   ]
  },
  {
   "cell_type": "code",
   "execution_count": 54,
   "metadata": {},
   "outputs": [
    {
     "data": {
      "text/plain": [
       "[{'manual_section': 'AOM Section 10',\n",
       "  'scenario': 'Hydraulic Failure',\n",
       "  'instructions': 'Switch to backup hydraulic system, contact ATC for nearest airport diversion.',\n",
       "  'id': '6f874e56'},\n",
       " {'manual_section': 'AOM Section 10',\n",
       "  'scenario': 'Hydraulic Failure',\n",
       "  'instructions': 'Switch to backup hydraulic system, contact ATC for nearest airport diversion.',\n",
       "  'id': '6f874e56'},\n",
       " {'manual_section': 'AOM Section 10',\n",
       "  'scenario': 'Hydraulic Failure',\n",
       "  'instructions': 'Switch to backup hydraulic system, contact ATC for nearest airport diversion.',\n",
       "  'id': '6f874e56'},\n",
       " {'manual_section': 'AOM Section 10',\n",
       "  'scenario': 'Hydraulic Failure',\n",
       "  'instructions': 'Switch to backup hydraulic system, contact ATC for nearest airport diversion.',\n",
       "  'id': '6f874e56'},\n",
       " {'manual_section': 'AOM Section 10',\n",
       "  'scenario': 'Hydraulic Failure',\n",
       "  'instructions': 'Switch to backup hydraulic system, contact ATC for nearest airport diversion.',\n",
       "  'id': '6f874e56'}]"
      ]
     },
     "execution_count": 54,
     "metadata": {},
     "output_type": "execute_result"
    }
   ],
   "source": [
    "hashes['6f874e56']\n"
   ]
  },
  {
   "cell_type": "code",
   "execution_count": null,
   "metadata": {},
   "outputs": [],
   "source": []
  }
 ],
 "metadata": {
  "kernelspec": {
   "display_name": "AviMate-LLM-RbionjtU",
   "language": "python",
   "name": "python3"
  },
  "language_info": {
   "codemirror_mode": {
    "name": "ipython",
    "version": 3
   },
   "file_extension": ".py",
   "mimetype": "text/x-python",
   "name": "python",
   "nbconvert_exporter": "python",
   "pygments_lexer": "ipython3",
   "version": "3.11.5"
  }
 },
 "nbformat": 4,
 "nbformat_minor": 2
}
