{
 "cells": [
  {
   "cell_type": "code",
   "execution_count": 2,
   "id": "8514e4cc-30bf-46d4-aa7b-91152f8dd96e",
   "metadata": {},
   "outputs": [],
   "source": [
    "import pandas as pd\n",
    "from tqdm.auto import tqdm\n",
    "import re\n",
    "from elasticsearch import Elasticsearch\n",
    "from elasticsearch.helpers import bulk, BulkIndexError\n",
    "from openai import OpenAI\n",
    "from sentence_transformers import SentenceTransformer"
   ]
  },
  {
   "cell_type": "code",
   "execution_count": 153,
   "id": "5329ab94",
   "metadata": {},
   "outputs": [],
   "source": [
    "df_atc_communications = pd.read_csv('../data/atc_communications_realistic.csv', encoding='ISO-8859-1')\n"
   ]
  },
  {
   "cell_type": "code",
   "execution_count": 154,
   "id": "667829cb",
   "metadata": {},
   "outputs": [
    {
     "data": {
      "text/html": [
       "<div>\n",
       "<style scoped>\n",
       "    .dataframe tbody tr th:only-of-type {\n",
       "        vertical-align: middle;\n",
       "    }\n",
       "\n",
       "    .dataframe tbody tr th {\n",
       "        vertical-align: top;\n",
       "    }\n",
       "\n",
       "    .dataframe thead th {\n",
       "        text-align: right;\n",
       "    }\n",
       "</style>\n",
       "<table border=\"1\" class=\"dataframe\">\n",
       "  <thead>\n",
       "    <tr style=\"text-align: right;\">\n",
       "      <th></th>\n",
       "      <th>Time_UTC</th>\n",
       "      <th>call_sign</th>\n",
       "      <th>Frequency</th>\n",
       "      <th>Message</th>\n",
       "      <th>Altitude</th>\n",
       "      <th>Phase</th>\n",
       "      <th>Event_Flag</th>\n",
       "    </tr>\n",
       "  </thead>\n",
       "  <tbody>\n",
       "    <tr>\n",
       "      <th>0</th>\n",
       "      <td>00:05:00</td>\n",
       "      <td>UAE201</td>\n",
       "      <td>121.900</td>\n",
       "      <td>UAE201, Dubai Ground, pushback and engine star...</td>\n",
       "      <td>0</td>\n",
       "      <td>Pre-flight</td>\n",
       "      <td>NaN</td>\n",
       "    </tr>\n",
       "    <tr>\n",
       "      <th>1</th>\n",
       "      <td>00:10:00</td>\n",
       "      <td>UAE201</td>\n",
       "      <td>121.800</td>\n",
       "      <td>UAE201, taxi to runway 12R via taxiways Alpha ...</td>\n",
       "      <td>0</td>\n",
       "      <td>Taxi</td>\n",
       "      <td>NaN</td>\n",
       "    </tr>\n",
       "    <tr>\n",
       "      <th>2</th>\n",
       "      <td>00:20:00</td>\n",
       "      <td>UAE201</td>\n",
       "      <td>118.750</td>\n",
       "      <td>UAE201, Dubai Tower, wind 110 degrees at 5 kno...</td>\n",
       "      <td>0</td>\n",
       "      <td>Takeoff</td>\n",
       "      <td>NaN</td>\n",
       "    </tr>\n",
       "    <tr>\n",
       "      <th>3</th>\n",
       "      <td>00:25:00</td>\n",
       "      <td>UAE201</td>\n",
       "      <td>124.500</td>\n",
       "      <td>UAE201, contact Dubai Departure on 124.5. Good...</td>\n",
       "      <td>3000</td>\n",
       "      <td>Departure</td>\n",
       "      <td>NaN</td>\n",
       "    </tr>\n",
       "    <tr>\n",
       "      <th>4</th>\n",
       "      <td>00:30:00</td>\n",
       "      <td>UAE201</td>\n",
       "      <td>124.500</td>\n",
       "      <td>UAE201, climb and maintain flight level 150.</td>\n",
       "      <td>10000</td>\n",
       "      <td>Climb</td>\n",
       "      <td>NaN</td>\n",
       "    </tr>\n",
       "  </tbody>\n",
       "</table>\n",
       "</div>"
      ],
      "text/plain": [
       "   Time_UTC call_sign Frequency  \\\n",
       "0  00:05:00    UAE201   121.900   \n",
       "1  00:10:00    UAE201   121.800   \n",
       "2  00:20:00    UAE201   118.750   \n",
       "3  00:25:00    UAE201   124.500   \n",
       "4  00:30:00    UAE201   124.500   \n",
       "\n",
       "                                             Message  Altitude       Phase  \\\n",
       "0  UAE201, Dubai Ground, pushback and engine star...         0  Pre-flight   \n",
       "1  UAE201, taxi to runway 12R via taxiways Alpha ...         0        Taxi   \n",
       "2  UAE201, Dubai Tower, wind 110 degrees at 5 kno...         0     Takeoff   \n",
       "3  UAE201, contact Dubai Departure on 124.5. Good...      3000   Departure   \n",
       "4       UAE201, climb and maintain flight level 150.     10000       Climb   \n",
       "\n",
       "  Event_Flag  \n",
       "0        NaN  \n",
       "1        NaN  \n",
       "2        NaN  \n",
       "3        NaN  \n",
       "4        NaN  "
      ]
     },
     "execution_count": 154,
     "metadata": {},
     "output_type": "execute_result"
    }
   ],
   "source": [
    "df_atc_communications.head()"
   ]
  },
  {
   "cell_type": "code",
   "execution_count": 155,
   "id": "7a9dec2c",
   "metadata": {},
   "outputs": [
    {
     "data": {
      "text/plain": [
       "(27, 7)"
      ]
     },
     "execution_count": 155,
     "metadata": {},
     "output_type": "execute_result"
    }
   ],
   "source": [
    "df_atc_communications.shape"
   ]
  },
  {
   "cell_type": "markdown",
   "id": "cc1ffaad",
   "metadata": {},
   "source": [
    "### Data Preprocessing"
   ]
  },
  {
   "cell_type": "code",
   "execution_count": 156,
   "id": "a9229801",
   "metadata": {},
   "outputs": [],
   "source": [
    "def clean_column_names(df):\n",
    "    clean_column_names = []\n",
    "    for col in df.columns:\n",
    "        clean_column_names.append(col.lower().replace(' ','_'))\n",
    "     \n",
    "    return clean_column_names"
   ]
  },
  {
   "cell_type": "code",
   "execution_count": 157,
   "id": "84611f6f",
   "metadata": {},
   "outputs": [],
   "source": [
    "df_atc_communications.columns = clean_column_names(df_atc_communications)"
   ]
  },
  {
   "cell_type": "code",
   "execution_count": 158,
   "id": "5ffb00d9",
   "metadata": {},
   "outputs": [
    {
     "name": "stdout",
     "output_type": "stream",
     "text": [
      "<class 'pandas.core.frame.DataFrame'>\n",
      "RangeIndex: 27 entries, 0 to 26\n",
      "Data columns (total 7 columns):\n",
      " #   Column      Non-Null Count  Dtype \n",
      "---  ------      --------------  ----- \n",
      " 0   time_utc    27 non-null     object\n",
      " 1   call_sign   27 non-null     object\n",
      " 2   frequency   27 non-null     object\n",
      " 3   message     27 non-null     object\n",
      " 4   altitude    27 non-null     int64 \n",
      " 5   phase       27 non-null     object\n",
      " 6   event_flag  7 non-null      object\n",
      "dtypes: int64(1), object(6)\n",
      "memory usage: 1.6+ KB\n"
     ]
    }
   ],
   "source": [
    "df_atc_communications.info()"
   ]
  },
  {
   "cell_type": "code",
   "execution_count": 159,
   "id": "99053a7a",
   "metadata": {},
   "outputs": [
    {
     "name": "stdout",
     "output_type": "stream",
     "text": [
      "time_utc       0\n",
      "call_sign      0\n",
      "frequency      0\n",
      "message        0\n",
      "altitude       0\n",
      "phase          0\n",
      "event_flag    20\n",
      "dtype: int64\n"
     ]
    }
   ],
   "source": [
    "# Check for missing values\n",
    "print(df_atc_communications.isnull().sum())\n",
    "\n",
    "df_atc_communications.reset_index(drop=True, inplace=True)"
   ]
  },
  {
   "cell_type": "code",
   "execution_count": 160,
   "id": "12c0d76d",
   "metadata": {},
   "outputs": [],
   "source": [
    "df_atc_communications['event_flag'] = df_atc_communications['event_flag'].fillna('No Event')"
   ]
  },
  {
   "cell_type": "code",
   "execution_count": 161,
   "id": "2739f997",
   "metadata": {},
   "outputs": [
    {
     "name": "stdout",
     "output_type": "stream",
     "text": [
      "<class 'pandas.core.frame.DataFrame'>\n",
      "RangeIndex: 27 entries, 0 to 26\n",
      "Data columns (total 7 columns):\n",
      " #   Column      Non-Null Count  Dtype \n",
      "---  ------      --------------  ----- \n",
      " 0   time_utc    27 non-null     object\n",
      " 1   call_sign   27 non-null     object\n",
      " 2   frequency   27 non-null     object\n",
      " 3   message     27 non-null     object\n",
      " 4   altitude    27 non-null     int64 \n",
      " 5   phase       27 non-null     object\n",
      " 6   event_flag  27 non-null     object\n",
      "dtypes: int64(1), object(6)\n",
      "memory usage: 1.6+ KB\n"
     ]
    }
   ],
   "source": [
    "df_atc_communications.info()"
   ]
  },
  {
   "cell_type": "code",
   "execution_count": 162,
   "id": "83f92d0d",
   "metadata": {},
   "outputs": [],
   "source": [
    "df_atc_communications['text'] = df_atc_communications['frequency'] + \". \" + df_atc_communications['message'] + \". \" + df_atc_communications['phase'] + \". \" + df_atc_communications['event_flag']\n"
   ]
  },
  {
   "cell_type": "code",
   "execution_count": 163,
   "id": "59a78dab",
   "metadata": {},
   "outputs": [
    {
     "data": {
      "text/html": [
       "<div>\n",
       "<style scoped>\n",
       "    .dataframe tbody tr th:only-of-type {\n",
       "        vertical-align: middle;\n",
       "    }\n",
       "\n",
       "    .dataframe tbody tr th {\n",
       "        vertical-align: top;\n",
       "    }\n",
       "\n",
       "    .dataframe thead th {\n",
       "        text-align: right;\n",
       "    }\n",
       "</style>\n",
       "<table border=\"1\" class=\"dataframe\">\n",
       "  <thead>\n",
       "    <tr style=\"text-align: right;\">\n",
       "      <th></th>\n",
       "      <th>time_utc</th>\n",
       "      <th>call_sign</th>\n",
       "      <th>frequency</th>\n",
       "      <th>message</th>\n",
       "      <th>altitude</th>\n",
       "      <th>phase</th>\n",
       "      <th>event_flag</th>\n",
       "      <th>text</th>\n",
       "    </tr>\n",
       "  </thead>\n",
       "  <tbody>\n",
       "    <tr>\n",
       "      <th>0</th>\n",
       "      <td>00:05:00</td>\n",
       "      <td>UAE201</td>\n",
       "      <td>121.900</td>\n",
       "      <td>UAE201, Dubai Ground, pushback and engine star...</td>\n",
       "      <td>0</td>\n",
       "      <td>Pre-flight</td>\n",
       "      <td>No Event</td>\n",
       "      <td>121.900. UAE201, Dubai Ground, pushback and en...</td>\n",
       "    </tr>\n",
       "    <tr>\n",
       "      <th>1</th>\n",
       "      <td>00:10:00</td>\n",
       "      <td>UAE201</td>\n",
       "      <td>121.800</td>\n",
       "      <td>UAE201, taxi to runway 12R via taxiways Alpha ...</td>\n",
       "      <td>0</td>\n",
       "      <td>Taxi</td>\n",
       "      <td>No Event</td>\n",
       "      <td>121.800. UAE201, taxi to runway 12R via taxiwa...</td>\n",
       "    </tr>\n",
       "    <tr>\n",
       "      <th>2</th>\n",
       "      <td>00:20:00</td>\n",
       "      <td>UAE201</td>\n",
       "      <td>118.750</td>\n",
       "      <td>UAE201, Dubai Tower, wind 110 degrees at 5 kno...</td>\n",
       "      <td>0</td>\n",
       "      <td>Takeoff</td>\n",
       "      <td>No Event</td>\n",
       "      <td>118.750. UAE201, Dubai Tower, wind 110 degrees...</td>\n",
       "    </tr>\n",
       "    <tr>\n",
       "      <th>3</th>\n",
       "      <td>00:25:00</td>\n",
       "      <td>UAE201</td>\n",
       "      <td>124.500</td>\n",
       "      <td>UAE201, contact Dubai Departure on 124.5. Good...</td>\n",
       "      <td>3000</td>\n",
       "      <td>Departure</td>\n",
       "      <td>No Event</td>\n",
       "      <td>124.500. UAE201, contact Dubai Departure on 12...</td>\n",
       "    </tr>\n",
       "    <tr>\n",
       "      <th>4</th>\n",
       "      <td>00:30:00</td>\n",
       "      <td>UAE201</td>\n",
       "      <td>124.500</td>\n",
       "      <td>UAE201, climb and maintain flight level 150.</td>\n",
       "      <td>10000</td>\n",
       "      <td>Climb</td>\n",
       "      <td>No Event</td>\n",
       "      <td>124.500. UAE201, climb and maintain flight lev...</td>\n",
       "    </tr>\n",
       "  </tbody>\n",
       "</table>\n",
       "</div>"
      ],
      "text/plain": [
       "   time_utc call_sign frequency  \\\n",
       "0  00:05:00    UAE201   121.900   \n",
       "1  00:10:00    UAE201   121.800   \n",
       "2  00:20:00    UAE201   118.750   \n",
       "3  00:25:00    UAE201   124.500   \n",
       "4  00:30:00    UAE201   124.500   \n",
       "\n",
       "                                             message  altitude       phase  \\\n",
       "0  UAE201, Dubai Ground, pushback and engine star...         0  Pre-flight   \n",
       "1  UAE201, taxi to runway 12R via taxiways Alpha ...         0        Taxi   \n",
       "2  UAE201, Dubai Tower, wind 110 degrees at 5 kno...         0     Takeoff   \n",
       "3  UAE201, contact Dubai Departure on 124.5. Good...      3000   Departure   \n",
       "4       UAE201, climb and maintain flight level 150.     10000       Climb   \n",
       "\n",
       "  event_flag                                               text  \n",
       "0   No Event  121.900. UAE201, Dubai Ground, pushback and en...  \n",
       "1   No Event  121.800. UAE201, taxi to runway 12R via taxiwa...  \n",
       "2   No Event  118.750. UAE201, Dubai Tower, wind 110 degrees...  \n",
       "3   No Event  124.500. UAE201, contact Dubai Departure on 12...  \n",
       "4   No Event  124.500. UAE201, climb and maintain flight lev...  "
      ]
     },
     "execution_count": 163,
     "metadata": {},
     "output_type": "execute_result"
    }
   ],
   "source": [
    "df_atc_communications.head()"
   ]
  },
  {
   "cell_type": "code",
   "execution_count": 164,
   "id": "d36294b1",
   "metadata": {},
   "outputs": [
    {
     "data": {
      "text/html": [
       "<div>\n",
       "<style scoped>\n",
       "    .dataframe tbody tr th:only-of-type {\n",
       "        vertical-align: middle;\n",
       "    }\n",
       "\n",
       "    .dataframe tbody tr th {\n",
       "        vertical-align: top;\n",
       "    }\n",
       "\n",
       "    .dataframe thead th {\n",
       "        text-align: right;\n",
       "    }\n",
       "</style>\n",
       "<table border=\"1\" class=\"dataframe\">\n",
       "  <thead>\n",
       "    <tr style=\"text-align: right;\">\n",
       "      <th></th>\n",
       "      <th>time_utc</th>\n",
       "      <th>call_sign</th>\n",
       "      <th>frequency</th>\n",
       "      <th>message</th>\n",
       "      <th>altitude</th>\n",
       "      <th>phase</th>\n",
       "      <th>event_flag</th>\n",
       "      <th>text</th>\n",
       "    </tr>\n",
       "  </thead>\n",
       "  <tbody>\n",
       "    <tr>\n",
       "      <th>21</th>\n",
       "      <td>16:00:00</td>\n",
       "      <td>UAE201</td>\n",
       "      <td>125.600</td>\n",
       "      <td>UAE201, we have an indication of engine failur...</td>\n",
       "      <td>36000</td>\n",
       "      <td>Cruise</td>\n",
       "      <td>Emergency</td>\n",
       "      <td>125.600. UAE201, we have an indication of engi...</td>\n",
       "    </tr>\n",
       "    <tr>\n",
       "      <th>22</th>\n",
       "      <td>16:05:00</td>\n",
       "      <td>UAE201</td>\n",
       "      <td>125.600</td>\n",
       "      <td>UAE201, roger, descend and maintain 10,000 fee...</td>\n",
       "      <td>10000</td>\n",
       "      <td>Descent</td>\n",
       "      <td>Emergency</td>\n",
       "      <td>125.600. UAE201, roger, descend and maintain 1...</td>\n",
       "    </tr>\n",
       "    <tr>\n",
       "      <th>23</th>\n",
       "      <td>17:00:00</td>\n",
       "      <td>UAE201</td>\n",
       "      <td>119.100</td>\n",
       "      <td>UAE201, cleared for emergency landing runway 2...</td>\n",
       "      <td>3000</td>\n",
       "      <td>Approach</td>\n",
       "      <td>Emergency</td>\n",
       "      <td>119.100. UAE201, cleared for emergency landing...</td>\n",
       "    </tr>\n",
       "    <tr>\n",
       "      <th>24</th>\n",
       "      <td>17:10:00</td>\n",
       "      <td>UAE201</td>\n",
       "      <td>118.500</td>\n",
       "      <td>UAE201, Jakarta Tower, runway 25R cleared to l...</td>\n",
       "      <td>0</td>\n",
       "      <td>Landing</td>\n",
       "      <td>Emergency</td>\n",
       "      <td>118.500. UAE201, Jakarta Tower, runway 25R cle...</td>\n",
       "    </tr>\n",
       "    <tr>\n",
       "      <th>25</th>\n",
       "      <td>17:20:00</td>\n",
       "      <td>UAE201</td>\n",
       "      <td>121.700</td>\n",
       "      <td>UAE201, taxi to stand, follow the escort vehicle.</td>\n",
       "      <td>0</td>\n",
       "      <td>Taxi to Gate</td>\n",
       "      <td>Emergency</td>\n",
       "      <td>121.700. UAE201, taxi to stand, follow the esc...</td>\n",
       "    </tr>\n",
       "    <tr>\n",
       "      <th>26</th>\n",
       "      <td>17:30:00</td>\n",
       "      <td>UAE201</td>\n",
       "      <td>---</td>\n",
       "      <td>-- Aircraft grounded for inspection --</td>\n",
       "      <td>0</td>\n",
       "      <td>Ground</td>\n",
       "      <td>Emergency</td>\n",
       "      <td>---. -- Aircraft grounded for inspection --. G...</td>\n",
       "    </tr>\n",
       "  </tbody>\n",
       "</table>\n",
       "</div>"
      ],
      "text/plain": [
       "    time_utc call_sign frequency  \\\n",
       "21  16:00:00    UAE201   125.600   \n",
       "22  16:05:00    UAE201   125.600   \n",
       "23  17:00:00    UAE201   119.100   \n",
       "24  17:10:00    UAE201   118.500   \n",
       "25  17:20:00    UAE201   121.700   \n",
       "26  17:30:00    UAE201       ---   \n",
       "\n",
       "                                              message  altitude         phase  \\\n",
       "21  UAE201, we have an indication of engine failur...     36000        Cruise   \n",
       "22  UAE201, roger, descend and maintain 10,000 fee...     10000       Descent   \n",
       "23  UAE201, cleared for emergency landing runway 2...      3000      Approach   \n",
       "24  UAE201, Jakarta Tower, runway 25R cleared to l...         0       Landing   \n",
       "25  UAE201, taxi to stand, follow the escort vehicle.         0  Taxi to Gate   \n",
       "26             -- Aircraft grounded for inspection --         0        Ground   \n",
       "\n",
       "   event_flag                                               text  \n",
       "21  Emergency  125.600. UAE201, we have an indication of engi...  \n",
       "22  Emergency  125.600. UAE201, roger, descend and maintain 1...  \n",
       "23  Emergency  119.100. UAE201, cleared for emergency landing...  \n",
       "24  Emergency  118.500. UAE201, Jakarta Tower, runway 25R cle...  \n",
       "25  Emergency  121.700. UAE201, taxi to stand, follow the esc...  \n",
       "26  Emergency  ---. -- Aircraft grounded for inspection --. G...  "
      ]
     },
     "execution_count": 164,
     "metadata": {},
     "output_type": "execute_result"
    }
   ],
   "source": [
    "df_atc_communications[df_atc_communications['event_flag'] == \"Emergency\"]"
   ]
  },
  {
   "cell_type": "code",
   "execution_count": 165,
   "id": "cb62407e",
   "metadata": {},
   "outputs": [],
   "source": [
    "es_client = Elasticsearch('http://localhost:9200')"
   ]
  },
  {
   "cell_type": "code",
   "execution_count": 166,
   "id": "50929f2e",
   "metadata": {},
   "outputs": [],
   "source": [
    "index_name = 'atc_communications'\n",
    "\n",
    "index_settings = {\n",
    "    \"settings\": {\n",
    "        \"number_of_shards\": 1,\n",
    "        \"number_of_replicas\": 0\n",
    "    },\n",
    "    \"mappings\": {\n",
    "        \"properties\": {\n",
    "            \"time_utc\": {\"type\": \"text\"},\n",
    "            \"call_sign\": {\"type\": \"keyword\"},\n",
    "            \"frequency\": {\"type\": \"text\"},\n",
    "            \"message\": {\"type\": \"text\"},\n",
    "            \"phase\": {\"type\": \"keyword\"},\n",
    "            \"event_flag\": {\"type\": \"keyword\"},\n",
    "            \"text\": {\"type\": \"text\"},\n",
    "            \"source\":{\"type\":\"text\"},\n",
    "            \"embedding\": {\"type\": \"dense_vector\", \"dims\": 384, \"index\": True, \"similarity\": \"cosine\"}  # Adjust dims based on embedding size\n",
    "        }\n",
    "    }\n",
    "}\n"
   ]
  },
  {
   "cell_type": "code",
   "execution_count": 167,
   "id": "9b641bfa",
   "metadata": {},
   "outputs": [
    {
     "data": {
      "text/plain": [
       "ObjectApiResponse({'acknowledged': True, 'shards_acknowledged': True, 'index': 'atc_communications'})"
      ]
     },
     "execution_count": 167,
     "metadata": {},
     "output_type": "execute_result"
    }
   ],
   "source": [
    "# Delete the index if it already exists\n",
    "if es_client.indices.exists(index=index_name):\n",
    "    es_client.indices.delete(index=index_name)\n",
    "\n",
    "# Create the index\n",
    "es_client.indices.create(index=index_name, body=index_settings)\n"
   ]
  },
  {
   "cell_type": "code",
   "execution_count": 168,
   "id": "26cb109f",
   "metadata": {},
   "outputs": [],
   "source": [
    "model = SentenceTransformer('all-MiniLM-L6-v2')"
   ]
  },
  {
   "cell_type": "code",
   "execution_count": 169,
   "id": "c169b629",
   "metadata": {},
   "outputs": [
    {
     "data": {
      "text/plain": [
       "384"
      ]
     },
     "execution_count": 169,
     "metadata": {},
     "output_type": "execute_result"
    }
   ],
   "source": [
    "len(model.encode(\"This is a simple sentence\"))"
   ]
  },
  {
   "cell_type": "code",
   "execution_count": 170,
   "id": "871466e8",
   "metadata": {},
   "outputs": [],
   "source": [
    "df_atc_communications['source'] = 'atc_communication'\n"
   ]
  },
  {
   "cell_type": "code",
   "execution_count": 171,
   "id": "1ed20e3d",
   "metadata": {},
   "outputs": [],
   "source": [
    "def get_embedding(text):\n",
    "    return model.encode(text).tolist()\n",
    "\n",
    "# Generate embeddings for all texts\n",
    "df_atc_communications['embedding'] = df_atc_communications['text'].apply(get_embedding)\n"
   ]
  },
  {
   "cell_type": "markdown",
   "id": "74b7ca99",
   "metadata": {},
   "source": [
    " ### Indexing Data with Embeddings"
   ]
  },
  {
   "cell_type": "code",
   "execution_count": 172,
   "id": "1f9bebed",
   "metadata": {},
   "outputs": [],
   "source": [
    "# Prepare Data for Indexing\n",
    "\n",
    "records = df_atc_communications.to_dict(orient='records')\n"
   ]
  },
  {
   "cell_type": "code",
   "execution_count": 173,
   "id": "95f2d711",
   "metadata": {},
   "outputs": [
    {
     "data": {
      "text/plain": [
       "{'time_utc': '00:05:00',\n",
       " 'call_sign': 'UAE201',\n",
       " 'frequency': '121.900',\n",
       " 'message': 'UAE201, Dubai Ground, pushback and engine start approved. Expect runway 12R for departure.',\n",
       " 'altitude': 0,\n",
       " 'phase': 'Pre-flight',\n",
       " 'event_flag': 'No Event',\n",
       " 'text': '121.900. UAE201, Dubai Ground, pushback and engine start approved. Expect runway 12R for departure.. Pre-flight. No Event',\n",
       " 'source': 'atc_communication',\n",
       " 'embedding': [0.05607745051383972,\n",
       "  0.01026538759469986,\n",
       "  -0.0053070527501404285,\n",
       "  0.016052762046456337,\n",
       "  0.017317432910203934,\n",
       "  0.012573706917464733,\n",
       "  -0.08177617937326431,\n",
       "  -0.007833302021026611,\n",
       "  -0.02114078402519226,\n",
       "  -0.016542963683605194,\n",
       "  0.04867243766784668,\n",
       "  -0.029997212812304497,\n",
       "  -0.020496241748332977,\n",
       "  -0.03377648815512657,\n",
       "  -0.08672980964183807,\n",
       "  -0.027755580842494965,\n",
       "  0.032688774168491364,\n",
       "  -0.1455686092376709,\n",
       "  -0.018805749714374542,\n",
       "  0.013807186856865883,\n",
       "  0.07517226785421371,\n",
       "  0.004148000851273537,\n",
       "  0.07723048329353333,\n",
       "  0.04560483619570732,\n",
       "  -0.04908378794789314,\n",
       "  0.01100733783096075,\n",
       "  -0.022103093564510345,\n",
       "  0.10079366713762283,\n",
       "  0.022532975301146507,\n",
       "  -0.0586865097284317,\n",
       "  0.036441121250391006,\n",
       "  0.008879516273736954,\n",
       "  0.06281176954507828,\n",
       "  -0.06287770718336105,\n",
       "  0.04222042113542557,\n",
       "  0.06969597935676575,\n",
       "  0.01844838075339794,\n",
       "  -0.09829573333263397,\n",
       "  0.03676668554544449,\n",
       "  0.0019085528329014778,\n",
       "  0.01756903901696205,\n",
       "  -0.11379268020391464,\n",
       "  0.06363993883132935,\n",
       "  0.013132110238075256,\n",
       "  0.10592547059059143,\n",
       "  -0.03956083953380585,\n",
       "  -0.000695444003213197,\n",
       "  -0.01910334825515747,\n",
       "  0.03485358506441116,\n",
       "  -0.032254066318273544,\n",
       "  0.06473084539175034,\n",
       "  0.0016085300594568253,\n",
       "  0.01415791641920805,\n",
       "  -0.032170891761779785,\n",
       "  0.09386835247278214,\n",
       "  0.03536428138613701,\n",
       "  -0.05079064890742302,\n",
       "  -0.08905431628227234,\n",
       "  0.011849994771182537,\n",
       "  -0.07687526196241379,\n",
       "  -0.08393742144107819,\n",
       "  -0.031629547476768494,\n",
       "  -0.015554131008684635,\n",
       "  0.04077327996492386,\n",
       "  0.004973504692316055,\n",
       "  0.026120174676179886,\n",
       "  -0.04492586478590965,\n",
       "  -0.07720030099153519,\n",
       "  0.050677601248025894,\n",
       "  -0.039376165717840195,\n",
       "  0.00809016078710556,\n",
       "  0.03697338327765465,\n",
       "  -0.006990975234657526,\n",
       "  -3.890998777933419e-05,\n",
       "  -0.07083019614219666,\n",
       "  -0.010170303285121918,\n",
       "  -0.014447364024817944,\n",
       "  0.026318080723285675,\n",
       "  -0.03211241215467453,\n",
       "  -0.022951269522309303,\n",
       "  -0.02466501295566559,\n",
       "  -0.096339650452137,\n",
       "  -0.043433234095573425,\n",
       "  0.00023667459026910365,\n",
       "  0.010680611245334148,\n",
       "  -0.05726220831274986,\n",
       "  0.07043257355690002,\n",
       "  0.0686117559671402,\n",
       "  -0.04842106252908707,\n",
       "  0.02044059708714485,\n",
       "  -0.023790085688233376,\n",
       "  -0.017251305282115936,\n",
       "  -0.02905823104083538,\n",
       "  0.11956480890512466,\n",
       "  -0.11556579172611237,\n",
       "  0.031533874571323395,\n",
       "  -0.008221246302127838,\n",
       "  -0.1299460530281067,\n",
       "  0.01816650480031967,\n",
       "  0.02180192433297634,\n",
       "  0.026022668927907944,\n",
       "  0.05937309190630913,\n",
       "  -0.03180668503046036,\n",
       "  0.060643550008535385,\n",
       "  -0.07230197638273239,\n",
       "  0.09899179637432098,\n",
       "  0.010387783870100975,\n",
       "  0.021945403888821602,\n",
       "  -0.014581398107111454,\n",
       "  -0.01188050676137209,\n",
       "  -0.03008488565683365,\n",
       "  -0.048756569623947144,\n",
       "  0.0007139245280995965,\n",
       "  -0.044243115931749344,\n",
       "  -0.01605934277176857,\n",
       "  0.06222141906619072,\n",
       "  -0.06908638030290604,\n",
       "  0.015002315863966942,\n",
       "  0.021234819665551186,\n",
       "  -0.11283959448337555,\n",
       "  -0.009430428966879845,\n",
       "  -0.004381543956696987,\n",
       "  0.05883575603365898,\n",
       "  0.018293149769306183,\n",
       "  -0.03816961124539375,\n",
       "  -0.07539166510105133,\n",
       "  -0.011478847824037075,\n",
       "  -3.4542812966212286e-34,\n",
       "  0.027287419885396957,\n",
       "  -0.07654694467782974,\n",
       "  -0.026789357885718346,\n",
       "  0.04546048864722252,\n",
       "  0.045385122299194336,\n",
       "  -0.015502022579312325,\n",
       "  -0.09340731799602509,\n",
       "  0.037792738527059555,\n",
       "  -0.026568669825792313,\n",
       "  0.029627589508891106,\n",
       "  0.038842927664518356,\n",
       "  -0.02830624394118786,\n",
       "  0.03562460467219353,\n",
       "  -0.04574664309620857,\n",
       "  -0.03170435130596161,\n",
       "  -0.10795757174491882,\n",
       "  0.06767819076776505,\n",
       "  -0.05015647038817406,\n",
       "  0.02488650195300579,\n",
       "  0.007114933803677559,\n",
       "  0.0005401905509643257,\n",
       "  -0.08602071553468704,\n",
       "  -0.06802689284086227,\n",
       "  0.011761085130274296,\n",
       "  0.05897761136293411,\n",
       "  0.10961848497390747,\n",
       "  -0.03713756054639816,\n",
       "  -0.01644417829811573,\n",
       "  0.025526367127895355,\n",
       "  0.044558580964803696,\n",
       "  -0.08039619028568268,\n",
       "  -0.016036605462431908,\n",
       "  -0.002607177710160613,\n",
       "  -0.041009120643138885,\n",
       "  -0.09692756086587906,\n",
       "  -0.0030794895719736814,\n",
       "  0.0028471227269619703,\n",
       "  -0.014565784484148026,\n",
       "  -0.021266285330057144,\n",
       "  -0.06174997612833977,\n",
       "  0.0061492640525102615,\n",
       "  -0.029241392388939857,\n",
       "  -0.0038378636818379164,\n",
       "  -0.08808537572622299,\n",
       "  0.003388036275282502,\n",
       "  0.019909223541617393,\n",
       "  0.038289625197649,\n",
       "  -0.00820162333548069,\n",
       "  0.17465057969093323,\n",
       "  0.058670274913311005,\n",
       "  -0.06413941830396652,\n",
       "  -0.03144661709666252,\n",
       "  0.02347142994403839,\n",
       "  -0.022413115948438644,\n",
       "  -0.00021226861281320453,\n",
       "  0.01738816685974598,\n",
       "  -0.021901186555624008,\n",
       "  -0.0370112806558609,\n",
       "  -0.06827741861343384,\n",
       "  0.12602351605892181,\n",
       "  0.027218490839004517,\n",
       "  0.05101524665951729,\n",
       "  -0.0366639718413353,\n",
       "  -0.018598128110170364,\n",
       "  -0.057421956211328506,\n",
       "  0.021883390843868256,\n",
       "  0.02900204434990883,\n",
       "  -0.043707408010959625,\n",
       "  0.02609533816576004,\n",
       "  0.0007026261300779879,\n",
       "  -0.012282224372029305,\n",
       "  0.022571109235286713,\n",
       "  0.08129457384347916,\n",
       "  0.07794585078954697,\n",
       "  0.055277008563280106,\n",
       "  0.054484542459249496,\n",
       "  -0.03864184767007828,\n",
       "  -0.022835176438093185,\n",
       "  0.04760716110467911,\n",
       "  0.07085353881120682,\n",
       "  0.005329308100044727,\n",
       "  0.09600578993558884,\n",
       "  0.013132156804203987,\n",
       "  -0.0035767529625445604,\n",
       "  0.042681336402893066,\n",
       "  0.030106058344244957,\n",
       "  0.0023603669833391905,\n",
       "  0.02306203916668892,\n",
       "  -0.02065177820622921,\n",
       "  0.017132064327597618,\n",
       "  0.0004243837611284107,\n",
       "  -0.037902962416410446,\n",
       "  0.05317864194512367,\n",
       "  0.08020435273647308,\n",
       "  -0.02832098864018917,\n",
       "  -1.0669723450123893e-33,\n",
       "  0.05989100784063339,\n",
       "  0.1295190453529358,\n",
       "  -0.06753170490264893,\n",
       "  -0.016358112916350365,\n",
       "  -0.009730251505970955,\n",
       "  0.052432045340538025,\n",
       "  0.12708677351474762,\n",
       "  0.06789123266935349,\n",
       "  0.04758717119693756,\n",
       "  0.07624614983797073,\n",
       "  0.014823692850768566,\n",
       "  0.002981470199301839,\n",
       "  0.06557128578424454,\n",
       "  -0.08907788246870041,\n",
       "  -0.03375265374779701,\n",
       "  -0.02207697182893753,\n",
       "  -0.005174718797206879,\n",
       "  -0.014155032113194466,\n",
       "  0.003130856202915311,\n",
       "  -0.03029654547572136,\n",
       "  0.03250698745250702,\n",
       "  0.04248294234275818,\n",
       "  -0.07004313915967941,\n",
       "  -0.028612805530428886,\n",
       "  -0.014750861562788486,\n",
       "  0.059376008808612823,\n",
       "  0.0557386539876461,\n",
       "  0.07440640777349472,\n",
       "  -0.14440785348415375,\n",
       "  0.0002821546804625541,\n",
       "  -0.05773952603340149,\n",
       "  -0.048185549676418304,\n",
       "  -0.05100775137543678,\n",
       "  0.10424034297466278,\n",
       "  -0.06033732742071152,\n",
       "  -0.03417220339179039,\n",
       "  -0.04386308044195175,\n",
       "  0.027955323457717896,\n",
       "  -0.013978262431919575,\n",
       "  0.006862124893814325,\n",
       "  0.023961108177900314,\n",
       "  0.07531087845563889,\n",
       "  0.017152881249785423,\n",
       "  0.013204136863350868,\n",
       "  -0.029891399666666985,\n",
       "  -0.013954823836684227,\n",
       "  0.05695723742246628,\n",
       "  -0.008387255482375622,\n",
       "  0.07474762946367264,\n",
       "  -0.0581730417907238,\n",
       "  -0.0627044215798378,\n",
       "  0.052623555064201355,\n",
       "  0.0025979620404541492,\n",
       "  0.08574651181697845,\n",
       "  0.06141581013798714,\n",
       "  0.018434224650263786,\n",
       "  0.003107167547568679,\n",
       "  0.03127075731754303,\n",
       "  -0.012597181834280491,\n",
       "  0.06465347111225128,\n",
       "  0.09181316196918488,\n",
       "  0.051941387355327606,\n",
       "  0.012317921966314316,\n",
       "  0.061254728585481644,\n",
       "  0.02801493927836418,\n",
       "  -0.04093401879072189,\n",
       "  -0.06208694726228714,\n",
       "  0.0060506253503263,\n",
       "  -0.0025882201734930277,\n",
       "  0.05966731533408165,\n",
       "  -0.0018994141137227416,\n",
       "  -0.01919577643275261,\n",
       "  -0.0066650365479290485,\n",
       "  0.0555507130920887,\n",
       "  0.024606583639979362,\n",
       "  -0.023220360279083252,\n",
       "  -0.05137578397989273,\n",
       "  0.005316313821822405,\n",
       "  0.018395615741610527,\n",
       "  -0.008791295811533928,\n",
       "  0.030021024867892265,\n",
       "  -0.05124321207404137,\n",
       "  -0.07658691704273224,\n",
       "  0.024215858429670334,\n",
       "  0.037733860313892365,\n",
       "  0.01138807088136673,\n",
       "  -0.014511303044855595,\n",
       "  -0.0009070307714864612,\n",
       "  0.10063724964857101,\n",
       "  0.03208666667342186,\n",
       "  -0.030530311167240143,\n",
       "  0.02463916875422001,\n",
       "  0.011205638758838177,\n",
       "  -0.041717808693647385,\n",
       "  -0.011602464132010937,\n",
       "  -2.6604393355000866e-08,\n",
       "  -0.07186584919691086,\n",
       "  0.02700866386294365,\n",
       "  0.010686184279620647,\n",
       "  -0.036482568830251694,\n",
       "  0.053650565445423126,\n",
       "  0.03872356191277504,\n",
       "  0.025736583396792412,\n",
       "  -0.012150974944233894,\n",
       "  -0.05866789072751999,\n",
       "  -0.10580921918153763,\n",
       "  0.035159409046173096,\n",
       "  -0.004042226821184158,\n",
       "  -0.059361815452575684,\n",
       "  0.05649930238723755,\n",
       "  -0.07552845031023026,\n",
       "  0.010841503739356995,\n",
       "  -0.04980664700269699,\n",
       "  0.05051756650209427,\n",
       "  0.0005435834173113108,\n",
       "  -0.1089537963271141,\n",
       "  -0.011410235427320004,\n",
       "  0.03851594403386116,\n",
       "  -0.059559836983680725,\n",
       "  -0.08273613452911377,\n",
       "  0.017212461680173874,\n",
       "  -0.04436098784208298,\n",
       "  0.010907277464866638,\n",
       "  0.09668689221143723,\n",
       "  0.009677406400442123,\n",
       "  0.036355141550302505,\n",
       "  -0.002718539908528328,\n",
       "  -0.007298280484974384,\n",
       "  -0.059383925050497055,\n",
       "  -0.10964976996183395,\n",
       "  -0.038633011281490326,\n",
       "  0.10350409895181656,\n",
       "  -0.02958705648779869,\n",
       "  0.022974768653512,\n",
       "  0.05267227441072464,\n",
       "  -0.03008824586868286,\n",
       "  0.03246185928583145,\n",
       "  -0.04800911620259285,\n",
       "  -0.003407030599191785,\n",
       "  -0.045814745128154755,\n",
       "  0.019860627129673958,\n",
       "  0.00792379304766655,\n",
       "  -0.12467315047979355,\n",
       "  -0.022699205204844475,\n",
       "  0.0022782643791288137,\n",
       "  -0.06470008939504623,\n",
       "  0.04879278689622879,\n",
       "  0.01577354222536087,\n",
       "  -0.0032244562171399593,\n",
       "  0.05022040382027626,\n",
       "  0.07041627913713455,\n",
       "  -0.017194140702486038,\n",
       "  -0.0483788326382637,\n",
       "  -0.026434222236275673,\n",
       "  -0.016020607203245163,\n",
       "  0.07667898386716843,\n",
       "  0.07843528687953949,\n",
       "  -0.04121260344982147,\n",
       "  -0.04781248793005943,\n",
       "  0.007817943580448627]}"
      ]
     },
     "execution_count": 173,
     "metadata": {},
     "output_type": "execute_result"
    }
   ],
   "source": [
    "records[0]"
   ]
  },
  {
   "cell_type": "code",
   "execution_count": 174,
   "id": "6df153aa",
   "metadata": {},
   "outputs": [],
   "source": [
    "def generate_actions():\n",
    "    for record in records:\n",
    "        yield {\n",
    "            \"_index\": index_name,\n",
    "            \"_source\": record\n",
    "            \n",
    "        }"
   ]
  },
  {
   "cell_type": "code",
   "execution_count": 175,
   "id": "89309389",
   "metadata": {},
   "outputs": [],
   "source": [
    "def bulk_index_data(es_client, actions):\n",
    "    try:\n",
    "        bulk(es_client, generate_actions())\n",
    "        print(\"Bulk indexing completed successfully!\")\n",
    "\n",
    "    except BulkIndexError as e:\n",
    "        print(f\"{len(e.errors)} documents failed to index\")\n",
    "        failed_documents = e.errors\n",
    "        for i, error in enumerate(failed_documents, 1):\n",
    "            action = error['index']\n",
    "            error_info = action.get('error', {})\n",
    "            document_id = action.get('_id', \"N/A\")\n",
    "            status = action.get('status', \"Unknown Status\")\n",
    "\n",
    "            print(f\"\\nFailed Document {i}:\")\n",
    "            print(f\"ID: {document_id}\")\n",
    "            print(f\"Status: {status}\")\n",
    "            print(f\"Error Type: {error_info.get('type')}\")\n",
    "            print(f\"Reason: {error_info.get('reason')}\")\n",
    "            document_source = action.get('data', {})\n",
    "            print(f\"Document Content: {document_source}\")\n",
    "\n",
    "    "
   ]
  },
  {
   "cell_type": "code",
   "execution_count": 176,
   "id": "5b1a7707",
   "metadata": {},
   "outputs": [
    {
     "name": "stdout",
     "output_type": "stream",
     "text": [
      "Bulk indexing completed successfully!\n"
     ]
    }
   ],
   "source": [
    "bulk_index_data(es_client, generate_actions())\n"
   ]
  },
  {
   "cell_type": "markdown",
   "id": "b573de84",
   "metadata": {},
   "source": [
    "#### Implementing User Query Functions"
   ]
  },
  {
   "cell_type": "code",
   "execution_count": 177,
   "id": "b3b6a5dd",
   "metadata": {},
   "outputs": [],
   "source": [
    "client = OpenAI()"
   ]
  },
  {
   "cell_type": "code",
   "execution_count": 178,
   "id": "b346d7bf",
   "metadata": {},
   "outputs": [],
   "source": [
    "def get_user_query(query):\n",
    "    # For demonstration, you can hardcode a query or accept input\n",
    "    return query\n"
   ]
  },
  {
   "cell_type": "code",
   "execution_count": 179,
   "id": "209e7bce",
   "metadata": {},
   "outputs": [],
   "source": [
    "def get_query_embedding(query):\n",
    "    return model.encode(query).tolist()\n"
   ]
  },
  {
   "cell_type": "code",
   "execution_count": 180,
   "id": "e12378ad",
   "metadata": {},
   "outputs": [],
   "source": [
    "conversation_history = []\n"
   ]
  },
  {
   "cell_type": "code",
   "execution_count": 197,
   "id": "c64a49d4",
   "metadata": {},
   "outputs": [],
   "source": [
    "def elastic_search(query_vector, index_name, es_client, top_k=10):\n",
    "    # Define the script query\n",
    "    script_query = {\n",
    "        \"script_score\": {\n",
    "            \"query\": {\n",
    "                \"match_all\": {}\n",
    "            },\n",
    "            \"script\": {\n",
    "                \"source\": \"cosineSimilarity(params.query_vector, 'embedding') + 1.0\",\n",
    "                \"params\": {\"query_vector\": query_vector}\n",
    "            }\n",
    "        }\n",
    "    }\n",
    "    \n",
    "    try:\n",
    "        # Execute the search query\n",
    "        response = es_client.search(\n",
    "            index=index_name,\n",
    "            body={\n",
    "                \"size\": top_k,\n",
    "                \"query\": script_query,\n",
    "                \"_source\": [\"time_utc\", \"frequency\", \"message\", \"phase\",\"event_flag\",\"text\"]\n",
    "            }\n",
    "        )\n",
    "        \n",
    "        # Collect the search results\n",
    "        result_docs = [hit['_source'] for hit in response['hits']['hits']]\n",
    "        \n",
    "        return result_docs  # Return the results for further processing if needed\n",
    "        \n",
    "    except Exception as e:\n",
    "        print(f\"An error occurred: {e}\")\n",
    "        return None\n"
   ]
  },
  {
   "cell_type": "code",
   "execution_count": 195,
   "id": "6eca9b39",
   "metadata": {},
   "outputs": [],
   "source": [
    "def retrieve_documents(query):\n",
    "    query_vector = get_query_embedding(query)\n",
    "    # Search in ATC communications\n",
    "    retrieved_docs = elastic_search(query_vector, index_name, es_client, top_k=10)\n",
    "    return retrieved_docs"
   ]
  },
  {
   "cell_type": "code",
   "execution_count": 196,
   "id": "9d451ef2",
   "metadata": {},
   "outputs": [
    {
     "name": "stdout",
     "output_type": "stream",
     "text": [
      "An error occurred: BadRequestError(400, 'search_phase_execution_exception', 'Text fields are not optimised for operations that require per-document field data like aggregations and sorting, so these operations are disabled by default. Please use a keyword field instead. Alternatively, set fielddata=true on [time_utc] in order to load field data by uninverting the inverted index. Note that this can use significant memory.')\n"
     ]
    }
   ],
   "source": [
    "retrieve_documents('all communications related to the emergency')"
   ]
  },
  {
   "cell_type": "code",
   "execution_count": 184,
   "id": "23f0dc89",
   "metadata": {},
   "outputs": [],
   "source": [
    "def format_retrieved_documents(retrieved_docs):\n",
    "    formatted_docs = \"\"\n",
    "    for doc in retrieved_docs:\n",
    "        formatted_docs += f\"Time: {doc['time_utc']}\\n\"\n",
    "        formatted_docs += f\"Frequency: {doc['frequency']}\\n\"\n",
    "        formatted_docs += f\"Message: {doc['message']}\\n\\n\"\n",
    "        formatted_docs += f\"Phase: {doc['phase']}\\n\\n\"\n",
    "        formatted_docs += f\"Event: {doc['event_flag']}\\n\\n\"\n",
    "\n",
    "    return formatted_docs"
   ]
  },
  {
   "cell_type": "code",
   "execution_count": 185,
   "id": "9d104acb-bfd2-4a46-b008-2bcfcaa3566e",
   "metadata": {},
   "outputs": [],
   "source": [
    "\n",
    "def build_prompt(question, retrieved_docs):\n",
    "\n",
    "    prompt_template = \"\"\"\n",
    "    You are an assistant helping pilots with atc communications etc. Based on the following ATC communication information, answer the question:\n",
    "\n",
    "    ATC communication information:\n",
    "    {retrieved_docs}\n",
    "\n",
    "    Question:\n",
    "    {question}\n",
    "\n",
    "    Answer:\n",
    "    \"\"\".strip()\n",
    "\n",
    "    # Format the retrieved documents\n",
    "    formatted_docs = format_retrieved_documents(retrieved_docs)\n",
    "    \n",
    "    # Construct the prompt\n",
    "    prompt = prompt_template.format(retrieved_docs=formatted_docs, question=question)\n",
    "    \n",
    "    return prompt"
   ]
  },
  {
   "cell_type": "code",
   "execution_count": 186,
   "id": "34fe1ce9",
   "metadata": {},
   "outputs": [],
   "source": [
    "def build_messages(question, retrieved_docs, conversation_history):\n",
    "    # System prompt without retrieved documents\n",
    "    system_prompt = \"\"\"\n",
    "    You are an assistant helping pilots with giving informations such as flight manuals, ATC communications etc. Use the provided ATC communication information to answer the user's questions.\n",
    "    \"\"\".strip()\n",
    "\n",
    "    # Build the messages list\n",
    "    messages = []\n",
    "\n",
    "    # Add the system prompt\n",
    "    messages.append({'role': 'system', 'content': system_prompt})\n",
    "\n",
    "    # Add the retrieved documents as a system message\n",
    "    formatted_docs = format_retrieved_documents(retrieved_docs)\n",
    "    messages.append({'role': 'system', 'content': f\"ATC communication information:\\n{formatted_docs}\"})\n",
    "\n",
    "    # Add recent conversation history (limit to last N messages to stay within token limits)\n",
    "    messages.extend(conversation_history[-10:])  # Adjust N as needed\n",
    "\n",
    "    # Add the user's latest question\n",
    "    messages.append({'role': 'user', 'content': question})\n",
    "\n",
    "    return messages\n"
   ]
  },
  {
   "cell_type": "code",
   "execution_count": 187,
   "id": "3b5c00ec",
   "metadata": {},
   "outputs": [],
   "source": [
    "def generate_answer(messages):\n",
    "    response = client.chat.completions.create(\n",
    "        model='gpt-4o-mini',\n",
    "        messages=messages,\n",
    "        max_tokens=2500,\n",
    "        temperature=0\n",
    "    )\n",
    "    answer = response.choices[0].message.content\n",
    "    return answer\n"
   ]
  },
  {
   "cell_type": "code",
   "execution_count": 188,
   "id": "c947a74b-5fff-4833-b57c-bbf9744ef58c",
   "metadata": {},
   "outputs": [],
   "source": [
    "def rag(query):\n",
    "    query = get_user_query(query)\n",
    "    retrieved_docs = retrieve_documents(query)\n",
    "    messages = build_messages(query, retrieved_docs, conversation_history)\n",
    "    answer = generate_answer(messages)\n",
    "    # Update the conversation history\n",
    "    conversation_history.append({'role': 'user', 'content': query})\n",
    "    conversation_history.append({'role': 'assistant', 'content': answer})\n",
    "\n",
    "    return answer"
   ]
  },
  {
   "cell_type": "code",
   "execution_count": 189,
   "id": "db1a5934",
   "metadata": {},
   "outputs": [
    {
     "name": "stdout",
     "output_type": "stream",
     "text": [
      "Here is a summary of the communications related to the emergency for flight UAE201:\n",
      "\n",
      "1. **16:00:00 (Frequency: 125.600)** - UAE201 reported an indication of engine failure and requested an immediate descent.\n",
      "   \n",
      "2. **16:05:00 (Frequency: 125.600)** - ATC responded, instructing UAE201 to descend and maintain 10,000 feet, and to turn left heading 270 degrees for a vector back to Jakarta.\n",
      "\n",
      "3. **17:00:00 (Frequency: 119.100)** - UAE201 was cleared for an emergency landing on runway 25R, with emergency services standing by.\n",
      "\n",
      "4. **17:10:00 (Frequency: 118.500)** - UAE201 was cleared to land on runway 25R.\n",
      "\n",
      "5. **17:20:00 (Frequency: 121.700)** - After landing, UAE201 was instructed to taxi to the stand and follow the escort vehicle.\n",
      "\n",
      "6. **17:30:00** - The aircraft was grounded for inspection.\n",
      "\n",
      "This sequence outlines the critical communications during the emergency situation, from the initial engine failure indication to the aircraft being grounded for inspection after landing.\n"
     ]
    }
   ],
   "source": [
    "answer = rag(\"summarize communications related to the emergency\")\n",
    "print(answer)"
   ]
  },
  {
   "cell_type": "code",
   "execution_count": 190,
   "id": "00a0f751-35bc-4a24-9e16-6f206d857dc5",
   "metadata": {},
   "outputs": [
    {
     "name": "stdout",
     "output_type": "stream",
     "text": [
      "At 16:00:00 UTC, the ATC message was: \"UAE201, we have an indication of engine failure, requesting immediate descent.\" This communication indicated an emergency situation for flight UAE201.\n"
     ]
    }
   ],
   "source": [
    "answer = rag(\"What was the ATC message at 16:00 UTC?\")\n",
    "print(answer)"
   ]
  },
  {
   "cell_type": "code",
   "execution_count": 191,
   "id": "22c9984a-78c6-464f-b396-dea5728c4428",
   "metadata": {},
   "outputs": [
    {
     "name": "stdout",
     "output_type": "stream",
     "text": [
      "Yes, ATC reported moderate turbulence for flight UAE201 at 04:00:00 UTC, advising the flight to climb to flight level 370.\n"
     ]
    }
   ],
   "source": [
    "answer = rag('Did ATC report any turbulence today?')\n",
    "print(answer)"
   ]
  },
  {
   "cell_type": "code",
   "execution_count": 192,
   "id": "974bff71-53f3-4e7b-8b20-ba960ab1a506",
   "metadata": {},
   "outputs": [
    {
     "name": "stdout",
     "output_type": "stream",
     "text": [
      "There is no specific communication indicating a landing gear malfunction for flight UAE201 in the provided ATC communications. The emergency reported was related to an engine failure, and all landing clearances were given without mention of any landing gear issues.\n"
     ]
    }
   ],
   "source": [
    "answer = rag('is there Landing Gear Malfunction?')\n",
    "print(answer)"
   ]
  },
  {
   "cell_type": "code",
   "execution_count": 193,
   "id": "470ea178",
   "metadata": {},
   "outputs": [
    {
     "name": "stdout",
     "output_type": "stream",
     "text": [
      "Here is a summary of the last three ATC communications for flight UAE201:\n",
      "\n",
      "1. **Time: 00:10:00 (Frequency: 121.800)** - UAE201 was instructed to taxi to runway 12R via taxiways Alpha and Bravo, and to hold short of runway 12R.\n",
      "\n",
      "2. **Time: 09:45:00 (Frequency: 119.100)** - UAE201 was cleared to turn left heading 180 degrees, descend to 3,000 feet, and was cleared for the ILS approach to runway 25R.\n",
      "\n",
      "3. **Time: 08:00:00 (Frequency: 126.900)** - UAE201 was instructed to descend and maintain flight level 330.\n",
      "\n",
      "These communications cover taxi instructions, approach clearance, and descent instructions for the flight.\n"
     ]
    }
   ],
   "source": [
    "answer = rag(\"summarize last 3 atc communications\")\n",
    "print(answer)"
   ]
  },
  {
   "cell_type": "code",
   "execution_count": 111,
   "id": "df1a8902",
   "metadata": {},
   "outputs": [],
   "source": [
    "df_flight_manuals = pd.read_csv('../data/flight_manuals.csv', encoding='ISO-8859-1')\n"
   ]
  },
  {
   "cell_type": "code",
   "execution_count": 112,
   "id": "4973cc72",
   "metadata": {},
   "outputs": [],
   "source": [
    "df_flight_manuals.columns = clean_column_names(df_flight_manuals)"
   ]
  },
  {
   "cell_type": "code",
   "execution_count": 113,
   "id": "d37e577f",
   "metadata": {},
   "outputs": [
    {
     "name": "stdout",
     "output_type": "stream",
     "text": [
      "<class 'pandas.core.frame.DataFrame'>\n",
      "RangeIndex: 300 entries, 0 to 299\n",
      "Data columns (total 3 columns):\n",
      " #   Column          Non-Null Count  Dtype \n",
      "---  ------          --------------  ----- \n",
      " 0   manual_section  300 non-null    object\n",
      " 1   scenario        300 non-null    object\n",
      " 2   instructions    300 non-null    object\n",
      "dtypes: object(3)\n",
      "memory usage: 7.2+ KB\n"
     ]
    }
   ],
   "source": [
    "df_flight_manuals.info()"
   ]
  },
  {
   "cell_type": "code",
   "execution_count": 114,
   "id": "b758792f",
   "metadata": {},
   "outputs": [],
   "source": [
    "df_flight_manuals['text'] = df_flight_manuals['scenario'] + \". \" + df_flight_manuals['instructions']\n"
   ]
  },
  {
   "cell_type": "code",
   "execution_count": 121,
   "id": "c3b8fb15",
   "metadata": {},
   "outputs": [],
   "source": [
    "df_flight_manuals['source'] = 'flight_manual'\n"
   ]
  },
  {
   "cell_type": "code",
   "execution_count": 124,
   "id": "279ca79f",
   "metadata": {},
   "outputs": [],
   "source": [
    "index_name_flight_manuals = 'flight_manuals'\n",
    "\n",
    "index_settings_flight_manuals = {\n",
    "    \"settings\": {\n",
    "        \"number_of_shards\": 1,\n",
    "        \"number_of_replicas\": 0\n",
    "    },\n",
    "    \"mappings\": {\n",
    "        \"properties\": {\n",
    "            \"manual_section\": {\"type\": \"keyword\"},\n",
    "            \"scenario\": {\"type\": \"text\"},\n",
    "            \"instructions\": {\"type\": \"text\"},\n",
    "            \"text\": {\"type\": \"text\"},\n",
    "            \"source\":{\"type\": \"text\"},\n",
    "            \"embedding\": {\"type\": \"dense_vector\", \"dims\": 384, \"index\": True, \"similarity\": \"cosine\"}  # Adjust dims based on embedding size\n",
    "        }\n",
    "    }\n",
    "}"
   ]
  },
  {
   "cell_type": "code",
   "execution_count": 125,
   "id": "8906da01",
   "metadata": {},
   "outputs": [
    {
     "data": {
      "text/plain": [
       "ObjectApiResponse({'acknowledged': True, 'shards_acknowledged': True, 'index': 'flight_manuals'})"
      ]
     },
     "execution_count": 125,
     "metadata": {},
     "output_type": "execute_result"
    }
   ],
   "source": [
    "# Delete the index if it already exists\n",
    "if es_client.indices.exists(index=index_name_flight_manuals):\n",
    "    es_client.indices.delete(index=index_name_flight_manuals)\n",
    "\n",
    "# Create the index\n",
    "es_client.indices.create(index=index_name_flight_manuals, body=index_settings_flight_manuals)"
   ]
  },
  {
   "cell_type": "code",
   "execution_count": 126,
   "id": "fe9b04cc",
   "metadata": {},
   "outputs": [],
   "source": [
    "df_flight_manuals['embedding'] = df_flight_manuals['text'].apply(get_embedding)\n"
   ]
  },
  {
   "cell_type": "code",
   "execution_count": 127,
   "id": "9fe6458e",
   "metadata": {},
   "outputs": [],
   "source": [
    "flight_manuals_records = df_flight_manuals.to_dict(orient='records')\n"
   ]
  },
  {
   "cell_type": "code",
   "execution_count": null,
   "id": "98d1f21a",
   "metadata": {},
   "outputs": [],
   "source": [
    "def elastic_search_combine(query_vector, index_name, es_client, top_k=10, source_fields=None):\n",
    "    # Define the script query\n",
    "    script_query = {\n",
    "        \"script_score\": {\n",
    "            \"query\": {\n",
    "                \"match_all\": {}\n",
    "            },\n",
    "            \"script\": {\n",
    "                \"source\": \"cosineSimilarity(params.query_vector, 'embedding') + 1.0\",\n",
    "                \"params\": {\"query_vector\": query_vector}\n",
    "            }\n",
    "        }\n",
    "    }\n",
    "    \n",
    "    try:\n",
    "        # Execute the search query\n",
    "        response = es_client.search(\n",
    "            index=index_name,\n",
    "            body={\n",
    "                \"size\": top_k,\n",
    "                \"query\": script_query,\n",
    "                \"_source\": source_fields or [\"*\"]\n",
    "            }\n",
    "        )\n",
    "        \n",
    "        # Collect the search results\n",
    "        result_docs = [hit['_source'] for hit in response['hits']['hits']]\n",
    "        \n",
    "        return result_docs  # Return the results for further processing if needed\n",
    "        \n",
    "    except Exception as e:\n",
    "        print(f\"An error occurred: {e}\")\n",
    "        return None"
   ]
  },
  {
   "cell_type": "code",
   "execution_count": 129,
   "id": "34ef09a8",
   "metadata": {},
   "outputs": [],
   "source": [
    "def retrieve_documents_all(query):\n",
    "    query_vector = get_query_embedding(query)\n",
    "    # Search in ATC communications\n",
    "    atc_docs = elastic_search_combine(query_vector, index_name, es_client, top_k=10)\n",
    "    # serach in flight manual\n",
    "    flight_manual_docs = elastic_search_combine(query_vector, index_name_flight_manuals, es_client, top_k=10)\n",
    "    # Combine results\n",
    "    retrieved_docs = (atc_docs or []) + (flight_manual_docs or [])\n",
    "\n",
    "    return retrieved_docs"
   ]
  },
  {
   "cell_type": "code",
   "execution_count": 131,
   "id": "3ca596f6",
   "metadata": {},
   "outputs": [],
   "source": [
    "def format_retrieved_documents_all(retrieved_docs):\n",
    "    formatted_docs = \"\"\n",
    "\n",
    "    for doc in retrieved_docs:\n",
    "        if doc.get('source') == \"atc_communication\":\n",
    "            formatted_docs = f\"Time: {doc['time_utc']}, Message: {doc['message']}, Phase: {doc['phase']}, Event Flag: {doc['event_flag']}\\n\"\n",
    "\n",
    "        elif doc.get('source') == \"flight_manual\":\n",
    "            formatted_docs = f\"Manual Section: {doc['manual_section']}, Scenario: {doc['scenario']}, Instructions: {doc['instructions']}\\n\"\n",
    "\n",
    "        else:\n",
    "            # Handle other sources if any\n",
    "            formatted_docs = f\"{doc}\\n\"          \n",
    "\n",
    "        return formatted_docs"
   ]
  },
  {
   "cell_type": "code",
   "execution_count": 132,
   "id": "091669f6",
   "metadata": {},
   "outputs": [],
   "source": [
    "def build_messages_combine(question, retrieved_docs, conversation_history):\n",
    "    # System prompt without retrieved documents\n",
    "    system_prompt = \"\"\"\n",
    "    You are an assistant helping pilots with giving informations such as flight manuals, ATC communications etc. Use the provided ATC communication information and flight manual to answer the user's questions.\n",
    "    \"\"\".strip()\n",
    "\n",
    "    # Build the messages list\n",
    "    messages = []\n",
    "\n",
    "    # Add the system prompt\n",
    "    messages.append({'role': 'system', 'content': system_prompt})\n",
    "\n",
    "    # Add the retrieved documents as a system message\n",
    "    formatted_docs = format_retrieved_documents_all(retrieved_docs)\n",
    "    messages.append({'role': 'system', 'content': f\"ATC communication information:\\n{formatted_docs}\"})\n",
    "\n",
    "    # Add recent conversation history (limit to last N messages to stay within token limits)\n",
    "    messages.extend(conversation_history[-10:])  # Adjust N as needed\n",
    "\n",
    "    # Add the user's latest question\n",
    "    messages.append({'role': 'user', 'content': question})\n",
    "\n",
    "    return messages"
   ]
  },
  {
   "cell_type": "code",
   "execution_count": 136,
   "id": "bd35b72c",
   "metadata": {},
   "outputs": [],
   "source": [
    "def generate_answer_all(messages):\n",
    "    response = client.chat.completions.create(\n",
    "        model='gpt-4o-mini',\n",
    "        messages=messages,\n",
    "        max_tokens=2500,\n",
    "        temperature=0\n",
    "    )\n",
    "    answer = response.choices[0].message.content\n",
    "    return answer"
   ]
  },
  {
   "cell_type": "code",
   "execution_count": 134,
   "id": "658402d0",
   "metadata": {},
   "outputs": [],
   "source": [
    "def rag_combine(query):\n",
    "    query = get_user_query(query)\n",
    "    retrieved_docs = retrieve_documents_all(query)\n",
    "    messages = build_messages_combine(query, retrieved_docs, conversation_history)\n",
    "    answer = generate_answer_all(messages)\n",
    "    # Update the conversation history\n",
    "    conversation_history.append({'role': 'user', 'content': query})\n",
    "    conversation_history.append({'role': 'assistant', 'content': answer})\n",
    "\n",
    "    return answer"
   ]
  },
  {
   "cell_type": "code",
   "execution_count": 141,
   "id": "da86b44b",
   "metadata": {},
   "outputs": [
    {
     "name": "stdout",
     "output_type": "stream",
     "text": [
      "Assistant: Here is a summary of the communications related to the emergency for flight UAE201:\n",
      "\n",
      "1. **Engine Failure Report**: At 16:00:00 UTC, flight UAE201 reported an indication of engine failure and requested an immediate descent.\n",
      "\n",
      "2. **ATC Response**: ATC instructed the flight to descend to 10,000 feet and provided a left turn heading to return to Jakarta.\n",
      "\n",
      "3. **Emergency Landing Clearance**: ATC cleared flight UAE201 for an emergency landing on runway 25R and confirmed that emergency services were standing by.\n",
      "\n",
      "These communications indicate a clear sequence of events from the initial report of engine failure to the coordination for an emergency landing.\n"
     ]
    }
   ],
   "source": [
    "question1 = \"summarize communications related to the emergency\"\n",
    "answer1 = rag_combine(question1)\n",
    "print(\"Assistant:\", answer1)"
   ]
  },
  {
   "cell_type": "code",
   "execution_count": 142,
   "id": "f79286f3",
   "metadata": {},
   "outputs": [
    {
     "name": "stdout",
     "output_type": "stream",
     "text": [
      "Assistant: To handle an engine failure, pilots typically follow the emergency procedures outlined in the aircraft's flight manual. While the specific procedures can vary by aircraft type, here are general steps that are commonly included in engine failure procedures:\n",
      "\n",
      "1. **Maintain Control of the Aircraft**:\n",
      "   - Fly the aircraft at the appropriate airspeed, typically the best glide speed if the engine is lost.\n",
      "\n",
      "2. **Identify the Failed Engine**:\n",
      "   - Confirm which engine has failed (if applicable) using engine instruments and indications.\n",
      "\n",
      "3. **Declare an Emergency**:\n",
      "   - Communicate with ATC to declare an emergency and request assistance.\n",
      "\n",
      "4. **Perform Engine Failure Checklist**:\n",
      "   - Follow the specific checklist for engine failure, which may include:\n",
      "     - Reducing power on the operating engine.\n",
      "     - Feathering the propeller (if applicable).\n",
      "     - Adjusting the mixture and fuel flow as necessary.\n",
      "\n",
      "5. **Prepare for Landing**:\n",
      "   - Plan for a landing at the nearest suitable airport.\n",
      "   - Configure the aircraft for landing, considering the loss of power.\n",
      "\n",
      "6. **Communicate with Passengers**:\n",
      "   - Inform passengers of the situation and prepare them for landing.\n",
      "\n",
      "7. **Execute the Landing**:\n",
      "   - Follow standard landing procedures, ensuring to maintain control and manage the aircraft's configuration.\n",
      "\n",
      "8. **Post-Landing Actions**:\n",
      "   - Once on the ground, follow the emergency evacuation procedures if necessary.\n",
      "\n",
      "Always refer to the specific aircraft's flight manual for detailed procedures and checklists tailored to the aircraft type you are flying.\n"
     ]
    }
   ],
   "source": [
    "question2 = \"What is manual procedure to handle this failure?\"\n",
    "answer2 = rag_combine(question2)\n",
    "print(\"Assistant:\", answer2)"
   ]
  },
  {
   "cell_type": "code",
   "execution_count": 143,
   "id": "75cdf668",
   "metadata": {},
   "outputs": [
    {
     "name": "stdout",
     "output_type": "stream",
     "text": [
      "Assistant: Here are some example sentences you can use to communicate with passengers during an engine failure situation:\n",
      "\n",
      "1. **Initial Announcement**:\n",
      "   - \"Ladies and gentlemen, this is your captain speaking. We have encountered a technical issue with one of our engines, and we are currently following our emergency procedures.\"\n",
      "\n",
      "2. **Reassurance**:\n",
      "   - \"I want to assure you that we are trained to handle this situation, and we are in communication with air traffic control to ensure a safe landing.\"\n",
      "\n",
      "3. **Instructions**:\n",
      "   - \"Please remain seated with your seatbelts fastened. We will be preparing for an emergency landing shortly.\"\n",
      "\n",
      "4. **Preparation for Landing**:\n",
      "   - \"As we approach the airport, I ask that you follow the instructions of the cabin crew and prepare for landing. Please ensure your seatbacks and tray tables are in their upright positions.\"\n",
      "\n",
      "5. **Final Reassurance**:\n",
      "   - \"Thank you for your understanding and cooperation. We will keep you updated as we proceed, and we appreciate your patience during this time.\"\n",
      "\n",
      "6. **Post-Landing**:\n",
      "   - \"We have safely landed, and I want to thank you for your calmness and cooperation. Emergency services are here to assist us, and we will be disembarking shortly.\"\n",
      "\n",
      "These sentences aim to keep passengers informed, reassured, and prepared for the situation.\n"
     ]
    }
   ],
   "source": [
    "question3 = \"build some sentences to communicate with the passengers?\"\n",
    "answer3 = rag_combine(question3)\n",
    "print(\"Assistant:\", answer3)"
   ]
  }
 ],
 "metadata": {
  "kernelspec": {
   "display_name": "AviMate-LLM-RbionjtU",
   "language": "python",
   "name": "python3"
  },
  "language_info": {
   "codemirror_mode": {
    "name": "ipython",
    "version": 3
   },
   "file_extension": ".py",
   "mimetype": "text/x-python",
   "name": "python",
   "nbconvert_exporter": "python",
   "pygments_lexer": "ipython3",
   "version": "3.11.5"
  }
 },
 "nbformat": 4,
 "nbformat_minor": 5
}
