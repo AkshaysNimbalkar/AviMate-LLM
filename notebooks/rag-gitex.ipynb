{
 "cells": [
  {
   "cell_type": "code",
   "execution_count": 36,
   "id": "8514e4cc-30bf-46d4-aa7b-91152f8dd96e",
   "metadata": {},
   "outputs": [],
   "source": [
    "import pandas as pd\n",
    "from tqdm.auto import tqdm\n",
    "import re\n",
    "from elasticsearch import Elasticsearch\n",
    "from elasticsearch.helpers import bulk, BulkIndexError\n",
    "from openai import OpenAI\n",
    "from sentence_transformers import SentenceTransformer"
   ]
  },
  {
   "cell_type": "markdown",
   "id": "51edc6f6-40ea-4075-9e9f-7b03997a18b2",
   "metadata": {},
   "source": [
    "## Ingestion"
   ]
  },
  {
   "cell_type": "code",
   "execution_count": 2,
   "id": "4d4c5757-77d6-46eb-b36f-ecaf3797f2e0",
   "metadata": {},
   "outputs": [],
   "source": [
    "df_aircraft_systems_status = pd.read_csv('../data/aircraft_systems_status.csv', encoding='ISO-8859-1')\n",
    "df_airport_operations_status = pd.read_csv('../data/airport_operations_status.csv', encoding='ISO-8859-1')\n",
    "df_atc_communications = pd.read_csv('../data/atc_communications.csv', encoding='ISO-8859-1')\n",
    "df_cargo_and_weight_management = pd.read_csv('../data/cargo_and_weight_management.csv', encoding='ISO-8859-1')\n",
    "df_crew_and_passenger_status = pd.read_csv('../data/crew_and_passenger_status.csv', encoding='ISO-8859-1')\n",
    "df_emergency_procedures = pd.read_csv('../data/emergency_procedures.csv', encoding='ISO-8859-1')\n",
    "df_flight_manuals = pd.read_csv('../data/flight_manuals.csv', encoding='ISO-8859-1')\n",
    "df_flight_plan_monitoring = pd.read_csv('../data/flight_plan_monitoring.csv', encoding='ISO-8859-1')\n",
    "df_fuel_management = pd.read_csv('../data/fuel_management.csv', encoding='ISO-8859-1')\n",
    "df_historical_incidents = pd.read_csv('../data/historical_incidents.csv', encoding='ISO-8859-1')\n",
    "df_notams = pd.read_csv('../data/notams.csv', encoding='ISO-8859-1')\n",
    "df_real_time_air_traffic = pd.read_csv('../data/real_time_air_traffic.csv', encoding='ISO-8859-1')\n",
    "df_satellite_communication_status = pd.read_csv('../data/satellite_communication_status.csv', encoding='ISO-8859-1')\n",
    "df_waypoint_and_route_info = pd.read_csv('../data/waypoint_and_route_info.csv', encoding='ISO-8859-1')\n",
    "df_weather_predictions = pd.read_csv('../data/weather_predictions.csv', encoding='ISO-8859-1')\n",
    "df_weather = pd.read_csv('../data/weather.csv', encoding='ISO-8859-1')\n",
    "\n"
   ]
  },
  {
   "cell_type": "code",
   "execution_count": 11,
   "id": "5f92a3c8",
   "metadata": {},
   "outputs": [
    {
     "data": {
      "text/html": [
       "<div>\n",
       "<style scoped>\n",
       "    .dataframe tbody tr th:only-of-type {\n",
       "        vertical-align: middle;\n",
       "    }\n",
       "\n",
       "    .dataframe tbody tr th {\n",
       "        vertical-align: top;\n",
       "    }\n",
       "\n",
       "    .dataframe thead th {\n",
       "        text-align: right;\n",
       "    }\n",
       "</style>\n",
       "<table border=\"1\" class=\"dataframe\">\n",
       "  <thead>\n",
       "    <tr style=\"text-align: right;\">\n",
       "      <th></th>\n",
       "      <th>Manual Section</th>\n",
       "      <th>Scenario</th>\n",
       "      <th>Instructions</th>\n",
       "    </tr>\n",
       "  </thead>\n",
       "  <tbody>\n",
       "    <tr>\n",
       "      <th>0</th>\n",
       "      <td>AOM Section 10</td>\n",
       "      <td>Hydraulic Failure</td>\n",
       "      <td>Switch to backup hydraulic system, contact ATC...</td>\n",
       "    </tr>\n",
       "    <tr>\n",
       "      <th>1</th>\n",
       "      <td>AOM Section 7</td>\n",
       "      <td>Navigation System Failure</td>\n",
       "      <td>Switch to backup navigation system, continue f...</td>\n",
       "    </tr>\n",
       "    <tr>\n",
       "      <th>2</th>\n",
       "      <td>AOM Section 3</td>\n",
       "      <td>Landing Gear Malfunction</td>\n",
       "      <td>Attempt manual gear extension, prepare for low...</td>\n",
       "    </tr>\n",
       "    <tr>\n",
       "      <th>3</th>\n",
       "      <td>AOM Section 3</td>\n",
       "      <td>Icing Conditions</td>\n",
       "      <td>Activate anti-ice systems, monitor fuel temper...</td>\n",
       "    </tr>\n",
       "    <tr>\n",
       "      <th>4</th>\n",
       "      <td>AOM Section 10</td>\n",
       "      <td>Electrical Failure</td>\n",
       "      <td>Switch to backup power system, reduce non-esse...</td>\n",
       "    </tr>\n",
       "  </tbody>\n",
       "</table>\n",
       "</div>"
      ],
      "text/plain": [
       "   Manual Section                   Scenario  \\\n",
       "0  AOM Section 10          Hydraulic Failure   \n",
       "1   AOM Section 7  Navigation System Failure   \n",
       "2   AOM Section 3   Landing Gear Malfunction   \n",
       "3   AOM Section 3           Icing Conditions   \n",
       "4  AOM Section 10         Electrical Failure   \n",
       "\n",
       "                                        Instructions  \n",
       "0  Switch to backup hydraulic system, contact ATC...  \n",
       "1  Switch to backup navigation system, continue f...  \n",
       "2  Attempt manual gear extension, prepare for low...  \n",
       "3  Activate anti-ice systems, monitor fuel temper...  \n",
       "4  Switch to backup power system, reduce non-esse...  "
      ]
     },
     "execution_count": 11,
     "metadata": {},
     "output_type": "execute_result"
    }
   ],
   "source": [
    "df_flight_manuals.head()"
   ]
  },
  {
   "cell_type": "markdown",
   "id": "cc1ffaad",
   "metadata": {},
   "source": [
    "### Data Preprocessing"
   ]
  },
  {
   "cell_type": "code",
   "execution_count": 13,
   "id": "a9229801",
   "metadata": {},
   "outputs": [],
   "source": [
    "def clean_column_names(df):\n",
    "    clean_column_names = []\n",
    "    for col in df.columns:\n",
    "        clean_column_names.append(col.lower().replace(' ','_'))\n",
    "     \n",
    "    return clean_column_names"
   ]
  },
  {
   "cell_type": "code",
   "execution_count": 14,
   "id": "84611f6f",
   "metadata": {},
   "outputs": [],
   "source": [
    "df_flight_manuals.columns = clean_column_names(df_flight_manuals)"
   ]
  },
  {
   "cell_type": "code",
   "execution_count": 15,
   "id": "5ffb00d9",
   "metadata": {},
   "outputs": [
    {
     "name": "stdout",
     "output_type": "stream",
     "text": [
      "<class 'pandas.core.frame.DataFrame'>\n",
      "RangeIndex: 286 entries, 0 to 285\n",
      "Data columns (total 3 columns):\n",
      " #   Column          Non-Null Count  Dtype \n",
      "---  ------          --------------  ----- \n",
      " 0   manual_section  286 non-null    object\n",
      " 1   scenario        286 non-null    object\n",
      " 2   instructions    286 non-null    object\n",
      "dtypes: object(3)\n",
      "memory usage: 6.8+ KB\n"
     ]
    }
   ],
   "source": [
    "df_flight_manuals.info()"
   ]
  },
  {
   "cell_type": "code",
   "execution_count": 17,
   "id": "99053a7a",
   "metadata": {},
   "outputs": [
    {
     "name": "stdout",
     "output_type": "stream",
     "text": [
      "manual_section    0\n",
      "scenario          0\n",
      "instructions      0\n",
      "dtype: int64\n"
     ]
    }
   ],
   "source": [
    "# Check for missing values\n",
    "print(df_flight_manuals.isnull().sum())\n",
    "\n",
    "# Drop rows with missing values (if any)\n",
    "df_flight_manuals.dropna(inplace=True)\n",
    "\n",
    "# Reset index after dropping rows\n",
    "df_flight_manuals.reset_index(drop=True, inplace=True)"
   ]
  },
  {
   "cell_type": "code",
   "execution_count": 19,
   "id": "83f92d0d",
   "metadata": {},
   "outputs": [],
   "source": [
    "# Create a 'Text' column that combines 'Scenario' and 'Instructions'\n",
    "df_flight_manuals['text'] = df_flight_manuals['scenario'] + \". \" + df_flight_manuals['instructions']\n"
   ]
  },
  {
   "cell_type": "code",
   "execution_count": 20,
   "id": "59a78dab",
   "metadata": {},
   "outputs": [
    {
     "data": {
      "text/html": [
       "<div>\n",
       "<style scoped>\n",
       "    .dataframe tbody tr th:only-of-type {\n",
       "        vertical-align: middle;\n",
       "    }\n",
       "\n",
       "    .dataframe tbody tr th {\n",
       "        vertical-align: top;\n",
       "    }\n",
       "\n",
       "    .dataframe thead th {\n",
       "        text-align: right;\n",
       "    }\n",
       "</style>\n",
       "<table border=\"1\" class=\"dataframe\">\n",
       "  <thead>\n",
       "    <tr style=\"text-align: right;\">\n",
       "      <th></th>\n",
       "      <th>manual_section</th>\n",
       "      <th>scenario</th>\n",
       "      <th>instructions</th>\n",
       "      <th>text</th>\n",
       "    </tr>\n",
       "  </thead>\n",
       "  <tbody>\n",
       "    <tr>\n",
       "      <th>0</th>\n",
       "      <td>AOM Section 10</td>\n",
       "      <td>Hydraulic Failure</td>\n",
       "      <td>Switch to backup hydraulic system, contact ATC...</td>\n",
       "      <td>Hydraulic Failure. Switch to backup hydraulic ...</td>\n",
       "    </tr>\n",
       "    <tr>\n",
       "      <th>1</th>\n",
       "      <td>AOM Section 7</td>\n",
       "      <td>Navigation System Failure</td>\n",
       "      <td>Switch to backup navigation system, continue f...</td>\n",
       "      <td>Navigation System Failure. Switch to backup na...</td>\n",
       "    </tr>\n",
       "    <tr>\n",
       "      <th>2</th>\n",
       "      <td>AOM Section 3</td>\n",
       "      <td>Landing Gear Malfunction</td>\n",
       "      <td>Attempt manual gear extension, prepare for low...</td>\n",
       "      <td>Landing Gear Malfunction. Attempt manual gear ...</td>\n",
       "    </tr>\n",
       "    <tr>\n",
       "      <th>3</th>\n",
       "      <td>AOM Section 3</td>\n",
       "      <td>Icing Conditions</td>\n",
       "      <td>Activate anti-ice systems, monitor fuel temper...</td>\n",
       "      <td>Icing Conditions. Activate anti-ice systems, m...</td>\n",
       "    </tr>\n",
       "    <tr>\n",
       "      <th>4</th>\n",
       "      <td>AOM Section 10</td>\n",
       "      <td>Electrical Failure</td>\n",
       "      <td>Switch to backup power system, reduce non-esse...</td>\n",
       "      <td>Electrical Failure. Switch to backup power sys...</td>\n",
       "    </tr>\n",
       "  </tbody>\n",
       "</table>\n",
       "</div>"
      ],
      "text/plain": [
       "   manual_section                   scenario  \\\n",
       "0  AOM Section 10          Hydraulic Failure   \n",
       "1   AOM Section 7  Navigation System Failure   \n",
       "2   AOM Section 3   Landing Gear Malfunction   \n",
       "3   AOM Section 3           Icing Conditions   \n",
       "4  AOM Section 10         Electrical Failure   \n",
       "\n",
       "                                        instructions  \\\n",
       "0  Switch to backup hydraulic system, contact ATC...   \n",
       "1  Switch to backup navigation system, continue f...   \n",
       "2  Attempt manual gear extension, prepare for low...   \n",
       "3  Activate anti-ice systems, monitor fuel temper...   \n",
       "4  Switch to backup power system, reduce non-esse...   \n",
       "\n",
       "                                                text  \n",
       "0  Hydraulic Failure. Switch to backup hydraulic ...  \n",
       "1  Navigation System Failure. Switch to backup na...  \n",
       "2  Landing Gear Malfunction. Attempt manual gear ...  \n",
       "3  Icing Conditions. Activate anti-ice systems, m...  \n",
       "4  Electrical Failure. Switch to backup power sys...  "
      ]
     },
     "execution_count": 20,
     "metadata": {},
     "output_type": "execute_result"
    }
   ],
   "source": [
    "df_flight_manuals.head()"
   ]
  },
  {
   "cell_type": "code",
   "execution_count": 16,
   "id": "cb62407e",
   "metadata": {},
   "outputs": [],
   "source": [
    "es_client = Elasticsearch('http://localhost:9200')"
   ]
  },
  {
   "cell_type": "code",
   "execution_count": 51,
   "id": "50929f2e",
   "metadata": {},
   "outputs": [],
   "source": [
    "index_name = 'flight_manuals'\n",
    "\n",
    "index_settings = {\n",
    "    \"settings\": {\n",
    "        \"number_of_shards\": 1,\n",
    "        \"number_of_replicas\": 0\n",
    "    },\n",
    "    \"mappings\": {\n",
    "        \"properties\": {\n",
    "            \"manual_section\": {\"type\": \"keyword\"},\n",
    "            \"scenario\": {\"type\": \"text\"},\n",
    "            \"instructions\": {\"type\": \"text\"},\n",
    "            \"text\": {\"type\": \"text\"},\n",
    "            \"embedding\": {\"type\": \"dense_vector\", \"dims\": 384, \"index\": True, \"similarity\": \"cosine\"}  # Adjust dims based on embedding size\n",
    "        }\n",
    "    }\n",
    "}\n"
   ]
  },
  {
   "cell_type": "code",
   "execution_count": 52,
   "id": "9b641bfa",
   "metadata": {},
   "outputs": [
    {
     "data": {
      "text/plain": [
       "ObjectApiResponse({'acknowledged': True, 'shards_acknowledged': True, 'index': 'flight_manuals'})"
      ]
     },
     "execution_count": 52,
     "metadata": {},
     "output_type": "execute_result"
    }
   ],
   "source": [
    "# Delete the index if it already exists\n",
    "if es_client.indices.exists(index=index_name):\n",
    "    es_client.indices.delete(index=index_name)\n",
    "\n",
    "# Create the index\n",
    "es_client.indices.create(index=index_name, body=index_settings)\n"
   ]
  },
  {
   "cell_type": "code",
   "execution_count": 26,
   "id": "26cb109f",
   "metadata": {},
   "outputs": [
    {
     "data": {
      "application/vnd.jupyter.widget-view+json": {
       "model_id": "1fc07e84b4464cc4a94a76e1c23097f6",
       "version_major": 2,
       "version_minor": 0
      },
      "text/plain": [
       "tokenizer_config.json:   0%|          | 0.00/350 [00:00<?, ?B/s]"
      ]
     },
     "metadata": {},
     "output_type": "display_data"
    },
    {
     "name": "stderr",
     "output_type": "stream",
     "text": [
      "c:\\Users\\aksha\\.virtualenvs\\AviMate-LLM-RbionjtU\\Lib\\site-packages\\huggingface_hub\\file_download.py:147: UserWarning: `huggingface_hub` cache-system uses symlinks by default to efficiently store duplicated files but your machine does not support them in C:\\Users\\aksha\\.cache\\huggingface\\hub\\models--sentence-transformers--all-MiniLM-L6-v2. Caching files will still work but in a degraded version that might require more space on your disk. This warning can be disabled by setting the `HF_HUB_DISABLE_SYMLINKS_WARNING` environment variable. For more details, see https://huggingface.co/docs/huggingface_hub/how-to-cache#limitations.\n",
      "To support symlinks on Windows, you either need to activate Developer Mode or to run Python as an administrator. In order to activate developer mode, see this article: https://docs.microsoft.com/en-us/windows/apps/get-started/enable-your-device-for-development\n",
      "  warnings.warn(message)\n"
     ]
    },
    {
     "data": {
      "application/vnd.jupyter.widget-view+json": {
       "model_id": "0da2f2c0b583430daa5d08a61ec16d36",
       "version_major": 2,
       "version_minor": 0
      },
      "text/plain": [
       "vocab.txt:   0%|          | 0.00/232k [00:00<?, ?B/s]"
      ]
     },
     "metadata": {},
     "output_type": "display_data"
    },
    {
     "data": {
      "application/vnd.jupyter.widget-view+json": {
       "model_id": "29fcafea6e6748e7bd19b109f90cea1b",
       "version_major": 2,
       "version_minor": 0
      },
      "text/plain": [
       "tokenizer.json:   0%|          | 0.00/466k [00:00<?, ?B/s]"
      ]
     },
     "metadata": {},
     "output_type": "display_data"
    },
    {
     "data": {
      "application/vnd.jupyter.widget-view+json": {
       "model_id": "f8ecce2411484328983807b3157dc475",
       "version_major": 2,
       "version_minor": 0
      },
      "text/plain": [
       "special_tokens_map.json:   0%|          | 0.00/112 [00:00<?, ?B/s]"
      ]
     },
     "metadata": {},
     "output_type": "display_data"
    },
    {
     "name": "stderr",
     "output_type": "stream",
     "text": [
      "c:\\Users\\aksha\\.virtualenvs\\AviMate-LLM-RbionjtU\\Lib\\site-packages\\transformers\\tokenization_utils_base.py:1617: FutureWarning: `clean_up_tokenization_spaces` was not set. It will be set to `True` by default. This behavior will be deprecated in transformers v4.45, and will be then set to `False` by default. For more details check this issue: https://github.com/huggingface/transformers/issues/31884\n",
      "  warnings.warn(\n"
     ]
    },
    {
     "data": {
      "application/vnd.jupyter.widget-view+json": {
       "model_id": "7854e5b594474a0ba770dfa8ce01ef36",
       "version_major": 2,
       "version_minor": 0
      },
      "text/plain": [
       "1_Pooling/config.json:   0%|          | 0.00/190 [00:00<?, ?B/s]"
      ]
     },
     "metadata": {},
     "output_type": "display_data"
    }
   ],
   "source": [
    "model = SentenceTransformer('all-MiniLM-L6-v2')"
   ]
  },
  {
   "cell_type": "code",
   "execution_count": 29,
   "id": "c169b629",
   "metadata": {},
   "outputs": [
    {
     "data": {
      "text/plain": [
       "384"
      ]
     },
     "execution_count": 29,
     "metadata": {},
     "output_type": "execute_result"
    }
   ],
   "source": [
    "len(model.encode(\"This is a simple sentence\"))"
   ]
  },
  {
   "cell_type": "code",
   "execution_count": 31,
   "id": "1ed20e3d",
   "metadata": {},
   "outputs": [],
   "source": [
    "def get_embedding(text):\n",
    "    return model.encode(text).tolist()\n",
    "\n",
    "# Generate embeddings for all texts\n",
    "df_flight_manuals['embedding'] = df_flight_manuals['text'].apply(get_embedding)\n"
   ]
  },
  {
   "cell_type": "markdown",
   "id": "74b7ca99",
   "metadata": {},
   "source": [
    " ### Indexing Data with Embeddings"
   ]
  },
  {
   "cell_type": "code",
   "execution_count": 34,
   "id": "1f9bebed",
   "metadata": {},
   "outputs": [],
   "source": [
    "# Prepare Data for Indexing\n",
    "\n",
    "records = df_flight_manuals.to_dict(orient='records')\n"
   ]
  },
  {
   "cell_type": "code",
   "execution_count": 39,
   "id": "6df153aa",
   "metadata": {},
   "outputs": [],
   "source": [
    "def generate_actions():\n",
    "    for record in records:\n",
    "        yield {\n",
    "            \"_index\": index_name,\n",
    "            \"_source\": record\n",
    "            \n",
    "        }"
   ]
  },
  {
   "cell_type": "code",
   "execution_count": 53,
   "id": "89309389",
   "metadata": {},
   "outputs": [],
   "source": [
    "def bulk_index_data(es_client, actions):\n",
    "    try:\n",
    "        bulk(es_client, generate_actions())\n",
    "        print(\"Bulk indexing completed successfully!\")\n",
    "    except BulkIndexError as e:\n",
    "        print(f\"{len(e.errors)} documents failed to index\")\n",
    "\n",
    "        failed_documents = e.errors\n",
    "        for i, error in enumerate(failed_documents, 1):\n",
    "            action = error['index']\n",
    "            error_info = action.get('error', {})\n",
    "            document_id = action.get('_id', \"N/A\")\n",
    "            status = action.get('status', \"Unknown Status\")\n",
    "\n",
    "            print(f\"\\nFailed Document {i}:\")\n",
    "            print(f\"ID: {document_id}\")\n",
    "            print(f\"Status: {status}\")\n",
    "            print(f\"Error Type: {error_info.get('type')}\")\n",
    "            print(f\"Reason: {error_info.get('reason')}\")\n",
    "            document_source = action.get('data', {})\n",
    "            print(f\"Document Content: {document_source}\")\n",
    "\n",
    "    "
   ]
  },
  {
   "cell_type": "code",
   "execution_count": 54,
   "id": "5b1a7707",
   "metadata": {},
   "outputs": [
    {
     "name": "stdout",
     "output_type": "stream",
     "text": [
      "Bulk indexing completed successfully!\n"
     ]
    }
   ],
   "source": [
    "bulk_index_data(es_client, generate_actions())\n"
   ]
  },
  {
   "cell_type": "markdown",
   "id": "b573de84",
   "metadata": {},
   "source": [
    "#### Implementing User Query Functions"
   ]
  },
  {
   "cell_type": "code",
   "execution_count": 59,
   "id": "b3b6a5dd",
   "metadata": {},
   "outputs": [],
   "source": [
    "client = OpenAI()"
   ]
  },
  {
   "cell_type": "code",
   "execution_count": 67,
   "id": "b346d7bf",
   "metadata": {},
   "outputs": [],
   "source": [
    "def get_user_query(query):\n",
    "    # For demonstration, you can hardcode a query or accept input\n",
    "    return query\n"
   ]
  },
  {
   "cell_type": "code",
   "execution_count": 70,
   "id": "209e7bce",
   "metadata": {},
   "outputs": [],
   "source": [
    "def get_query_embedding(query):\n",
    "    return model.encode(query).tolist()\n"
   ]
  },
  {
   "cell_type": "code",
   "execution_count": 130,
   "id": "c64a49d4",
   "metadata": {},
   "outputs": [],
   "source": [
    "def elastic_search(query_vector, index_name, es_client, top_k=3):\n",
    "    # Define the script query\n",
    "    script_query = {\n",
    "        \"script_score\": {\n",
    "            \"query\": {\n",
    "                \"match_all\": {}\n",
    "            },\n",
    "            \"script\": {\n",
    "                \"source\": \"cosineSimilarity(params.query_vector, 'embedding') + 1.0\",\n",
    "                \"params\": {\"query_vector\": query_vector}\n",
    "            }\n",
    "        }\n",
    "    }\n",
    "    \n",
    "    try:\n",
    "        # Execute the search query\n",
    "        response = es_client.search(\n",
    "            index=index_name,\n",
    "            body={\n",
    "                \"size\": top_k,\n",
    "                \"query\": script_query,\n",
    "                \"_source\": [\"manual_section\", \"scenario\", \"instructions\", \"text\"]  # Adjust fields as needed\n",
    "            }\n",
    "        )\n",
    "        \n",
    "        # Collect the search results\n",
    "        result_docs = [hit['_source'] for hit in response['hits']['hits']]\n",
    "        \n",
    "        return result_docs  # Return the results for further processing if needed\n",
    "        \n",
    "    except Exception as e:\n",
    "        print(f\"An error occurred: {e}\")\n",
    "        return None\n"
   ]
  },
  {
   "cell_type": "code",
   "execution_count": 131,
   "id": "6eca9b39",
   "metadata": {},
   "outputs": [],
   "source": [
    "def retrieve_documents(query):\n",
    "    query_vector = get_query_embedding(query)\n",
    "    retrieved_docs = elastic_search(query_vector, index_name, es_client, top_k=3)\n",
    "    return retrieved_docs"
   ]
  },
  {
   "cell_type": "code",
   "execution_count": 132,
   "id": "23f0dc89",
   "metadata": {},
   "outputs": [],
   "source": [
    "def format_retrieved_documents(retrieved_docs):\n",
    "    formatted_docs = \"\"\n",
    "    for doc in retrieved_docs:\n",
    "        formatted_docs += f\"Manual Section: {doc['manual_section']}\\n\"\n",
    "        formatted_docs += f\"Scenario: {doc['scenario']}\\n\"\n",
    "        formatted_docs += f\"Instructions: {doc['instructions']}\\n\\n\"\n",
    "    return formatted_docs"
   ]
  },
  {
   "cell_type": "code",
   "execution_count": 149,
   "id": "9d104acb-bfd2-4a46-b008-2bcfcaa3566e",
   "metadata": {},
   "outputs": [],
   "source": [
    "\n",
    "def build_prompt(question, retrieved_docs):\n",
    "\n",
    "    prompt_template = \"\"\"\n",
    "    You are an assistant helping pilots with flight procedures. Based on the following flight manual information, answer the question:\n",
    "\n",
    "    Flight Manual Information:\n",
    "    {retrieved_docs}\n",
    "\n",
    "    Question:\n",
    "    {question}\n",
    "\n",
    "    Answer:\n",
    "    \"\"\".strip()\n",
    "\n",
    "    # Format the retrieved documents\n",
    "    formatted_docs = format_retrieved_documents(retrieved_docs)\n",
    "    \n",
    "    # Construct the prompt\n",
    "    prompt = prompt_template.format(retrieved_docs=formatted_docs, question=question)\n",
    "    \n",
    "    return prompt"
   ]
  },
  {
   "cell_type": "code",
   "execution_count": 159,
   "id": "5b18a913",
   "metadata": {},
   "outputs": [],
   "source": [
    "def generate_answer(prompt):\n",
    "    response = client.chat.completions.create(\n",
    "        model = 'gpt-4o-mini', \n",
    "        messages = [{'role':'assistant', 'content':prompt}],\n",
    "        max_tokens = 2500,\n",
    "        temperature=0.5\n",
    "    )\n",
    "    answer = response.choices[0].message.content\n",
    "\n",
    "    return answer\n"
   ]
  },
  {
   "cell_type": "code",
   "execution_count": 161,
   "id": "c947a74b-5fff-4833-b57c-bbf9744ef58c",
   "metadata": {},
   "outputs": [],
   "source": [
    "def rag(query):\n",
    "    query = get_user_query(query)\n",
    "    retrieved_docs = retrieve_documents(query)\n",
    "    prompt = build_prompt(query, retrieved_docs)\n",
    "    answer = generate_answer(prompt)\n",
    "    #print(\"\\nAnswer:\\n\", answer)\n",
    "\n",
    "    return answer"
   ]
  },
  {
   "cell_type": "code",
   "execution_count": 162,
   "id": "00a0f751-35bc-4a24-9e16-6f206d857dc5",
   "metadata": {},
   "outputs": [
    {
     "name": "stdout",
     "output_type": "stream",
     "text": [
      "In the event of an engine failure, the flight manual instructions across various sections are consistent. Here are the key steps to follow:\n",
      "\n",
      "1. **Throttle Idle**: Reduce the throttle to idle to manage the engine's power output.\n",
      "2. **Apply Maximum Climb**: Attempt to maintain or achieve maximum climb performance to gain altitude and control.\n",
      "3. **Contact ATC**: Communicate with Air Traffic Control to request emergency landing clearance.\n",
      "\n",
      "These procedures are outlined in AOM Section 2, Section 5, and Section 10, ensuring that pilots have clear and uniform guidance for handling engine failure scenarios.\n"
     ]
    }
   ],
   "source": [
    "answer = rag(\"engine failure flight manuals\")\n",
    "print(answer)"
   ]
  },
  {
   "cell_type": "code",
   "execution_count": 166,
   "id": "e70c0ffd",
   "metadata": {},
   "outputs": [
    {
     "name": "stdout",
     "output_type": "stream",
     "text": [
      "In the event of a hydraulic failure during flight, you should follow these steps:\n",
      "\n",
      "1. **Switch to the Backup Hydraulic System**: Immediately activate the backup hydraulic system to maintain control and functionality of essential systems.\n",
      "\n",
      "2. **Contact ATC**: Communicate with Air Traffic Control (ATC) to inform them of the situation and request a diversion to the nearest suitable airport for a safe landing.\n",
      "\n",
      "3. **Monitor Instruments**: Keep an eye on your instruments and systems to assess the status of the backup hydraulic system and any other affected systems.\n",
      "\n",
      "4. **Prepare for Landing**: Follow any additional procedures outlined in your flight manual for landing with a hydraulic failure, including any necessary checklists.\n",
      "\n",
      "5. **Maintain Situational Awareness**: Stay aware of your surroundings and any changes in flight conditions as you prepare for the diversion.\n",
      "\n",
      "Always refer to your specific aircraft's operating manual for detailed procedures and checklists related to hydraulic failures.\n"
     ]
    }
   ],
   "source": [
    "answer = rag(\"How should I handle a hydraulic failure during flight?\")\n",
    "print(answer)"
   ]
  },
  {
   "cell_type": "code",
   "execution_count": 167,
   "id": "22c9984a-78c6-464f-b396-dea5728c4428",
   "metadata": {},
   "outputs": [
    {
     "name": "stdout",
     "output_type": "stream",
     "text": [
      "For Icing Conditions scenarios, you should:\n",
      "\n",
      "1. Activate the anti-ice systems.\n",
      "2. Monitor the fuel temperature.\n",
      "3. Consider changing altitude if necessary.\n"
     ]
    }
   ],
   "source": [
    "answer = rag('What shall i do for Icing Conditions scenarios?')\n",
    "print(answer)"
   ]
  },
  {
   "cell_type": "code",
   "execution_count": 165,
   "id": "974bff71-53f3-4e7b-8b20-ba960ab1a506",
   "metadata": {},
   "outputs": [
    {
     "name": "stdout",
     "output_type": "stream",
     "text": [
      "In the event of a landing gear malfunction, follow these procedures:\n",
      "\n",
      "1. Attempt manual gear extension.\n",
      "2. Prepare for a low approach to allow for visual inspection of the landing gear.\n",
      "3. Prepare for an emergency landing if the gear does not extend properly.\n",
      "\n",
      "Ensure to communicate with air traffic control and follow any additional emergency protocols as necessary.\n"
     ]
    }
   ],
   "source": [
    "answer = rag('is there Landing Gear Malfunction?')\n",
    "print(answer)"
   ]
  },
  {
   "cell_type": "code",
   "execution_count": 169,
   "id": "4d042759",
   "metadata": {},
   "outputs": [
    {
     "ename": "ImportError",
     "evalue": "Numba needs NumPy 2.0 or less. Got NumPy 2.1.",
     "output_type": "error",
     "traceback": [
      "\u001b[1;31m---------------------------------------------------------------------------\u001b[0m",
      "\u001b[1;31mImportError\u001b[0m                               Traceback (most recent call last)",
      "Cell \u001b[1;32mIn[169], line 1\u001b[0m\n\u001b[1;32m----> 1\u001b[0m \u001b[38;5;28;01mimport\u001b[39;00m \u001b[38;5;21;01mwhisper\u001b[39;00m\n",
      "File \u001b[1;32mc:\\Users\\aksha\\.virtualenvs\\AviMate-LLM-RbionjtU\\Lib\\site-packages\\whisper\\__init__.py:13\u001b[0m\n\u001b[0;32m     11\u001b[0m \u001b[38;5;28;01mfrom\u001b[39;00m \u001b[38;5;21;01m.\u001b[39;00m\u001b[38;5;21;01maudio\u001b[39;00m \u001b[38;5;28;01mimport\u001b[39;00m load_audio, log_mel_spectrogram, pad_or_trim\n\u001b[0;32m     12\u001b[0m \u001b[38;5;28;01mfrom\u001b[39;00m \u001b[38;5;21;01m.\u001b[39;00m\u001b[38;5;21;01mdecoding\u001b[39;00m \u001b[38;5;28;01mimport\u001b[39;00m DecodingOptions, DecodingResult, decode, detect_language\n\u001b[1;32m---> 13\u001b[0m \u001b[38;5;28;01mfrom\u001b[39;00m \u001b[38;5;21;01m.\u001b[39;00m\u001b[38;5;21;01mmodel\u001b[39;00m \u001b[38;5;28;01mimport\u001b[39;00m ModelDimensions, Whisper\n\u001b[0;32m     14\u001b[0m \u001b[38;5;28;01mfrom\u001b[39;00m \u001b[38;5;21;01m.\u001b[39;00m\u001b[38;5;21;01mtranscribe\u001b[39;00m \u001b[38;5;28;01mimport\u001b[39;00m transcribe\n\u001b[0;32m     15\u001b[0m \u001b[38;5;28;01mfrom\u001b[39;00m \u001b[38;5;21;01m.\u001b[39;00m\u001b[38;5;21;01mversion\u001b[39;00m \u001b[38;5;28;01mimport\u001b[39;00m __version__\n",
      "File \u001b[1;32mc:\\Users\\aksha\\.virtualenvs\\AviMate-LLM-RbionjtU\\Lib\\site-packages\\whisper\\model.py:13\u001b[0m\n\u001b[0;32m     11\u001b[0m \u001b[38;5;28;01mfrom\u001b[39;00m \u001b[38;5;21;01m.\u001b[39;00m\u001b[38;5;21;01mdecoding\u001b[39;00m \u001b[38;5;28;01mimport\u001b[39;00m decode \u001b[38;5;28;01mas\u001b[39;00m decode_function\n\u001b[0;32m     12\u001b[0m \u001b[38;5;28;01mfrom\u001b[39;00m \u001b[38;5;21;01m.\u001b[39;00m\u001b[38;5;21;01mdecoding\u001b[39;00m \u001b[38;5;28;01mimport\u001b[39;00m detect_language \u001b[38;5;28;01mas\u001b[39;00m detect_language_function\n\u001b[1;32m---> 13\u001b[0m \u001b[38;5;28;01mfrom\u001b[39;00m \u001b[38;5;21;01m.\u001b[39;00m\u001b[38;5;21;01mtranscribe\u001b[39;00m \u001b[38;5;28;01mimport\u001b[39;00m transcribe \u001b[38;5;28;01mas\u001b[39;00m transcribe_function\n\u001b[0;32m     16\u001b[0m \u001b[38;5;129m@dataclass\u001b[39m\n\u001b[0;32m     17\u001b[0m \u001b[38;5;28;01mclass\u001b[39;00m \u001b[38;5;21;01mModelDimensions\u001b[39;00m:\n\u001b[0;32m     18\u001b[0m     n_mels: \u001b[38;5;28mint\u001b[39m\n",
      "File \u001b[1;32mc:\\Users\\aksha\\.virtualenvs\\AviMate-LLM-RbionjtU\\Lib\\site-packages\\whisper\\transcribe.py:21\u001b[0m\n\u001b[0;32m     11\u001b[0m \u001b[38;5;28;01mfrom\u001b[39;00m \u001b[38;5;21;01m.\u001b[39;00m\u001b[38;5;21;01maudio\u001b[39;00m \u001b[38;5;28;01mimport\u001b[39;00m (\n\u001b[0;32m     12\u001b[0m     FRAMES_PER_SECOND,\n\u001b[0;32m     13\u001b[0m     HOP_LENGTH,\n\u001b[1;32m   (...)\u001b[0m\n\u001b[0;32m     18\u001b[0m     pad_or_trim,\n\u001b[0;32m     19\u001b[0m )\n\u001b[0;32m     20\u001b[0m \u001b[38;5;28;01mfrom\u001b[39;00m \u001b[38;5;21;01m.\u001b[39;00m\u001b[38;5;21;01mdecoding\u001b[39;00m \u001b[38;5;28;01mimport\u001b[39;00m DecodingOptions, DecodingResult\n\u001b[1;32m---> 21\u001b[0m \u001b[38;5;28;01mfrom\u001b[39;00m \u001b[38;5;21;01m.\u001b[39;00m\u001b[38;5;21;01mtiming\u001b[39;00m \u001b[38;5;28;01mimport\u001b[39;00m add_word_timestamps\n\u001b[0;32m     22\u001b[0m \u001b[38;5;28;01mfrom\u001b[39;00m \u001b[38;5;21;01m.\u001b[39;00m\u001b[38;5;21;01mtokenizer\u001b[39;00m \u001b[38;5;28;01mimport\u001b[39;00m LANGUAGES, TO_LANGUAGE_CODE, get_tokenizer\n\u001b[0;32m     23\u001b[0m \u001b[38;5;28;01mfrom\u001b[39;00m \u001b[38;5;21;01m.\u001b[39;00m\u001b[38;5;21;01mutils\u001b[39;00m \u001b[38;5;28;01mimport\u001b[39;00m (\n\u001b[0;32m     24\u001b[0m     exact_div,\n\u001b[0;32m     25\u001b[0m     format_timestamp,\n\u001b[1;32m   (...)\u001b[0m\n\u001b[0;32m     31\u001b[0m     str2bool,\n\u001b[0;32m     32\u001b[0m )\n",
      "File \u001b[1;32mc:\\Users\\aksha\\.virtualenvs\\AviMate-LLM-RbionjtU\\Lib\\site-packages\\whisper\\timing.py:7\u001b[0m\n\u001b[0;32m      4\u001b[0m \u001b[38;5;28;01mfrom\u001b[39;00m \u001b[38;5;21;01mdataclasses\u001b[39;00m \u001b[38;5;28;01mimport\u001b[39;00m dataclass\n\u001b[0;32m      5\u001b[0m \u001b[38;5;28;01mfrom\u001b[39;00m \u001b[38;5;21;01mtyping\u001b[39;00m \u001b[38;5;28;01mimport\u001b[39;00m TYPE_CHECKING, List\n\u001b[1;32m----> 7\u001b[0m \u001b[38;5;28;01mimport\u001b[39;00m \u001b[38;5;21;01mnumba\u001b[39;00m\n\u001b[0;32m      8\u001b[0m \u001b[38;5;28;01mimport\u001b[39;00m \u001b[38;5;21;01mnumpy\u001b[39;00m \u001b[38;5;28;01mas\u001b[39;00m \u001b[38;5;21;01mnp\u001b[39;00m\n\u001b[0;32m      9\u001b[0m \u001b[38;5;28;01mimport\u001b[39;00m \u001b[38;5;21;01mtorch\u001b[39;00m\n",
      "File \u001b[1;32mc:\\Users\\aksha\\.virtualenvs\\AviMate-LLM-RbionjtU\\Lib\\site-packages\\numba\\__init__.py:59\u001b[0m\n\u001b[0;32m     54\u001b[0m             msg \u001b[38;5;241m=\u001b[39m (\u001b[38;5;124m\"\u001b[39m\u001b[38;5;124mNumba requires SciPy version 1.0 or greater. Got SciPy \u001b[39m\u001b[38;5;124m\"\u001b[39m\n\u001b[0;32m     55\u001b[0m                    \u001b[38;5;124mf\u001b[39m\u001b[38;5;124m\"\u001b[39m\u001b[38;5;132;01m{\u001b[39;00mscipy\u001b[38;5;241m.\u001b[39m__version__\u001b[38;5;132;01m}\u001b[39;00m\u001b[38;5;124m.\u001b[39m\u001b[38;5;124m\"\u001b[39m)\n\u001b[0;32m     56\u001b[0m             \u001b[38;5;28;01mraise\u001b[39;00m \u001b[38;5;167;01mImportError\u001b[39;00m(msg)\n\u001b[1;32m---> 59\u001b[0m \u001b[43m_ensure_critical_deps\u001b[49m\u001b[43m(\u001b[49m\u001b[43m)\u001b[49m\n\u001b[0;32m     60\u001b[0m \u001b[38;5;66;03m# END DO NOT MOVE\u001b[39;00m\n\u001b[0;32m     61\u001b[0m \u001b[38;5;66;03m# ---------------------- WARNING WARNING WARNING ----------------------------\u001b[39;00m\n\u001b[0;32m     64\u001b[0m \u001b[38;5;28;01mfrom\u001b[39;00m \u001b[38;5;21;01m.\u001b[39;00m\u001b[38;5;21;01m_version\u001b[39;00m \u001b[38;5;28;01mimport\u001b[39;00m get_versions\n",
      "File \u001b[1;32mc:\\Users\\aksha\\.virtualenvs\\AviMate-LLM-RbionjtU\\Lib\\site-packages\\numba\\__init__.py:45\u001b[0m, in \u001b[0;36m_ensure_critical_deps\u001b[1;34m()\u001b[0m\n\u001b[0;32m     42\u001b[0m \u001b[38;5;28;01mif\u001b[39;00m numpy_version \u001b[38;5;241m>\u001b[39m (\u001b[38;5;241m2\u001b[39m, \u001b[38;5;241m0\u001b[39m):\n\u001b[0;32m     43\u001b[0m     msg \u001b[38;5;241m=\u001b[39m (\u001b[38;5;124mf\u001b[39m\u001b[38;5;124m\"\u001b[39m\u001b[38;5;124mNumba needs NumPy 2.0 or less. Got NumPy \u001b[39m\u001b[38;5;124m\"\u001b[39m\n\u001b[0;32m     44\u001b[0m            \u001b[38;5;124mf\u001b[39m\u001b[38;5;124m\"\u001b[39m\u001b[38;5;132;01m{\u001b[39;00mnumpy_version[\u001b[38;5;241m0\u001b[39m]\u001b[38;5;132;01m}\u001b[39;00m\u001b[38;5;124m.\u001b[39m\u001b[38;5;132;01m{\u001b[39;00mnumpy_version[\u001b[38;5;241m1\u001b[39m]\u001b[38;5;132;01m}\u001b[39;00m\u001b[38;5;124m.\u001b[39m\u001b[38;5;124m\"\u001b[39m)\n\u001b[1;32m---> 45\u001b[0m     \u001b[38;5;28;01mraise\u001b[39;00m \u001b[38;5;167;01mImportError\u001b[39;00m(msg)\n\u001b[0;32m     47\u001b[0m \u001b[38;5;28;01mtry\u001b[39;00m:\n\u001b[0;32m     48\u001b[0m     \u001b[38;5;28;01mimport\u001b[39;00m \u001b[38;5;21;01mscipy\u001b[39;00m\n",
      "\u001b[1;31mImportError\u001b[0m: Numba needs NumPy 2.0 or less. Got NumPy 2.1."
     ]
    }
   ],
   "source": [
    "import whisper\n",
    "\n"
   ]
  },
  {
   "cell_type": "code",
   "execution_count": null,
   "id": "df1a8902",
   "metadata": {},
   "outputs": [],
   "source": []
  },
  {
   "cell_type": "code",
   "execution_count": null,
   "id": "4973cc72",
   "metadata": {},
   "outputs": [],
   "source": []
  },
  {
   "cell_type": "code",
   "execution_count": null,
   "id": "d37e577f",
   "metadata": {},
   "outputs": [],
   "source": []
  },
  {
   "cell_type": "code",
   "execution_count": null,
   "id": "b758792f",
   "metadata": {},
   "outputs": [],
   "source": []
  },
  {
   "cell_type": "markdown",
   "id": "ec3329ac-7410-41d7-b699-53c8c46bae63",
   "metadata": {},
   "source": [
    "## Retrieval Evaluation:"
   ]
  },
  {
   "cell_type": "code",
   "execution_count": 58,
   "id": "d223ae42-dc78-4d25-9a41-4e5d70698f53",
   "metadata": {},
   "outputs": [],
   "source": [
    "df_questions = pd.read_csv('../data/ground-truth-retrieval.csv')"
   ]
  },
  {
   "cell_type": "code",
   "execution_count": 59,
   "id": "40b08d57-2a0b-451c-ae63-11da3229c314",
   "metadata": {},
   "outputs": [
    {
     "data": {
      "text/html": [
       "<div>\n",
       "<style scoped>\n",
       "    .dataframe tbody tr th:only-of-type {\n",
       "        vertical-align: middle;\n",
       "    }\n",
       "\n",
       "    .dataframe tbody tr th {\n",
       "        vertical-align: top;\n",
       "    }\n",
       "\n",
       "    .dataframe thead th {\n",
       "        text-align: right;\n",
       "    }\n",
       "</style>\n",
       "<table border=\"1\" class=\"dataframe\">\n",
       "  <thead>\n",
       "    <tr style=\"text-align: right;\">\n",
       "      <th></th>\n",
       "      <th>id</th>\n",
       "      <th>question</th>\n",
       "    </tr>\n",
       "  </thead>\n",
       "  <tbody>\n",
       "    <tr>\n",
       "      <th>0</th>\n",
       "      <td>0</td>\n",
       "      <td>What is the starting position for doing push-ups?</td>\n",
       "    </tr>\n",
       "    <tr>\n",
       "      <th>1</th>\n",
       "      <td>0</td>\n",
       "      <td>Which muscle groups are activated during push-...</td>\n",
       "    </tr>\n",
       "    <tr>\n",
       "      <th>2</th>\n",
       "      <td>0</td>\n",
       "      <td>How do you know when to push back up while doi...</td>\n",
       "    </tr>\n",
       "    <tr>\n",
       "      <th>3</th>\n",
       "      <td>0</td>\n",
       "      <td>Do you need any equipment to perform push-ups?</td>\n",
       "    </tr>\n",
       "    <tr>\n",
       "      <th>4</th>\n",
       "      <td>0</td>\n",
       "      <td>What part of the body do push-ups primarily ta...</td>\n",
       "    </tr>\n",
       "    <tr>\n",
       "      <th>...</th>\n",
       "      <td>...</td>\n",
       "      <td>...</td>\n",
       "    </tr>\n",
       "    <tr>\n",
       "      <th>1030</th>\n",
       "      <td>206</td>\n",
       "      <td>What muscles are primarily worked during the D...</td>\n",
       "    </tr>\n",
       "    <tr>\n",
       "      <th>1031</th>\n",
       "      <td>206</td>\n",
       "      <td>What type of exercise is the Dumbbell Bench Pr...</td>\n",
       "    </tr>\n",
       "    <tr>\n",
       "      <th>1032</th>\n",
       "      <td>206</td>\n",
       "      <td>Can the Dumbbell Bench Press be performed with...</td>\n",
       "    </tr>\n",
       "    <tr>\n",
       "      <th>1033</th>\n",
       "      <td>206</td>\n",
       "      <td>What body part does the Dumbbell Bench Press f...</td>\n",
       "    </tr>\n",
       "    <tr>\n",
       "      <th>1034</th>\n",
       "      <td>206</td>\n",
       "      <td>What is the correct starting position for the ...</td>\n",
       "    </tr>\n",
       "  </tbody>\n",
       "</table>\n",
       "<p>1035 rows × 2 columns</p>\n",
       "</div>"
      ],
      "text/plain": [
       "       id                                           question\n",
       "0       0  What is the starting position for doing push-ups?\n",
       "1       0  Which muscle groups are activated during push-...\n",
       "2       0  How do you know when to push back up while doi...\n",
       "3       0     Do you need any equipment to perform push-ups?\n",
       "4       0  What part of the body do push-ups primarily ta...\n",
       "...   ...                                                ...\n",
       "1030  206  What muscles are primarily worked during the D...\n",
       "1031  206  What type of exercise is the Dumbbell Bench Pr...\n",
       "1032  206  Can the Dumbbell Bench Press be performed with...\n",
       "1033  206  What body part does the Dumbbell Bench Press f...\n",
       "1034  206  What is the correct starting position for the ...\n",
       "\n",
       "[1035 rows x 2 columns]"
      ]
     },
     "execution_count": 59,
     "metadata": {},
     "output_type": "execute_result"
    }
   ],
   "source": [
    "df_questions"
   ]
  },
  {
   "cell_type": "code",
   "execution_count": 60,
   "id": "2c482619-0273-4762-b771-eebfcbf1581a",
   "metadata": {},
   "outputs": [],
   "source": [
    "ground_truth = df_questions.to_dict(orient='records')"
   ]
  },
  {
   "cell_type": "code",
   "execution_count": 61,
   "id": "73fbdd83-d5db-4f4a-89f9-90fde556832e",
   "metadata": {},
   "outputs": [
    {
     "data": {
      "text/plain": [
       "{'id': 0, 'question': 'What is the starting position for doing push-ups?'}"
      ]
     },
     "execution_count": 61,
     "metadata": {},
     "output_type": "execute_result"
    }
   ],
   "source": [
    "ground_truth[0]"
   ]
  },
  {
   "cell_type": "code",
   "execution_count": 62,
   "id": "6a5b3aa6-9f1b-487e-ba8f-d30e8fbbbfcd",
   "metadata": {},
   "outputs": [],
   "source": [
    "def hit_rate(relevance_total):\n",
    "    cnt = 0\n",
    "\n",
    "    for line in relevance_total:\n",
    "        if True in line:\n",
    "            cnt = cnt + 1\n",
    "\n",
    "    return cnt / len(relevance_total)"
   ]
  },
  {
   "cell_type": "code",
   "execution_count": 63,
   "id": "c86e6475-6dd4-4218-8c7b-ad80fc17d7e3",
   "metadata": {},
   "outputs": [],
   "source": [
    "def mrr(relevance_total):\n",
    "    total_score = 0.0\n",
    "\n",
    "    for line in relevance_total:\n",
    "        for rank in range(len(line)):\n",
    "            if line[rank] == True:\n",
    "                total_score = total_score + 1 / (rank + 1)\n",
    "\n",
    "    return total_score / len(relevance_total)"
   ]
  },
  {
   "cell_type": "code",
   "execution_count": 64,
   "id": "6faf0dd4-b724-4d6a-bb9b-1a47ac84be8b",
   "metadata": {},
   "outputs": [],
   "source": [
    "def minsearch_search(query):\n",
    "    boost = {}\n",
    "\n",
    "    results = index.search(\n",
    "        query=query,\n",
    "        filter_dict={},\n",
    "        boost_dict=boost,\n",
    "        num_results=10\n",
    "    )\n",
    "\n",
    "    return results"
   ]
  },
  {
   "cell_type": "code",
   "execution_count": 66,
   "id": "52666f24-e676-4100-887c-828bdac53f3b",
   "metadata": {},
   "outputs": [],
   "source": [
    "def evaluate(ground_truth, search_function):\n",
    "    relevance_total = []\n",
    "\n",
    "    for q in tqdm(ground_truth):\n",
    "        doc_id = q['id']\n",
    "        results = search_function(q)\n",
    "        relevance = [d['id'] == doc_id for d in results]\n",
    "        relevance_total.append(relevance)\n",
    "\n",
    "    return {\n",
    "        'hit_rate': hit_rate(relevance_total),\n",
    "        'mrr': mrr(relevance_total),\n",
    "    }"
   ]
  },
  {
   "cell_type": "code",
   "execution_count": 67,
   "id": "497da742-b7b5-46d8-9b95-fe371dfe2565",
   "metadata": {},
   "outputs": [],
   "source": [
    "from tqdm.auto import tqdm"
   ]
  },
  {
   "cell_type": "code",
   "execution_count": 68,
   "id": "3ce5b4aa-edc3-4e37-827e-13953071d907",
   "metadata": {},
   "outputs": [
    {
     "data": {
      "application/vnd.jupyter.widget-view+json": {
       "model_id": "e64e8d55e80a48f0afc3facc573f7d2c",
       "version_major": 2,
       "version_minor": 0
      },
      "text/plain": [
       "  0%|          | 0/1035 [00:00<?, ?it/s]"
      ]
     },
     "metadata": {},
     "output_type": "display_data"
    },
    {
     "data": {
      "text/plain": [
       "{'hit_rate': 0.9478260869565217, 'mrr': 0.822744038033893}"
      ]
     },
     "execution_count": 68,
     "metadata": {},
     "output_type": "execute_result"
    }
   ],
   "source": [
    "evaluate(ground_truth, lambda q: minsearch_search(q['question']))"
   ]
  },
  {
   "cell_type": "markdown",
   "id": "84f82176-b6fb-444f-bf4f-cf7fe966874e",
   "metadata": {},
   "source": [
    "## Finding the best parameters\n"
   ]
  },
  {
   "cell_type": "code",
   "execution_count": 70,
   "id": "2b883678-102f-426d-bff4-2eccecb76e11",
   "metadata": {},
   "outputs": [],
   "source": [
    "df_validation = df_questions[:100]\n",
    "df_test = df_questions[100:]"
   ]
  },
  {
   "cell_type": "code",
   "execution_count": 71,
   "id": "a9cba39b-532a-4e61-827d-5acefaddfff0",
   "metadata": {},
   "outputs": [],
   "source": [
    "import random\n",
    "\n",
    "def simple_optimize(param_ranges, objective_function, n_iterations=10):\n",
    "    best_params = None\n",
    "    best_score = float('-inf')  # Assuming we're minimizing. Use float('-inf') if maximizing.\n",
    "\n",
    "    for _ in range(n_iterations):\n",
    "        # Generate random parameters\n",
    "        current_params = {}\n",
    "        for param, (min_val, max_val) in param_ranges.items():\n",
    "            if isinstance(min_val, int) and isinstance(max_val, int):\n",
    "                current_params[param] = random.randint(min_val, max_val)\n",
    "            else:\n",
    "                current_params[param] = random.uniform(min_val, max_val)\n",
    "        \n",
    "        # Evaluate the objective function\n",
    "        current_score = objective_function(current_params)\n",
    "        \n",
    "        # Update best if current is better\n",
    "        if current_score > best_score:  # Change to > if maximizing\n",
    "            best_score = current_score\n",
    "            best_params = current_params\n",
    "    \n",
    "    return best_params, best_score"
   ]
  },
  {
   "cell_type": "code",
   "execution_count": 72,
   "id": "846a1101-527e-46d1-bb94-bd46f4bc882e",
   "metadata": {},
   "outputs": [],
   "source": [
    "gt_val = df_validation.to_dict(orient='records')"
   ]
  },
  {
   "cell_type": "code",
   "execution_count": 73,
   "id": "1c7b2e24-40a1-45fa-914b-3f8ea25166e2",
   "metadata": {},
   "outputs": [],
   "source": [
    "def minsearch_search(query, boost=None):\n",
    "    if boost is None:\n",
    "        boost = {}\n",
    "\n",
    "    results = index.search(\n",
    "        query=query,\n",
    "        filter_dict={},\n",
    "        boost_dict=boost,\n",
    "        num_results=10\n",
    "    )\n",
    "\n",
    "    return results"
   ]
  },
  {
   "cell_type": "code",
   "execution_count": 74,
   "id": "37e96326-af43-4434-b397-a8075f67fc9d",
   "metadata": {},
   "outputs": [],
   "source": [
    "param_ranges = {\n",
    "    'exercise_name': (0.0, 3.0),\n",
    "    'type_of_activity': (0.0, 3.0),\n",
    "    'type_of_equipment': (0.0, 3.0),\n",
    "    'body_part': (0.0, 3.0),\n",
    "    'type': (0.0, 3.0),\n",
    "    'muscle_groups_activated': (0.0, 3.0),\n",
    "    'instructions': (0.0, 3.0),\n",
    "}\n",
    "\n",
    "def objective(boost_params):\n",
    "    def search_function(q):\n",
    "        return minsearch_search(q['question'], boost_params)\n",
    "\n",
    "    results = evaluate(gt_val, search_function)\n",
    "    return results['mrr']"
   ]
  },
  {
   "cell_type": "code",
   "execution_count": 75,
   "id": "345bb31e-6096-44e5-bc69-d82e84af7b76",
   "metadata": {},
   "outputs": [
    {
     "data": {
      "application/vnd.jupyter.widget-view+json": {
       "model_id": "3d95836262e444dd982fb4b79d9f25c3",
       "version_major": 2,
       "version_minor": 0
      },
      "text/plain": [
       "  0%|          | 0/100 [00:00<?, ?it/s]"
      ]
     },
     "metadata": {},
     "output_type": "display_data"
    },
    {
     "data": {
      "application/vnd.jupyter.widget-view+json": {
       "model_id": "2e9e7147190149c8982114c2d5f4d99c",
       "version_major": 2,
       "version_minor": 0
      },
      "text/plain": [
       "  0%|          | 0/100 [00:00<?, ?it/s]"
      ]
     },
     "metadata": {},
     "output_type": "display_data"
    },
    {
     "data": {
      "application/vnd.jupyter.widget-view+json": {
       "model_id": "f5d8a779d69c4534bc4b130eca42e950",
       "version_major": 2,
       "version_minor": 0
      },
      "text/plain": [
       "  0%|          | 0/100 [00:00<?, ?it/s]"
      ]
     },
     "metadata": {},
     "output_type": "display_data"
    },
    {
     "data": {
      "application/vnd.jupyter.widget-view+json": {
       "model_id": "d4397562d55e49a682c88624de141cc7",
       "version_major": 2,
       "version_minor": 0
      },
      "text/plain": [
       "  0%|          | 0/100 [00:00<?, ?it/s]"
      ]
     },
     "metadata": {},
     "output_type": "display_data"
    },
    {
     "data": {
      "application/vnd.jupyter.widget-view+json": {
       "model_id": "8ffbe7cac3d04224ae49a89ac4a983cf",
       "version_major": 2,
       "version_minor": 0
      },
      "text/plain": [
       "  0%|          | 0/100 [00:00<?, ?it/s]"
      ]
     },
     "metadata": {},
     "output_type": "display_data"
    },
    {
     "data": {
      "application/vnd.jupyter.widget-view+json": {
       "model_id": "cea67f0175564897869e288002cac9df",
       "version_major": 2,
       "version_minor": 0
      },
      "text/plain": [
       "  0%|          | 0/100 [00:00<?, ?it/s]"
      ]
     },
     "metadata": {},
     "output_type": "display_data"
    },
    {
     "data": {
      "application/vnd.jupyter.widget-view+json": {
       "model_id": "2b0d4d2b0c7347f792dfd96e0a0042a6",
       "version_major": 2,
       "version_minor": 0
      },
      "text/plain": [
       "  0%|          | 0/100 [00:00<?, ?it/s]"
      ]
     },
     "metadata": {},
     "output_type": "display_data"
    },
    {
     "data": {
      "application/vnd.jupyter.widget-view+json": {
       "model_id": "c3eea22b330349aeafd405a9ff0616fe",
       "version_major": 2,
       "version_minor": 0
      },
      "text/plain": [
       "  0%|          | 0/100 [00:00<?, ?it/s]"
      ]
     },
     "metadata": {},
     "output_type": "display_data"
    },
    {
     "data": {
      "application/vnd.jupyter.widget-view+json": {
       "model_id": "15cdfdfad13f49da929f801a79d23fdf",
       "version_major": 2,
       "version_minor": 0
      },
      "text/plain": [
       "  0%|          | 0/100 [00:00<?, ?it/s]"
      ]
     },
     "metadata": {},
     "output_type": "display_data"
    },
    {
     "data": {
      "application/vnd.jupyter.widget-view+json": {
       "model_id": "cb3c6520c5e04a45a1a48ad1c0edfa21",
       "version_major": 2,
       "version_minor": 0
      },
      "text/plain": [
       "  0%|          | 0/100 [00:00<?, ?it/s]"
      ]
     },
     "metadata": {},
     "output_type": "display_data"
    },
    {
     "data": {
      "application/vnd.jupyter.widget-view+json": {
       "model_id": "19e409b053bf4c8ca73d41b11083748d",
       "version_major": 2,
       "version_minor": 0
      },
      "text/plain": [
       "  0%|          | 0/100 [00:00<?, ?it/s]"
      ]
     },
     "metadata": {},
     "output_type": "display_data"
    },
    {
     "data": {
      "application/vnd.jupyter.widget-view+json": {
       "model_id": "1efbfc9412aa439ba6a0cd0d6cf477e3",
       "version_major": 2,
       "version_minor": 0
      },
      "text/plain": [
       "  0%|          | 0/100 [00:00<?, ?it/s]"
      ]
     },
     "metadata": {},
     "output_type": "display_data"
    },
    {
     "data": {
      "application/vnd.jupyter.widget-view+json": {
       "model_id": "ce864372e4b14ed99468df3edcd172f8",
       "version_major": 2,
       "version_minor": 0
      },
      "text/plain": [
       "  0%|          | 0/100 [00:00<?, ?it/s]"
      ]
     },
     "metadata": {},
     "output_type": "display_data"
    },
    {
     "data": {
      "application/vnd.jupyter.widget-view+json": {
       "model_id": "1c23220d41b34f4c85c93c394125fc40",
       "version_major": 2,
       "version_minor": 0
      },
      "text/plain": [
       "  0%|          | 0/100 [00:00<?, ?it/s]"
      ]
     },
     "metadata": {},
     "output_type": "display_data"
    },
    {
     "data": {
      "application/vnd.jupyter.widget-view+json": {
       "model_id": "36470c0b69a843e6ba8be1c2bfea4fe9",
       "version_major": 2,
       "version_minor": 0
      },
      "text/plain": [
       "  0%|          | 0/100 [00:00<?, ?it/s]"
      ]
     },
     "metadata": {},
     "output_type": "display_data"
    },
    {
     "data": {
      "application/vnd.jupyter.widget-view+json": {
       "model_id": "c18b91cd21034c059ff6504c2b7adb61",
       "version_major": 2,
       "version_minor": 0
      },
      "text/plain": [
       "  0%|          | 0/100 [00:00<?, ?it/s]"
      ]
     },
     "metadata": {},
     "output_type": "display_data"
    },
    {
     "data": {
      "application/vnd.jupyter.widget-view+json": {
       "model_id": "7d89db65e9a340dd8edadf5a8d9d0c6a",
       "version_major": 2,
       "version_minor": 0
      },
      "text/plain": [
       "  0%|          | 0/100 [00:00<?, ?it/s]"
      ]
     },
     "metadata": {},
     "output_type": "display_data"
    },
    {
     "data": {
      "application/vnd.jupyter.widget-view+json": {
       "model_id": "e06211c5fa5e4e5d82b5fd298088ee67",
       "version_major": 2,
       "version_minor": 0
      },
      "text/plain": [
       "  0%|          | 0/100 [00:00<?, ?it/s]"
      ]
     },
     "metadata": {},
     "output_type": "display_data"
    },
    {
     "data": {
      "application/vnd.jupyter.widget-view+json": {
       "model_id": "55bc7204cca64ba69d9eb5f59013b22d",
       "version_major": 2,
       "version_minor": 0
      },
      "text/plain": [
       "  0%|          | 0/100 [00:00<?, ?it/s]"
      ]
     },
     "metadata": {},
     "output_type": "display_data"
    },
    {
     "data": {
      "application/vnd.jupyter.widget-view+json": {
       "model_id": "a6ea5238e76c466e88073c14cc5d0b36",
       "version_major": 2,
       "version_minor": 0
      },
      "text/plain": [
       "  0%|          | 0/100 [00:00<?, ?it/s]"
      ]
     },
     "metadata": {},
     "output_type": "display_data"
    },
    {
     "data": {
      "text/plain": [
       "({'exercise_name': 1.1162887216689357,\n",
       "  'type_of_activity': 1.2053964373475001,\n",
       "  'type_of_equipment': 0.0157474211791101,\n",
       "  'body_part': 0.5117172999420851,\n",
       "  'type': 1.9562913342437052,\n",
       "  'muscle_groups_activated': 2.7508697687269983,\n",
       "  'instructions': 0.27669361047746277},\n",
       " 0.847)"
      ]
     },
     "execution_count": 75,
     "metadata": {},
     "output_type": "execute_result"
    }
   ],
   "source": [
    "simple_optimize(param_ranges, objective, n_iterations=20)\n"
   ]
  },
  {
   "cell_type": "code",
   "execution_count": 76,
   "id": "0e42c73f-421e-4a2b-bcdb-cd45d5405eed",
   "metadata": {},
   "outputs": [
    {
     "data": {
      "application/vnd.jupyter.widget-view+json": {
       "model_id": "2bdb9b32fabe40408ebe93aed54ae2d5",
       "version_major": 2,
       "version_minor": 0
      },
      "text/plain": [
       "  0%|          | 0/1035 [00:00<?, ?it/s]"
      ]
     },
     "metadata": {},
     "output_type": "display_data"
    },
    {
     "data": {
      "text/plain": [
       "{'hit_rate': 0.9468599033816425, 'mrr': 0.9029733149298367}"
      ]
     },
     "execution_count": 76,
     "metadata": {},
     "output_type": "execute_result"
    }
   ],
   "source": [
    "def minsearch_improved(query):\n",
    "    boost = {\n",
    "        'exercise_name': 2.11,\n",
    "        'type_of_activity': 1.46,\n",
    "        'type_of_equipment': 0.65,\n",
    "        'body_part': 2.65,\n",
    "        'type': 1.31,\n",
    "        'muscle_groups_activated': 2.54,\n",
    "        'instructions': 0.74\n",
    "    }\n",
    "\n",
    "    results = index.search(\n",
    "        query=query,\n",
    "        filter_dict={},\n",
    "        boost_dict=boost,\n",
    "        num_results=10\n",
    "    )\n",
    "\n",
    "    return results\n",
    "\n",
    "evaluate(ground_truth, lambda q: minsearch_improved(q['question']))"
   ]
  },
  {
   "cell_type": "markdown",
   "id": "07220e59-649d-4508-a0b4-e394b39fec3c",
   "metadata": {},
   "source": [
    "## RAG Evaluation"
   ]
  },
  {
   "cell_type": "code",
   "execution_count": 77,
   "id": "9f940fd6-f867-4d5f-b9c1-cbebbb849dca",
   "metadata": {},
   "outputs": [],
   "source": [
    "prompt2_template = \"\"\"\n",
    "You are an expert evaluator for a Retrieval-Augmented Generation (RAG) system.\n",
    "Your task is to analyze the relevance of the generated answer to the given question.\n",
    "Based on the relevance of the generated answer, you will classify it\n",
    "as \"NON_RELEVANT\", \"PARTLY_RELEVANT\", or \"RELEVANT\".\n",
    "\n",
    "Here is the data for evaluation:\n",
    "\n",
    "Question: {question}\n",
    "Generated Answer: {answer_llm}\n",
    "\n",
    "Please analyze the content and context of the generated answer in relation to the question\n",
    "and provide your evaluation in parsable JSON without using code blocks:\n",
    "\n",
    "{{\n",
    "  \"Relevance\": \"NON_RELEVANT\" | \"PARTLY_RELEVANT\" | \"RELEVANT\",\n",
    "  \"Explanation\": \"[Provide a brief explanation for your evaluation]\"\n",
    "}}\n",
    "\"\"\".strip()"
   ]
  },
  {
   "cell_type": "code",
   "execution_count": 78,
   "id": "5b134ffe-e8b6-478f-a320-c4d45eea8be0",
   "metadata": {},
   "outputs": [
    {
     "data": {
      "text/plain": [
       "1035"
      ]
     },
     "execution_count": 78,
     "metadata": {},
     "output_type": "execute_result"
    }
   ],
   "source": [
    "len(ground_truth)\n"
   ]
  },
  {
   "cell_type": "code",
   "execution_count": 81,
   "id": "cb98bccf-cdbf-4793-819e-dafb6c7f72a8",
   "metadata": {},
   "outputs": [
    {
     "data": {
      "text/plain": [
       "{'id': 0, 'question': 'What is the starting position for doing push-ups?'}"
      ]
     },
     "execution_count": 81,
     "metadata": {},
     "output_type": "execute_result"
    }
   ],
   "source": [
    "record = ground_truth[0]\n",
    "record"
   ]
  },
  {
   "cell_type": "code",
   "execution_count": 84,
   "id": "9455834d-5a97-473b-8c4d-bac4e291d70f",
   "metadata": {},
   "outputs": [],
   "source": [
    "record = ground_truth[0]\n",
    "question = record['question']\n",
    "answer_llm = rag(question)"
   ]
  },
  {
   "cell_type": "code",
   "execution_count": 85,
   "id": "4ac0a78a-d5b3-4b59-afee-5d688898f62b",
   "metadata": {},
   "outputs": [
    {
     "name": "stdout",
     "output_type": "stream",
     "text": [
      "The starting position for doing push-ups is to start in a high plank position with your hands under your shoulders.\n"
     ]
    }
   ],
   "source": [
    "print(answer_llm)"
   ]
  },
  {
   "cell_type": "code",
   "execution_count": 87,
   "id": "26ab5ebe-3e44-414c-8068-33e69e88dd12",
   "metadata": {},
   "outputs": [
    {
     "name": "stdout",
     "output_type": "stream",
     "text": [
      "You are an expert evaluator for a Retrieval-Augmented Generation (RAG) system.\n",
      "Your task is to analyze the relevance of the generated answer to the given question.\n",
      "Based on the relevance of the generated answer, you will classify it\n",
      "as \"NON_RELEVANT\", \"PARTLY_RELEVANT\", or \"RELEVANT\".\n",
      "\n",
      "Here is the data for evaluation:\n",
      "\n",
      "Question: What is the starting position for doing push-ups?\n",
      "Generated Answer: The starting position for doing push-ups is to start in a high plank position with your hands under your shoulders.\n",
      "\n",
      "Please analyze the content and context of the generated answer in relation to the question\n",
      "and provide your evaluation in parsable JSON without using code blocks:\n",
      "\n",
      "{\n",
      "  \"Relevance\": \"NON_RELEVANT\" | \"PARTLY_RELEVANT\" | \"RELEVANT\",\n",
      "  \"Explanation\": \"[Provide a brief explanation for your evaluation]\"\n",
      "}\n"
     ]
    }
   ],
   "source": [
    "prompt = prompt2_template.format(question=question, answer_llm=answer_llm)\n",
    "print(prompt)"
   ]
  },
  {
   "cell_type": "code",
   "execution_count": 89,
   "id": "10fbc0df-b73d-44e2-8760-4748de3f9368",
   "metadata": {},
   "outputs": [
    {
     "name": "stdout",
     "output_type": "stream",
     "text": [
      "{\n",
      "  \"Relevance\": \"RELEVANT\",\n",
      "  \"Explanation\": \"The generated answer accurately describes the starting position for doing push-ups, specifically mentioning the high plank position and the placement of hands, which directly addresses the question.\"\n",
      "}\n"
     ]
    }
   ],
   "source": [
    "print(llm(prompt))"
   ]
  },
  {
   "cell_type": "code",
   "execution_count": 90,
   "id": "09dcf345-f597-4866-bc39-7c5d215c950d",
   "metadata": {},
   "outputs": [],
   "source": [
    "evaluations = {}\n"
   ]
  },
  {
   "cell_type": "code",
   "execution_count": 91,
   "id": "a28c5953-cfab-45dc-8123-26af715b9a12",
   "metadata": {},
   "outputs": [],
   "source": [
    "import json"
   ]
  },
  {
   "cell_type": "code",
   "execution_count": 98,
   "id": "a85fda30-0601-4537-bc47-ad8f5c8c518c",
   "metadata": {},
   "outputs": [],
   "source": [
    "df_sample = df_questions.sample(n=200, random_state=1)\n",
    "sample = df_sample.to_dict(orient='records')\n"
   ]
  },
  {
   "cell_type": "code",
   "execution_count": 99,
   "id": "cd5f6cd1-3672-43cb-b3f8-8476be371be5",
   "metadata": {},
   "outputs": [
    {
     "data": {
      "application/vnd.jupyter.widget-view+json": {
       "model_id": "309cb011346545808edbc61e11734a74",
       "version_major": 2,
       "version_minor": 0
      },
      "text/plain": [
       "  0%|          | 0/200 [00:00<?, ?it/s]"
      ]
     },
     "metadata": {},
     "output_type": "display_data"
    }
   ],
   "source": [
    "evaluations = []\n",
    "\n",
    "for record in tqdm(sample):\n",
    "    question = record['question']\n",
    "    answer_llm = rag(question) \n",
    "\n",
    "    prompt = prompt2_template.format(\n",
    "        question=question,\n",
    "        answer_llm=answer_llm\n",
    "    )\n",
    "\n",
    "    evaluation = llm(prompt)\n",
    "    evaluation = json.loads(evaluation)\n",
    "\n",
    "    evaluations.append((record, answer_llm, evaluation))\n",
    "    "
   ]
  },
  {
   "cell_type": "code",
   "execution_count": 100,
   "id": "960c7c48-23c6-4246-a988-131fddf40540",
   "metadata": {},
   "outputs": [
    {
     "data": {
      "text/plain": [
       "[({'id': 171,\n",
       "   'question': 'What is the primary muscle group activated during the Banded Pull-Up?'},\n",
       "  'The primary muscle group activated during the Banded Pull-Up is the Latissimus Dorsi.',\n",
       "  {'Relevance': 'RELEVANT',\n",
       "   'Explanation': 'The generated answer correctly identifies the primary muscle group activated during the Banded Pull-Up, which directly addresses the question asked.'}),\n",
       " ({'id': 115,\n",
       "   'question': 'Can jumping squats be performed without any equipment?'},\n",
       "  'Yes, jumping squats can be performed without any equipment, as they use bodyweight.',\n",
       "  {'Relevance': 'RELEVANT',\n",
       "   'Explanation': 'The generated answer directly addresses the question by confirming that jumping squats can be performed without any equipment and explains that they utilize bodyweight, which is pertinent information.'}),\n",
       " ({'id': 53,\n",
       "   'question': 'Can you explain the proper technique for executing a Dumbbell Lateral Raise?'},\n",
       "  'To execute a Dumbbell Lateral Raise properly, stand with a dumbbell in each hand, with your arms at your sides. Raise your arms out to the sides until they are parallel to the floor.',\n",
       "  {'Relevance': 'RELEVANT',\n",
       "   'Explanation': 'The generated answer provides a clear and accurate description of the proper technique for executing a Dumbbell Lateral Raise, including the position of the arms and the final movement of raising them to parallel to the floor.'}),\n",
       " ({'id': 198,\n",
       "   'question': 'How do I ensure my arms are fully extended during the movement?'},\n",
       "  'To ensure your arms are fully extended during the movement, follow these instructions for the exercises: \\n\\n- For the **Seated Dumbbell Press**, sit on a bench with a dumbbell in each hand at shoulder height and press the weights overhead until your arms are fully extended.\\n- For the **Seated Shoulder Press**, sit on a bench with a dumbbell in each hand at shoulder height and press the weights overhead until your arms are fully extended.\\n- For the **Cable Tricep Pushdown**, stand facing a cable machine with a high pulley and push the handle downwards until your arms are fully extended.\\n- For the **Machine Shoulder Press**, sit on a shoulder press machine, grasp the handles, and press them overhead until your arms are fully extended.\\n- For the **Smith Machine Shoulder Press**, sit on a bench under a Smith machine bar and press the bar overhead until your arms are fully extended. \\n\\nEnsure to follow the positioning and pressing instructions closely to achieve full arm extension.',\n",
       "  {'Relevance': 'RELEVANT',\n",
       "   'Explanation': 'The generated answer directly addresses the question by providing specific exercises along with instructions on how to ensure arms are fully extended during each movement. It effectively explains the positioning and execution required for full arm extension in the context of various exercises.'}),\n",
       " ({'id': 19,\n",
       "   'question': 'What part of the body is primarily engaged in Goblet Squats?'},\n",
       "  'The part of the body primarily engaged in Goblet Squats is the Lower Body.',\n",
       "  {'Relevance': 'PARTLY_RELEVANT',\n",
       "   'Explanation': 'The generated answer identifies the lower body as primarily engaged in Goblet Squats, which is correct. However, it lacks specificity regarding which muscles are involved (e.g., quadriceps, hamstrings, glutes). More detail would improve relevance.'}),\n",
       " ({'id': 70,\n",
       "   'question': 'Is this exercise considered more cardio or strength training?'},\n",
       "  'The exercises mentioned are considered both cardio and strength training.',\n",
       "  {'Relevance': 'PARTLY_RELEVANT',\n",
       "   'Explanation': 'The generated answer indicates that the exercises can be classified as both cardio and strength training, but it does not specifically address which type they are predominantly considered. It partially answers the question by acknowledging both aspects but lacks clarity on the primary classification.'}),\n",
       " ({'id': 161,\n",
       "   'question': 'What is the name of the exercise that targets the deltoids and triceps using a Smith machine?'},\n",
       "  'The name of the exercise that targets the deltoids and triceps using a Smith machine is the Smith Machine Shoulder Press.',\n",
       "  {'Relevance': 'RELEVANT',\n",
       "   'Explanation': 'The generated answer accurately identifies the exercise that targets the deltoids and triceps using a Smith machine as the Smith Machine Shoulder Press, directly addressing the question asked.'}),\n",
       " ({'id': 5,\n",
       "   'question': 'Can kettlebell swings be classified as both cardio and strength exercises?'},\n",
       "  'Yes, kettlebell swings can be classified as both cardio and strength exercises.',\n",
       "  {'Relevance': 'RELEVANT',\n",
       "   'Explanation': 'The generated answer directly addresses the question by confirming that kettlebell swings can be classified as both cardio and strength exercises, providing a clear and accurate response.'}),\n",
       " ({'id': 135,\n",
       "   'question': 'Is the Seated Calf Raise considered a strength or cardiovascular exercise?'},\n",
       "  'The Seated Calf Raise is considered a strength exercise.',\n",
       "  {'Relevance': 'RELEVANT',\n",
       "   'Explanation': 'The generated answer directly addresses the question by clearly identifying the Seated Calf Raise as a strength exercise, which is the primary focus of the inquiry.'}),\n",
       " ({'id': 122,\n",
       "   'question': 'How do I position the resistance band during the exercise?'},\n",
       "  'To position the resistance band during the exercise, stand on a resistance band with your feet shoulder-width apart for the Resistance Band Deadlift and Resistance Band Squat. For the Resistance Band Chest Press, attach a resistance band to a sturdy anchor behind you. For the Standing Resistance Band Row, attach the resistance band to a sturdy anchor as well.',\n",
       "  {'Relevance': 'RELEVANT',\n",
       "   'Explanation': \"The generated answer provides specific instructions on how to position the resistance band for different exercises, directly addressing the user's question about positioning during the exercise.\"}),\n",
       " ({'id': 37,\n",
       "   'question': 'Is Renegade Rows primarily a strength exercise or an endurance exercise?'},\n",
       "  'Renegade Rows is primarily a strength exercise.',\n",
       "  {'Relevance': 'RELEVANT',\n",
       "   'Explanation': 'The generated answer directly addresses the question by stating that Renegade Rows is primarily a strength exercise, which is the core of the inquiry regarding its classification as either a strength or endurance exercise.'}),\n",
       " ({'id': 151,\n",
       "   'question': 'Which muscles are primarily worked during the Incline Chest Press?'},\n",
       "  'The muscles primarily worked during the Incline Chest Press are the Pectorals, Triceps, and Deltoids.',\n",
       "  {'Relevance': 'RELEVANT',\n",
       "   'Explanation': 'The generated answer accurately identifies the primary muscles worked during the Incline Chest Press, specifically naming the Pectorals, Triceps, and Deltoids, which directly addresses the question.'}),\n",
       " ({'id': 148, 'question': 'How do I perform the movement in Spider Push-Ups?'},\n",
       "  'To perform Spider Push-Ups, start in a high plank position. As you lower your body, bring one knee towards your elbow, then push back up and switch sides.',\n",
       "  {'Relevance': 'RELEVANT',\n",
       "   'Explanation': 'The generated answer provides a clear and accurate description of how to perform Spider Push-Ups, directly addressing the question about the movement involved in this exercise.'}),\n",
       " ({'id': 189,\n",
       "   'question': 'Can I perform the Pike Push-Up without any equipment?'},\n",
       "  'Yes, you can perform the Pike Push-Up without any equipment, as it is a bodyweight exercise.',\n",
       "  {'Relevance': 'RELEVANT',\n",
       "   'Explanation': 'The generated answer directly addresses the question by confirming that the Pike Push-Up can be performed without equipment and specifies that it is a bodyweight exercise, which is precisely what the question inquires about.'}),\n",
       " ({'id': 174,\n",
       "   'question': 'What is the name of the exercise that involves twisting with a medicine ball?'},\n",
       "  'The name of the exercise that involves twisting with a medicine ball is Medicine Ball Russian Twists.',\n",
       "  {'Relevance': 'RELEVANT',\n",
       "   'Explanation': \"The generated answer directly addresses the question by providing the specific name of the exercise, 'Medicine Ball Russian Twists', which involves twisting with a medicine ball.\"}),\n",
       " ({'id': 153,\n",
       "   'question': 'Do I need any special equipment to perform Hanging Knee Raises?'},\n",
       "  'Yes, to perform Hanging Knee Raises, you need a pull-up bar, as indicated by the instruction to hang from it. However, no other special equipment is required since it is a bodyweight exercise.',\n",
       "  {'Relevance': 'RELEVANT',\n",
       "   'Explanation': 'The generated answer appropriately addresses the question by stating that a pull-up bar is necessary for performing Hanging Knee Raises, which directly relates to the inquiry about special equipment. It also clarifies that no other special equipment is needed, emphasizing that it is a bodyweight exercise.'}),\n",
       " ({'id': 7,\n",
       "   'question': 'What muscles are primarily targeted during the Lat Pulldown exercise?'},\n",
       "  'The muscles primarily targeted during the Lat Pulldown exercise are the Latissimus Dorsi and Biceps.',\n",
       "  {'Relevance': 'RELEVANT',\n",
       "   'Explanation': 'The generated answer directly addresses the question by identifying the primary muscles targeted during the Lat Pulldown exercise, specifically naming the Latissimus Dorsi and Biceps, which are accurate and relevant to the exercise in question.'}),\n",
       " ({'id': 126,\n",
       "   'question': 'Can you describe the position I should be in while performing Dumbbell Flyes?'},\n",
       "  'While performing Dumbbell Flyes, you should lie on a bench with a dumbbell in each hand. Lower the weights out to the sides of your chest, then bring them back together over your chest.',\n",
       "  {'Relevance': 'RELEVANT',\n",
       "   'Explanation': 'The generated answer directly addresses the question by describing the position and movement required while performing Dumbbell Flyes. It specifies lying on a bench and the actions of lowering and bringing the weights together, which is pertinent to the execution of the exercise.'}),\n",
       " ({'id': 69,\n",
       "   'question': 'Can the Landmine Press help improve my strength in the upper body?'},\n",
       "  'Yes, the Landmine Press can help improve your strength in the upper body as it activates the Pectorals, Deltoids, and Triceps.',\n",
       "  {'Relevance': 'RELEVANT',\n",
       "   'Explanation': 'The generated answer directly addresses the question by affirming that the Landmine Press can improve upper body strength and specifies the muscles involved, making it relevant and informative.'}),\n",
       " ({'id': 190,\n",
       "   'question': 'Is the One-Arm Dumbbell Snatch considered a push or pull exercise?'},\n",
       "  'The One-Arm Dumbbell Snatch is considered a push exercise.',\n",
       "  {'Relevance': 'NON_RELEVANT',\n",
       "   'Explanation': 'The generated answer incorrectly categorizes the One-Arm Dumbbell Snatch as a push exercise, when it is primarily considered a pull exercise due to the movement mechanics involved. Therefore, the answer is not relevant to the question asked.'}),\n",
       " ({'id': 80,\n",
       "   'question': 'How do I execute the movement for the Cable Chest Press correctly?'},\n",
       "  'To execute the movement for the Cable Chest Press correctly, stand in front of a cable machine with handles at chest height. Press the handles forward, then return to the starting position.',\n",
       "  {'Relevance': 'RELEVANT',\n",
       "   'Explanation': 'The generated answer provides clear instructions for executing the Cable Chest Press, detailing the starting position and the movement involved, which directly addresses the question.'}),\n",
       " ({'id': 68,\n",
       "   'question': 'What equipment do I need to perform the Arnold Press?'},\n",
       "  'You need Dumbbells to perform the Arnold Press.',\n",
       "  {'Relevance': 'PARTLY_RELEVANT',\n",
       "   'Explanation': 'The answer provides some relevant information by mentioning that dumbbells are needed to perform the Arnold Press; however, it is not comprehensive as it does not cover any additional equipment or details about the exercise that might be relevant.'}),\n",
       " ({'id': 30,\n",
       "   'question': 'Can calf raises target any other body parts besides the calves?'},\n",
       "  'NONE',\n",
       "  {'Relevance': 'NON_RELEVANT',\n",
       "   'Explanation': \"The generated answer 'NONE' does not provide any information or context regarding whether calf raises can target other body parts. It fails to address the question entirely, making it irrelevant.\"}),\n",
       " ({'id': 159,\n",
       "   'question': 'What specific action should I take with my arms during the Smith Machine Row?'},\n",
       "  'During the Smith Machine Row, you should row the bar towards your torso.',\n",
       "  {'Relevance': 'PARTLY_RELEVANT',\n",
       "   'Explanation': \"The generated answer provides a specific action related to the Smith Machine Row by mentioning to row the bar towards the torso. However, it does not address the specific action related to the arms, which is the focus of the question. Therefore, it is somewhat relevant but not fully aligned with the question's request.\"}),\n",
       " ({'id': 24,\n",
       "   'question': 'What is the primary body part targeted by Step-Ups?'},\n",
       "  'The primary body part targeted by Step-Ups is the Lower Body.',\n",
       "  {'Relevance': 'RELEVANT',\n",
       "   'Explanation': \"The generated answer directly addresses the question by identifying the 'Lower Body' as the primary body part targeted by Step-Ups, which is accurate and relevant information.\"}),\n",
       " ({'id': 203,\n",
       "   'question': 'What muscles does the Machine Lat Pulldown primarily target?'},\n",
       "  'The Machine Lat Pulldown primarily targets the Latissimus Dorsi and Biceps.',\n",
       "  {'Relevance': 'RELEVANT',\n",
       "   'Explanation': 'The generated answer correctly identifies the primary muscles targeted by the Machine Lat Pulldown, which are the Latissimus Dorsi and Biceps. This directly addresses the question asked.'}),\n",
       " ({'id': 159,\n",
       "   'question': 'What equipment do I need to perform the Smith Machine Row?'},\n",
       "  'You need a Smith Machine to perform the Smith Machine Row.',\n",
       "  {'Relevance': 'PARTLY_RELEVANT',\n",
       "   'Explanation': 'The generated answer identifies the essential equipment needed to perform the Smith Machine Row, which is a Smith Machine. However, it lacks additional details about other potential equipment or variations that may be involved in the exercise, making it partially relevant to the question.'}),\n",
       " ({'id': 111,\n",
       "   'question': 'Is the Incline Dumbbell Curl considered a strength exercise?'},\n",
       "  'Yes, the Incline Dumbbell Curl is considered a strength exercise.',\n",
       "  {'Relevance': 'RELEVANT',\n",
       "   'Explanation': 'The generated answer directly addresses the question by clearly stating that the Incline Dumbbell Curl is indeed considered a strength exercise, which is the information being asked for.'}),\n",
       " ({'id': 38,\n",
       "   'question': 'How should I position my feet on the platform for the leg press?'},\n",
       "  'You should position your feet shoulder-width apart on the platform for the leg press.',\n",
       "  {'Relevance': 'RELEVANT',\n",
       "   'Explanation': 'The generated answer directly addresses the question about foot positioning on the leg press platform by providing specific advice to position the feet shoulder-width apart, which is a common recommendation for this exercise.'}),\n",
       " ({'id': 91,\n",
       "   'question': 'What is the correct technique for executing walking lunges?'},\n",
       "  'To execute walking lunges correctly, step forward into a lunge, then bring your back foot forward to step into the next lunge.',\n",
       "  {'Relevance': 'RELEVANT',\n",
       "   'Explanation': 'The generated answer provides a clear and correct description of the technique for executing walking lunges, which directly addresses the question.'}),\n",
       " ({'id': 1,\n",
       "   'question': 'Which primary muscle groups are targeted when doing squats?'},\n",
       "  'The primary muscle groups targeted when doing squats are Quadriceps, Glutes, and Hamstrings.',\n",
       "  {'Relevance': 'RELEVANT',\n",
       "   'Explanation': 'The generated answer directly addresses the question by listing the primary muscle groups targeted during squats, which are the Quadriceps, Glutes, and Hamstrings, thereby providing precise and accurate information.'}),\n",
       " ({'id': 119,\n",
       "   'question': 'Can I perform the One-Arm Push-Up without any equipment?'},\n",
       "  'Yes, you can perform the One-Arm Push-Up without any equipment as it uses bodyweight.',\n",
       "  {'Relevance': 'RELEVANT',\n",
       "   'Explanation': 'The generated answer directly addresses the question by confirming that a One-Arm Push-Up can be performed without any equipment, and it explains that this exercise relies on bodyweight, which is pertinent to the inquiry.'}),\n",
       " ({'id': 156,\n",
       "   'question': 'Is the Machine Chest Press primarily a push or pull exercise?'},\n",
       "  'The Machine Chest Press is primarily a push exercise.',\n",
       "  {'Relevance': 'RELEVANT',\n",
       "   'Explanation': 'The generated answer directly addresses the question by identifying the Machine Chest Press as primarily a push exercise, which is the information being sought.'}),\n",
       " ({'id': 186,\n",
       "   'question': 'What type of equipment do I need to perform the Deadlift High Pull?'},\n",
       "  'You need a Barbell to perform the Deadlift High Pull.',\n",
       "  {'Relevance': 'PARTLY_RELEVANT',\n",
       "   'Explanation': 'The generated answer mentions one essential piece of equipment, the barbell, needed to perform the Deadlift High Pull. However, it does not provide information about other potentially necessary equipment or details regarding the exercise, which may limit its completeness.'}),\n",
       " ({'id': 16,\n",
       "   'question': 'What is the primary muscle group targeted by Russian Twists?'},\n",
       "  'The primary muscle group targeted by Russian Twists is the Obliques.',\n",
       "  {'Relevance': 'RELEVANT',\n",
       "   'Explanation': 'The generated answer correctly identifies the primary muscle group targeted by Russian Twists as the Obliques, which directly addresses the question posed.'}),\n",
       " ({'id': 66,\n",
       "   'question': 'Which muscle groups are activated during the Side Leg Raises?'},\n",
       "  'The muscle groups activated during the Side Leg Raises are Glutes and Hip Flexors.',\n",
       "  {'Relevance': 'PARTLY_RELEVANT',\n",
       "   'Explanation': 'The generated answer identifies two muscle groups, the Glutes and Hip Flexors, that are involved in Side Leg Raises. However, it does not provide a comprehensive list of all relevant muscle groups, such as the abductors (especially the Tensor Fasciae Latae), which are also activated during this exercise. Thus, while the answer contains relevant information, it lacks completeness.'}),\n",
       " ({'id': 147,\n",
       "   'question': 'Can you describe the movement pattern involved in the Cable Kickback?'},\n",
       "  'The movement pattern involved in the Cable Kickback includes standing facing a cable machine with a handle attached to the low pulley. You extend your arm straight back, then return to the starting position.',\n",
       "  {'Relevance': 'RELEVANT',\n",
       "   'Explanation': 'The generated answer accurately describes the movement pattern involved in the Cable Kickback by detailing the position and action of extending the arm, which directly relates to the question.'}),\n",
       " ({'id': 29,\n",
       "   'question': \"What type of equipment do I need for the Farmer's Walk?\"},\n",
       "  \"You need dumbbells for the Farmer's Walk.\",\n",
       "  {'Relevance': 'PARTLY_RELEVANT',\n",
       "   'Explanation': \"The generated answer mentions dumbbells, which are a type of equipment used for resistance training. However, the Farmer's Walk traditionally involves other equipment as well, such as kettlebells or specially designed Farmer's Walk handles. Thus, while the answer is somewhat related to equipment needed, it does not encompass the full range of appropriate equipment for the exercise.\"}),\n",
       " ({'id': 203,\n",
       "   'question': 'Can you provide step-by-step instructions for executing the Machine Lat Pulldown correctly?'},\n",
       "  'Step-by-step instructions for executing the Machine Lat Pulldown correctly:\\n\\n1. Sit at a lat pulldown machine with a wide grip.\\n2. Pull the bar down to your chest.\\n3. Slowly return to the starting position.',\n",
       "  {'Relevance': 'PARTLY_RELEVANT',\n",
       "   'Explanation': 'The generated answer provides a brief overview of the lat pulldown exercise but lacks detailed step-by-step instructions. It does not cover important aspects such as proper posture, grip variations, breathing techniques, and common mistakes to avoid, which are critical for executing the exercise correctly.'}),\n",
       " ({'id': 149,\n",
       "   'question': 'How do I properly set up the Resistance Band Chest Press?'},\n",
       "  'To properly set up the Resistance Band Chest Press, attach a resistance band to a sturdy anchor behind you. Then, press the handles forward until your arms are fully extended.',\n",
       "  {'Relevance': 'RELEVANT',\n",
       "   'Explanation': 'The generated answer directly addresses the question by providing clear instructions on how to set up the Resistance Band Chest Press, including the important step of attaching the band to a sturdy anchor and the action of pressing the handles forward.'}),\n",
       " ({'id': 127,\n",
       "   'question': 'What type of equipment do I need for the Reverse Fly?'},\n",
       "  'You need Dumbbells for the Reverse Fly.',\n",
       "  {'Relevance': 'RELEVANT',\n",
       "   'Explanation': 'The generated answer directly addresses the question by specifying that dumbbells are needed for the Reverse Fly exercise, which is accurate and relevant information.'}),\n",
       " ({'id': 155,\n",
       "   'question': 'Which muscle groups are primarily activated during the Glute Kickback?'},\n",
       "  'The muscle groups primarily activated during the Glute Kickback are Glutes and Hamstrings.',\n",
       "  {'Relevance': 'RELEVANT',\n",
       "   'Explanation': 'The generated answer accurately identifies the primary muscle groups activated during the Glute Kickback, specifically mentioning the Glutes and Hamstrings, which directly addresses the question.'}),\n",
       " ({'id': 18, 'question': 'How do I perform a Dumbbell Row correctly?'},\n",
       "  'To perform a Dumbbell Row correctly, place one knee and hand on a bench for support, and row the dumbbell towards your torso with the other hand.',\n",
       "  {'Relevance': 'RELEVANT',\n",
       "   'Explanation': 'The generated answer provides clear and specific instructions on how to perform a Dumbbell Row, including the positioning of the knee and hand on a bench and the movement of rowing the dumbbell towards the torso, which directly addresses the question.'}),\n",
       " ({'id': 74,\n",
       "   'question': 'What part of the body does the Cable Bicep Curl primarily work on?'},\n",
       "  'The Cable Bicep Curl primarily works on the Biceps and Forearms.',\n",
       "  {'Relevance': 'PARTLY_RELEVANT',\n",
       "   'Explanation': 'The generated answer identifies the Biceps as the primary muscle worked during the Cable Bicep Curl, which is correct. However, it also mentions the Forearms, which is less relevant because the question specifically asks about the primary muscle group targeted by the exercise.'}),\n",
       " ({'id': 9,\n",
       "   'question': 'How do I execute the movement correctly during Jumping Jacks?'},\n",
       "  'To execute the movement correctly during Jumping Jacks, stand upright with your feet together and arms at your sides. Jump your feet out while raising your arms overhead, then return to the starting position.',\n",
       "  {'Relevance': 'RELEVANT',\n",
       "   'Explanation': 'The generated answer provides a clear and accurate description of how to execute the movement of Jumping Jacks, directly addressing the question regarding the correct execution.'}),\n",
       " ({'id': 206,\n",
       "   'question': 'What muscles are primarily worked during the Dumbbell Bench Press?'},\n",
       "  'The muscles primarily worked during the Dumbbell Bench Press are Pectorals, Triceps, and Deltoids.',\n",
       "  {'Relevance': 'RELEVANT',\n",
       "   'Explanation': 'The generated answer accurately lists the primary muscles involved in the Dumbbell Bench Press, which are indeed the Pectorals, Triceps, and Deltoids, directly addressing the question asked.'}),\n",
       " ({'id': 142,\n",
       "   'question': 'Can you explain how to properly execute the Landmine Squat Press?'},\n",
       "  'To properly execute the Landmine Squat Press, hold the end of a barbell anchored in a landmine attachment. Squat down, then push through your heels to stand up and press the bar overhead.',\n",
       "  {'Relevance': 'RELEVANT',\n",
       "   'Explanation': 'The generated answer directly addresses the question by explaining the proper execution of the Landmine Squat Press, detailing the starting position and movement involved in the exercise.'}),\n",
       " ({'id': 204,\n",
       "   'question': 'Can you describe the setup needed for performing the One-Arm Cable Row?'},\n",
       "  'To perform the One-Arm Cable Row, you will need to set up as follows: Stand facing a cable machine with the handle attached to the low pulley. Then, you will row the handle towards your torso with one hand.',\n",
       "  {'Relevance': 'RELEVANT',\n",
       "   'Explanation': 'The generated answer directly addresses the question by providing clear instructions on the setup needed for the One-Arm Cable Row, including the position relative to the cable machine and how to perform the movement.'}),\n",
       " ({'id': 20,\n",
       "   'question': 'Which muscle groups are primarily engaged during the Glute Bridge?'},\n",
       "  'The muscle groups primarily engaged during the Glute Bridge are the Glutes and Hamstrings.',\n",
       "  {'Relevance': 'RELEVANT',\n",
       "   'Explanation': 'The generated answer accurately identifies the primary muscle groups involved in the Glute Bridge exercise, specifically naming the Glutes and Hamstrings, which directly addresses the question asked.'}),\n",
       " ({'id': 36,\n",
       "   'question': 'What is the correct position to start the Incline Dumbbell Press?'},\n",
       "  'NONE',\n",
       "  {'Relevance': 'NON_RELEVANT',\n",
       "   'Explanation': \"The generated answer 'NONE' does not provide any information regarding the correct position to start the Incline Dumbbell Press, making it irrelevant to the question asked.\"}),\n",
       " ({'id': 52,\n",
       "   'question': 'How do I ensure my body remains stable while performing this exercise?'},\n",
       "  'To ensure your body remains stable while performing the exercise, keep your body straight. For example, in the Inverted Rows, you lie under a bar or suspension trainer and pull your chest towards the bar while maintaining a straight body. Similarly, in TRX Rows, you grip the TRX handles, lean back, and keep your body straight while pulling your chest towards the handles. Maintaining a straight body position will help you achieve stability throughout the movement.',\n",
       "  {'Relevance': 'RELEVANT',\n",
       "   'Explanation': 'The generated answer directly addresses the question by providing specific instructions on how to maintain stability during exercises, particularly by emphasizing the importance of keeping the body straight. It relates to the query effectively by including examples of exercises that require stability, which reinforces the guidance given.'}),\n",
       " ({'id': 97,\n",
       "   'question': 'What is the correct form for lifting the band during this exercise?'},\n",
       "  'In the Resistance Band Deadlift, the correct form for lifting the band involves standing on the resistance band with feet shoulder-width apart. You should bend at the hips and knees to lift the band off the ground.',\n",
       "  {'Relevance': 'RELEVANT',\n",
       "   'Explanation': 'The generated answer directly addresses the question by providing specific instructions on the correct form for lifting the band during the Resistance Band Deadlift exercise. It mentions the stance and the necessary bending of the hips and knees, which are key aspects of the correct technique.'}),\n",
       " ({'id': 100,\n",
       "   'question': 'Is the Cable Lateral Raise a push or pull exercise?'},\n",
       "  'The Cable Lateral Raise is a push exercise.',\n",
       "  {'Relevance': 'NON_RELEVANT',\n",
       "   'Explanation': 'The generated answer incorrectly categorizes the Cable Lateral Raise as a push exercise. The Cable Lateral Raise primarily targets the lateral deltoids and is considered a lateral raise movement, which does not fall under the push or pull classification typically used for exercises. In this context, it is not relevant to the question.'}),\n",
       " ({'id': 38,\n",
       "   'question': 'Which body part does the leg press primarily target?'},\n",
       "  'The leg press primarily targets the Lower Body.',\n",
       "  {'Relevance': 'PARTLY_RELEVANT',\n",
       "   'Explanation': 'The generated answer indicates that the leg press primarily targets the lower body, which is correct, but it lacks specificity regarding the exact muscles or areas (like quadriceps, hamstrings, or glutes) that are primarily involved in the leg press exercise.'}),\n",
       " ({'id': 190,\n",
       "   'question': 'Which body parts will be most affected by performing the One-Arm Dumbbell Snatch?'},\n",
       "  'The body parts most affected by performing the One-Arm Dumbbell Snatch are the Glutes, Shoulders, and Triceps.',\n",
       "  {'Relevance': 'RELEVANT',\n",
       "   'Explanation': 'The generated answer accurately identifies specific body parts that are most affected by the One-Arm Dumbbell Snatch, directly addressing the question about which areas of the body are engaged during this exercise.'}),\n",
       " ({'id': 149,\n",
       "   'question': 'What type of exercise is the Resistance Band Chest Press?'},\n",
       "  'The Resistance Band Chest Press is a type of exercise that is classified as Strength.',\n",
       "  {'Relevance': 'RELEVANT',\n",
       "   'Explanation': 'The generated answer accurately identifies the Resistance Band Chest Press as a type of strength exercise, which directly addresses the question about the type of exercise it is.'}),\n",
       " ({'id': 35,\n",
       "   'question': 'What type of exercise is a treadmill run classified as?'},\n",
       "  'The treadmill run is classified as a Cardio exercise.',\n",
       "  {'Relevance': 'RELEVANT',\n",
       "   'Explanation': 'The generated answer accurately classifies a treadmill run as a cardio exercise, which directly addresses the question regarding the type of exercise.'}),\n",
       " ({'id': 99,\n",
       "   'question': 'What is the appropriate weight for the dumbbells when performing the Dumbbell Step-Up?'},\n",
       "  'NONE',\n",
       "  {'Relevance': 'NON_RELEVANT',\n",
       "   'Explanation': \"The generated answer 'NONE' does not address the question regarding the appropriate weight for the dumbbells when performing the Dumbbell Step-Up. It fails to provide any relevant information or guidance related to the question.\"}),\n",
       " ({'id': 23, 'question': 'Is Cable Flyes considered a push exercise?'},\n",
       "  'Yes, Cable Flyes is considered a push exercise.',\n",
       "  {'Relevance': 'RELEVANT',\n",
       "   'Explanation': 'The generated answer directly addresses the question by confirming that Cable Flyes are indeed considered a push exercise, providing a clear and accurate response.'}),\n",
       " ({'id': 204,\n",
       "   'question': 'Is the One-Arm Cable Row classified as a push or pull exercise?'},\n",
       "  'The One-Arm Cable Row is classified as a pull exercise.',\n",
       "  {'Relevance': 'RELEVANT',\n",
       "   'Explanation': 'The generated answer directly addresses the question by classifying the One-Arm Cable Row as a pull exercise, which is the information requested.'}),\n",
       " ({'id': 40,\n",
       "   'question': 'Do I need any equipment to perform the Single-Leg Deadlift, and if so, what?'},\n",
       "  'Yes, you need equipment to perform the Single-Leg Deadlift. The required equipment is dumbbells.',\n",
       "  {'Relevance': 'RELEVANT',\n",
       "   'Explanation': 'The generated answer directly addresses the question by confirming that equipment is needed to perform the Single-Leg Deadlift and specifies that dumbbells are the required equipment, which is precisely what the question inquires about.'}),\n",
       " ({'id': 6,\n",
       "   'question': 'What body part does the Shoulder Press specifically target?'},\n",
       "  'The Shoulder Press specifically targets the Upper Body.',\n",
       "  {'Relevance': 'PARTLY_RELEVANT',\n",
       "   'Explanation': \"The answer mentions that the Shoulder Press targets the 'Upper Body,' which is somewhat relevant but too vague. It does not specify which muscles or specific areas of the upper body, such as the shoulders, triceps, or upper chest, that are primarily targeted by the exercise.\"}),\n",
       " ({'id': 8, 'question': 'How do I properly lean forward to feel the stretch?'},\n",
       "  'To properly lean forward to feel the stretch, stand upright and place one heel on a bench or step. Then, lean forward slightly to feel a stretch in the hamstring of the elevated leg.',\n",
       "  {'Relevance': 'PARTLY_RELEVANT',\n",
       "   'Explanation': 'The generated answer provides a method for stretching, but it specifically focuses on stretching the hamstring with a heel on a bench or step, which may not directly relate to the more general idea of leaning forward to feel a stretch. It lacks comprehensive guidance on how to lean forward in different contexts beyond the particular example given.'}),\n",
       " ({'id': 62,\n",
       "   'question': 'Which muscle groups does the hack squat primarily target?'},\n",
       "  'The hack squat primarily targets the muscle groups: Quadriceps, Glutes, and Hamstrings.',\n",
       "  {'Relevance': 'RELEVANT',\n",
       "   'Explanation': 'The generated answer lists the primary muscle groups targeted by the hack squat, which directly addresses the question asked.'}),\n",
       " ({'id': 54,\n",
       "   'question': 'How long should I hold the Wall Sit position for maximum effectiveness?'},\n",
       "  'NONE',\n",
       "  {'Relevance': 'NON_RELEVANT',\n",
       "   'Explanation': \"The generated answer 'NONE' does not provide any information or guidance regarding the duration for holding the Wall Sit position. It fails to address the question posed, making it completely irrelevant.\"}),\n",
       " ({'id': 147,\n",
       "   'question': 'Which muscle group does the Cable Kickback primarily target during the exercise?'},\n",
       "  'The Cable Kickback primarily targets the Triceps during the exercise.',\n",
       "  {'Relevance': 'PARTLY_RELEVANT',\n",
       "   'Explanation': \"The Cable Kickback exercise primarily targets the triceps, which is mentioned in the generated answer. However, it also engages other muscles, particularly the glutes and hamstrings, during certain variations. Therefore, while the generated answer is correct in identifying the primary target, it does not encompass the full scope of the exercise's muscle engagement.\"}),\n",
       " ({'id': 26,\n",
       "   'question': 'Can the Chest Press be done using other types of weights?'},\n",
       "  'Yes, the Chest Press can be done using other types of weights, such as cable machines, machines, and resistance bands.',\n",
       "  {'Relevance': 'RELEVANT',\n",
       "   'Explanation': 'The generated answer directly addresses the question by affirming that the Chest Press can be done using various types of weights and provides specific examples, making it relevant and informative.'}),\n",
       " ({'id': 107,\n",
       "   'question': 'Can you explain the correct stance for performing the Bulgarian Deadlift?'},\n",
       "  'NONE',\n",
       "  {'Relevance': 'NON_RELEVANT',\n",
       "   'Explanation': \"The generated answer is 'NONE', which fails to provide any information or explanation related to the correct stance for performing the Bulgarian Deadlift. Therefore, it does not address the question at all.\"}),\n",
       " ({'id': 27,\n",
       "   'question': 'What type of exercise are box jumps categorized as?'},\n",
       "  'Box jumps are categorized as Cardio/Strength exercises.',\n",
       "  {'Relevance': 'PARTLY_RELEVANT',\n",
       "   'Explanation': \"The generated answer accurately identifies box jumps as a type of exercise but categorizes them broadly as 'Cardio/Strength exercises.' While they do contribute to both cardiovascular fitness and strength, they are primarily classified as a plyometric exercise. The answer lacks specificity about the main classification, thus making it partly relevant but not fully accurate.\"}),\n",
       " ({'id': 17,\n",
       "   'question': 'What is the primary body position to start performing a burpee?'},\n",
       "  'NONE',\n",
       "  {'Relevance': 'NON_RELEVANT',\n",
       "   'Explanation': \"The generated answer 'NONE' does not provide any information regarding the primary body position to start performing a burpee. It fails to address the question and lacks relevant content.\"}),\n",
       " ({'id': 145,\n",
       "   'question': 'What position should my body be in at the start of the Stability Ball Pike?'},\n",
       "  'Start in a plank position with your feet on a stability ball.',\n",
       "  {'Relevance': 'RELEVANT',\n",
       "   'Explanation': 'The generated answer correctly describes the initial position for performing the Stability Ball Pike exercise, as it specifies starting in a plank position with feet on the stability ball, which directly addresses the question about the body position at the start of the exercise.'}),\n",
       " ({'id': 73,\n",
       "   'question': 'How should my body be positioned while pushing the sled?'},\n",
       "  'While pushing the sled, your body should be positioned with your back straight and your core tight.',\n",
       "  {'Relevance': 'RELEVANT',\n",
       "   'Explanation': 'The generated answer directly addresses the question by providing specific guidance on body positioning while pushing a sled, focusing on maintaining a straight back and tight core, which are important aspects of proper technique.'}),\n",
       " ({'id': 85,\n",
       "   'question': 'Which muscle groups are activated during the hip abduction exercise?'},\n",
       "  'The muscle groups activated during the hip abduction exercise are Glutes and Hip Flexors.',\n",
       "  {'Relevance': 'PARTLY_RELEVANT',\n",
       "   'Explanation': \"The generated answer mentions 'Glutes' which are indeed part of the muscle groups activated during hip abduction, but it incorrectly includes 'Hip Flexors' which are primarily involved in hip flexion rather than abduction. A more comprehensive answer would include other relevant muscles such as the tensor fasciae latae and the sartorius.\"}),\n",
       " ({'id': 61,\n",
       "   'question': 'Is the Machine Chest Fly considered a push or pull exercise?'},\n",
       "  'The Machine Chest Fly is considered a push exercise.',\n",
       "  {'Relevance': 'RELEVANT',\n",
       "   'Explanation': 'The generated answer directly addresses the question by specifying that the Machine Chest Fly is a push exercise, which is the correct classification in the context of exercise types.'}),\n",
       " ({'id': 134,\n",
       "   'question': 'Can you explain the proper sitting position for the rowing machine?'},\n",
       "  'To achieve the proper sitting position for the rowing machine, sit at the rowing machine with your feet braced. Ensure that you are securely positioned before pulling the handles towards your torso.',\n",
       "  {'Relevance': 'PARTLY_RELEVANT',\n",
       "   'Explanation': 'The generated answer describes the sitting position to some extent but lacks comprehensive details on how to properly sit, such as back posture, leg positioning, and overall alignment, which are crucial for using a rowing machine effectively.'}),\n",
       " ({'id': 15,\n",
       "   'question': 'What is the starting position for performing tricep dips?'},\n",
       "  'Place your hands behind you on a bench or chair.',\n",
       "  {'Relevance': 'RELEVANT',\n",
       "   'Explanation': 'The generated answer correctly identifies the starting position for performing tricep dips by indicating that hands should be placed on a bench or chair, which is essential information for executing the exercise.'}),\n",
       " ({'id': 187,\n",
       "   'question': 'Is the Reverse Grip Lat Pulldown suitable for beginners?'},\n",
       "  'NONE',\n",
       "  {'Relevance': 'NON_RELEVANT',\n",
       "   'Explanation': \"The generated answer 'NONE' does not provide any information or context regarding the suitability of the Reverse Grip Lat Pulldown for beginners, making it completely irrelevant to the question asked.\"}),\n",
       " ({'id': 118,\n",
       "   'question': 'What type of equipment is required for the leg curl exercise?'},\n",
       "  'The type of equipment required for the leg curl exercise is a Machine.',\n",
       "  {'Relevance': 'RELEVANT',\n",
       "   'Explanation': 'The generated answer directly addresses the question by identifying that a machine is required for the leg curl exercise. This provides specific and relevant information about the type of equipment needed.'}),\n",
       " ({'id': 198,\n",
       "   'question': 'What muscles does the Cable Tricep Overhead Extension target?'},\n",
       "  'The Cable Tricep Overhead Extension targets the Triceps muscles.',\n",
       "  {'Relevance': 'RELEVANT',\n",
       "   'Explanation': 'The generated answer directly addresses the question by stating that the Cable Tricep Overhead Extension targets the Triceps muscles, which is the specific focus of the question.'}),\n",
       " ({'id': 99,\n",
       "   'question': 'How do I avoid injury while doing the Dumbbell Step-Up exercise?'},\n",
       "  'NONE',\n",
       "  {'Relevance': 'NON_RELEVANT',\n",
       "   'Explanation': \"The generated answer 'NONE' does not provide any information or guidance related to avoiding injury during the Dumbbell Step-Up exercise, making it completely irrelevant to the question asked.\"}),\n",
       " ({'id': 173,\n",
       "   'question': 'What type of equipment do I need to perform the Turkish Get-Up?'},\n",
       "  'You need a kettlebell to perform the Turkish Get-Up.',\n",
       "  {'Relevance': 'PARTLY_RELEVANT',\n",
       "   'Explanation': 'The generated answer mentions a kettlebell as equipment needed for the Turkish Get-Up, which is one type of equipment that can be used. However, it does not provide a comprehensive list of all possible equipment (e.g., dumbbells, or bodyweight) that can be used to perform the exercise, making it only partially relevant.'}),\n",
       " ({'id': 21,\n",
       "   'question': 'What body part does the Overhead Tricep Extension primarily work on?'},\n",
       "  'The Overhead Tricep Extension primarily works on the Triceps.',\n",
       "  {'Relevance': 'RELEVANT',\n",
       "   'Explanation': 'The generated answer directly addresses the question by specifying that the Overhead Tricep Extension primarily targets the Triceps, which is the correct and relevant response.'}),\n",
       " ({'id': 171,\n",
       "   'question': 'What is the correct technique for performing a Banded Pull-Up?'},\n",
       "  'To perform a Banded Pull-Up, loop a resistance band around a pull-up bar and place your knees in the band. Pull your body up until your chin is above the bar.',\n",
       "  {'Relevance': 'RELEVANT',\n",
       "   'Explanation': 'The generated answer accurately describes the correct technique for performing a Banded Pull-Up, including the use of a resistance band and the action of pulling the body up until the chin is above the bar.'}),\n",
       " ({'id': 3, 'question': 'What body parts does the Deadlift primarily target?'},\n",
       "  'The Deadlift primarily targets the Glutes, Hamstrings, and Lower Back.',\n",
       "  {'Relevance': 'RELEVANT',\n",
       "   'Explanation': 'The generated answer accurately identifies the primary body parts targeted by the Deadlift, specifically the Glutes, Hamstrings, and Lower Back, which directly addresses the question.'}),\n",
       " ({'id': 119,\n",
       "   'question': 'What is the proper technique for lowering my body during the One-Arm Push-Up?'},\n",
       "  'To properly lower your body during the One-Arm Push-Up, start in a push-up position with one hand behind your back. Lower your body until your chest nearly touches the floor, then push back up.',\n",
       "  {'Relevance': 'RELEVANT',\n",
       "   'Explanation': 'The generated answer directly addresses the question by providing a clear description of the proper technique for lowering the body during a One-Arm Push-Up, including the initial position and the action to take.'}),\n",
       " ({'id': 110,\n",
       "   'question': 'Which part of the body is primarily targeted by the Russian Kettlebell Swing?'},\n",
       "  'The Russian Kettlebell Swing primarily targets the Core.',\n",
       "  {'Relevance': 'PARTLY_RELEVANT',\n",
       "   'Explanation': \"The generated answer mentions that the Russian Kettlebell Swing primarily targets the Core, which is a relevant aspect. However, it does not address other significant muscles that are also targeted by this exercise, such as the glutes and hamstrings. Therefore, while it captures some of the exercise's focus, it does not provide a complete answer.\"}),\n",
       " ({'id': 160,\n",
       "   'question': 'Can you describe the initial position for performing a Lat Pullover?'},\n",
       "  'To perform a Lat Pullover, lie on a bench holding a dumbbell over your chest.',\n",
       "  {'Relevance': 'RELEVANT',\n",
       "   'Explanation': 'The generated answer accurately describes the initial position for performing a Lat Pullover, specifically stating to lie on a bench and hold a dumbbell over the chest, which is essential for executing the exercise correctly.'}),\n",
       " ({'id': 197,\n",
       "   'question': 'What is the correct way to perform a Cable Hammer Curl?'},\n",
       "  'To perform a Cable Hammer Curl, stand facing a cable machine with the handle attached to the low pulley. Curl the handle towards your shoulders with a neutral grip.',\n",
       "  {'Relevance': 'RELEVANT',\n",
       "   'Explanation': 'The generated answer provides a clear and accurate description of how to perform a Cable Hammer Curl, directly addressing the question asked.'}),\n",
       " ({'id': 68,\n",
       "   'question': 'Which muscle groups are primarily activated during the Arnold Press?'},\n",
       "  'The muscle groups primarily activated during the Arnold Press are Deltoids and Triceps.',\n",
       "  {'Relevance': 'PARTLY_RELEVANT',\n",
       "   'Explanation': 'The generated answer mentions Deltoids, which are indeed one of the primary muscle groups activated during the Arnold Press. However, it overlooks other important muscle groups, such as the upper chest and the trapezius, that are also significantly engaged during this exercise. Therefore, while it contains some relevant information, it is not comprehensive.'}),\n",
       " ({'id': 13,\n",
       "   'question': 'What is the primary body part targeted by Mountain Climbers?'},\n",
       "  'The primary body part targeted by Mountain Climbers is the Core.',\n",
       "  {'Relevance': 'RELEVANT',\n",
       "   'Explanation': 'The generated answer correctly identifies the primary body part targeted by Mountain Climbers as the Core, which is directly responsive to the question asked.'}),\n",
       " ({'id': 47,\n",
       "   'question': 'Which muscles are primarily targeted during the Seated Shoulder Press exercise?'},\n",
       "  'The muscles primarily targeted during the Seated Shoulder Press exercise are the Deltoids and Triceps.',\n",
       "  {'Relevance': 'RELEVANT',\n",
       "   'Explanation': 'The generated answer correctly identifies the primary muscles targeted during the Seated Shoulder Press exercise, specifically mentioning the Deltoids and Triceps, which aligns directly with the question asked.'}),\n",
       " ({'id': 51,\n",
       "   'question': 'Is the Cable Row considered a push or pull type of exercise?'},\n",
       "  'The Cable Row is considered a pull type of exercise.',\n",
       "  {'Relevance': 'RELEVANT',\n",
       "   'Explanation': 'The generated answer directly addresses the question by clearly stating that the Cable Row is considered a pull type of exercise, which is the specific information being asked for.'}),\n",
       " ({'id': 20,\n",
       "   'question': 'How should my body align when I lift my hips during the exercise?'},\n",
       "  'When you lift your hips during the exercise, your body should align to form a straight line from your shoulders to your knees.',\n",
       "  {'Relevance': 'RELEVANT',\n",
       "   'Explanation': 'The generated answer directly addresses the question by describing how the body should align when lifting the hips, specifically mentioning the alignment from shoulders to knees, which is pertinent to proper posture during the exercise.'}),\n",
       " ({'id': 60,\n",
       "   'question': 'How do I return to the starting position after stepping out in the Side Lunge?'},\n",
       "  'To return to the starting position after stepping out in the Side Lunge, push back to the starting position.',\n",
       "  {'Relevance': 'RELEVANT',\n",
       "   'Explanation': 'The generated answer directly addresses the question by providing a clear instruction on how to return to the starting position after performing a Side Lunge, which is precisely what the question is asking for.'}),\n",
       " ({'id': 186,\n",
       "   'question': 'What should I focus on during the pull phase of the Deadlift High Pull?'},\n",
       "  'During the pull phase of the Deadlift High Pull, you should focus on pulling the barbell up towards your chest as you stand up.',\n",
       "  {'Relevance': 'RELEVANT',\n",
       "   'Explanation': 'The generated answer directly addresses the question by specifying what to focus on during the pull phase of the Deadlift High Pull. It correctly mentions the action of pulling the barbell towards the chest, which is a key aspect of the movement.'}),\n",
       " ({'id': 202,\n",
       "   'question': 'Can you explain the movement involved in the Incline Dumbbell Row?'},\n",
       "  'In the Incline Dumbbell Row, you lie face down on an incline bench with a dumbbell in each hand. The movement involves rowing the weights towards your torso and then lowering them back down. This exercise primarily activates the Latissimus Dorsi and Biceps.',\n",
       "  {'Relevance': 'RELEVANT',\n",
       "   'Explanation': 'The generated answer accurately describes the movement involved in the Incline Dumbbell Row, including the positioning and the action of rowing the weights, as well as highlighting the primary muscles targeted by the exercise.'}),\n",
       " ({'id': 36,\n",
       "   'question': 'Which muscle groups are primarily worked by the Incline Dumbbell Press?'},\n",
       "  'The muscle groups primarily worked by the Incline Dumbbell Press are Pectorals, Triceps, and Deltoids.',\n",
       "  {'Relevance': 'RELEVANT',\n",
       "   'Explanation': 'The generated answer accurately identifies the muscle groups primarily worked by the Incline Dumbbell Press, specifically mentioning the Pectorals, Triceps, and Deltoids, which directly addresses the question.'}),\n",
       " ({'id': 183,\n",
       "   'question': 'Which muscle groups are activated when doing a Lateral Lunge?'},\n",
       "  'The muscle groups activated when doing a Lateral Lunge are Quadriceps, Glutes, and Adductors.',\n",
       "  {'Relevance': 'RELEVANT',\n",
       "   'Explanation': 'The generated answer accurately identifies the key muscle groups that are activated during a Lateral Lunge, specifically the Quadriceps, Glutes, and Adductors, which directly addresses the question asked.'}),\n",
       " ({'id': 39,\n",
       "   'question': 'What position should I be in when performing the Cable Tricep Pushdown?'},\n",
       "  'Stand facing a cable machine with a high pulley.',\n",
       "  {'Relevance': 'PARTLY_RELEVANT',\n",
       "   'Explanation': 'The generated answer provides some information about positioning by stating to stand facing a cable machine with a high pulley. However, it lacks details about the specific body alignment or posture that should be maintained during the Cable Tricep Pushdown, which would be necessary for a complete and clear understanding of the correct position.'}),\n",
       " ({'id': 140,\n",
       "   'question': 'How should I operate the leg curl machine during this exercise?'},\n",
       "  \"To operate the leg curl machine during this exercise, you should either sit on or lie face down on the machine, depending on the specific type of leg curl you're performing. If it's the seated leg curl, sit on the machine and curl the pad down towards your glutes, then return to the starting position. If it's the lying or prone leg curl, lie face down on the machine and curl the pad towards your glutes, then return to the starting position.\",\n",
       "  {'Relevance': 'RELEVANT',\n",
       "   'Explanation': 'The generated answer directly addresses the question by providing detailed instructions on how to operate the leg curl machine, including the differences between seated and lying variations. It comprehensively covers the necessary steps to execute the exercise correctly.'}),\n",
       " ({'id': 190,\n",
       "   'question': 'What type of equipment do I need to perform the One-Arm Dumbbell Snatch?'},\n",
       "  'You need a Dumbbell to perform the One-Arm Dumbbell Snatch.',\n",
       "  {'Relevance': 'PARTLY_RELEVANT',\n",
       "   'Explanation': 'The generated answer identifies the need for a dumbbell, which is essential equipment for the One-Arm Dumbbell Snatch. However, it lacks detail by not mentioning other potentially necessary equipment or considerations such as an appropriate weight, space for exercise, or suggested surface for performing the move.'}),\n",
       " ({'id': 184,\n",
       "   'question': 'How should I position my feet during the Seated Machine Row?'},\n",
       "  'During the Seated Machine Row, you should position your feet braced.',\n",
       "  {'Relevance': 'PARTLY_RELEVANT',\n",
       "   'Explanation': 'The generated answer provides an instruction about bracing the feet during the Seated Machine Row, which addresses part of the question. However, it lacks specificity regarding the exact positioning of the feet, such as their angle or placement on the footrest, which would be useful for a complete understanding of proper form.'}),\n",
       " ({'id': 162,\n",
       "   'question': 'What equipment do I need to perform the Cable Woodchopper exercise?'},\n",
       "  'You need a Cable Machine to perform the Cable Woodchopper exercise.',\n",
       "  {'Relevance': 'RELEVANT',\n",
       "   'Explanation': 'The generated answer directly addresses the question by stating that a Cable Machine is required to perform the Cable Woodchopper exercise. This is specific and accurate information related to the question asked.'}),\n",
       " ({'id': 48,\n",
       "   'question': 'Which muscles are primarily engaged when performing incline push-ups?'},\n",
       "  'The muscles primarily engaged when performing incline push-ups are the Pectorals, Triceps, and Deltoids.',\n",
       "  {'Relevance': 'RELEVANT',\n",
       "   'Explanation': 'The generated answer directly addresses the question by identifying the specific muscles (Pectorals, Triceps, and Deltoids) that are primarily engaged during incline push-ups, making it highly relevant to the inquiry.'}),\n",
       " ({'id': 18,\n",
       "   'question': 'What muscles are primarily targeted by Dumbbell Rows?'},\n",
       "  'The muscles primarily targeted by Dumbbell Rows are Latissimus Dorsi and Biceps.',\n",
       "  {'Relevance': 'RELEVANT',\n",
       "   'Explanation': 'The generated answer accurately identifies the primary muscles targeted by Dumbbell Rows, specifically naming the Latissimus Dorsi and Biceps, which directly answers the question.'}),\n",
       " ({'id': 60,\n",
       "   'question': 'Which muscle groups are activated when performing the Side Lunge?'},\n",
       "  'The muscle groups activated when performing the Side Lunge are the Quadriceps, Glutes, and Adductors.',\n",
       "  {'Relevance': 'RELEVANT',\n",
       "   'Explanation': 'The generated answer accurately identifies the main muscle groups that are activated during the Side Lunge, specifically the Quadriceps, Glutes, and Adductors, which directly addresses the question asked.'}),\n",
       " ({'id': 65,\n",
       "   'question': 'How should I maintain my core during the movement of the Ab Wheel Rollout?'},\n",
       "  'To maintain your core during the movement of the Ab Wheel Rollout, keep your core tight as you roll the wheel forward and roll back.',\n",
       "  {'Relevance': 'RELEVANT',\n",
       "   'Explanation': 'The generated answer directly addresses the question by providing specific advice on how to maintain core stability during the Ab Wheel Rollout, specifically mentioning to keep the core tight while performing the movement.'}),\n",
       " ({'id': 44,\n",
       "   'question': 'Is Hanging Knee Tucks considered a strength or cardio exercise?'},\n",
       "  'Hanging Knee Tucks are considered a strength exercise.',\n",
       "  {'Relevance': 'RELEVANT',\n",
       "   'Explanation': 'The generated answer directly addresses the question by stating that Hanging Knee Tucks are considered a strength exercise, which is the information sought by the question.'}),\n",
       " ({'id': 127,\n",
       "   'question': 'Is the Reverse Fly primarily a push or pull exercise?'},\n",
       "  'The Reverse Fly is primarily a pull exercise.',\n",
       "  {'Relevance': 'RELEVANT',\n",
       "   'Explanation': 'The generated answer directly responds to the question by clearly stating that the Reverse Fly is primarily a pull exercise, which is the sought information.'}),\n",
       " ({'id': 125,\n",
       "   'question': 'Is the Superman Exercise a strength or a cardio workout?'},\n",
       "  'The Superman Exercise is a strength workout.',\n",
       "  {'Relevance': 'RELEVANT',\n",
       "   'Explanation': 'The generated answer directly addresses the question by clearly stating that the Superman Exercise is a strength workout, which falls under the query of whether it is a strength or cardio workout.'}),\n",
       " ({'id': 199,\n",
       "   'question': 'What is the main muscle group targeted by the Seated Cable Row exercise?'},\n",
       "  'The main muscle group targeted by the Seated Cable Row exercise is the Latissimus Dorsi.',\n",
       "  {'Relevance': 'RELEVANT',\n",
       "   'Explanation': 'The generated answer directly addresses the question by identifying the main muscle group targeted by the Seated Cable Row exercise, which is the Latissimus Dorsi. This response is accurate and complete in relation to the question asked.'}),\n",
       " ({'id': 40,\n",
       "   'question': 'Can you describe the proper stance for executing a Single-Leg Deadlift?'},\n",
       "  'Stand on one leg, holding a dumbbell in the opposite hand. Bend at the hips to lower the weight while extending the free leg behind you.',\n",
       "  {'Relevance': 'RELEVANT',\n",
       "   'Explanation': 'The generated answer accurately describes the proper stance for executing a Single-Leg Deadlift, including the positioning of the legs and how to hold the weight. It is a clear and concise response that directly addresses the question.'}),\n",
       " ({'id': 132,\n",
       "   'question': 'What type of equipment do I need for the Reverse Hyperextension?'},\n",
       "  'You need a Machine for the Reverse Hyperextension.',\n",
       "  {'Relevance': 'RELEVANT',\n",
       "   'Explanation': 'The generated answer directly addresses the question by specifying that a machine is needed for the Reverse Hyperextension, which is the correct type of equipment for this exercise.'}),\n",
       " ({'id': 117,\n",
       "   'question': 'Is the Dumbbell Tricep Extension considered a push or pull exercise?'},\n",
       "  'NONE',\n",
       "  {'Relevance': 'NON_RELEVANT',\n",
       "   'Explanation': \"The generated answer 'NONE' does not provide any information regarding whether the Dumbbell Tricep Extension is a push or pull exercise, making it completely irrelevant to the question asked.\"}),\n",
       " ({'id': 45,\n",
       "   'question': 'What benefits does doing Resistance Band Pull Aparts provide for my upper body?'},\n",
       "  'Doing Resistance Band Pull Aparts activates the Rear Deltoids, Trapezius, and Rhomboids in your upper body. This exercise helps to strengthen these muscle groups, which can improve posture, increase upper body strength, and enhance shoulder stability.',\n",
       "  {'Relevance': 'RELEVANT',\n",
       "   'Explanation': 'The generated answer directly addresses the benefits of doing Resistance Band Pull Aparts for the upper body by specifying the muscle groups activated and the resulting advantages such as improved posture, increased strength, and enhanced shoulder stability.'}),\n",
       " ({'id': 134,\n",
       "   'question': 'How should I position my feet while using the rowing machine?'},\n",
       "  'You should position your feet braced while using the rowing machine.',\n",
       "  {'Relevance': 'PARTLY_RELEVANT',\n",
       "   'Explanation': \"The generated answer provides some information about positioning the feet by mentioning that they should be 'braced,' but it lacks detailed guidance on the proper foot placement, such as the angle or placement on the footplate. As a result, it does not fully address the question.\"}),\n",
       " ({'id': 48,\n",
       "   'question': 'Can I perform incline push-ups without any equipment?'},\n",
       "  'Yes, you can perform incline push-ups without any equipment, as they use bodyweight and require only an elevated surface like a bench.',\n",
       "  {'Relevance': 'RELEVANT',\n",
       "   'Explanation': 'The generated answer directly addresses the question by confirming that incline push-ups can be performed without equipment and specifies that only an elevated surface is needed, which is consistent with the requirements of the question.'}),\n",
       " ({'id': 139,\n",
       "   'question': 'Can you explain the correct form for executing a Dumbbell Thruster?'},\n",
       "  'NONE',\n",
       "  {'Relevance': 'NON_RELEVANT',\n",
       "   'Explanation': \"The generated answer 'NONE' does not provide any information or explanation about the correct form for executing a Dumbbell Thruster, making it entirely irrelevant to the question asked.\"}),\n",
       " ({'id': 11,\n",
       "   'question': 'How do you return to the starting position after a lunge?'},\n",
       "  'To return to the starting position after a lunge, you need to push back to the starting position.',\n",
       "  {'Relevance': 'RELEVANT',\n",
       "   'Explanation': 'The generated answer accurately addresses the question by providing a clear instruction on how to return to the starting position after a lunge, specifically mentioning the action of pushing back to the starting position.'}),\n",
       " ({'id': 2,\n",
       "   'question': 'What type of exercise is the plank classified under?'},\n",
       "  'The plank is classified under Strength/Mobility.',\n",
       "  {'Relevance': 'PARTLY_RELEVANT',\n",
       "   'Explanation': 'The generated answer identifies the plank as a type of exercise related to strength, which is accurate. However, it lacks specificity, as the plank is primarily associated with core strength and stability rather than broadly classified as strength/mobility. Therefore, it is somewhat relevant but not fully precise.'}),\n",
       " ({'id': 31,\n",
       "   'question': 'Which body parts are primarily targeted when performing Battle Ropes?'},\n",
       "  'The body parts primarily targeted when performing Battle Ropes are the Upper Body, specifically the Deltoids, Forearms, and Core.',\n",
       "  {'Relevance': 'RELEVANT',\n",
       "   'Explanation': 'The generated answer accurately identifies the upper body parts primarily targeted during Battle Ropes exercises, specifically mentioning the deltoids and forearms, while also including the core, which is an essential part of the overall engagement during this workout.'}),\n",
       " ({'id': 80,\n",
       "   'question': 'Is the Cable Chest Press classified as a push or pull exercise?'},\n",
       "  'The Cable Chest Press is classified as a push exercise.',\n",
       "  {'Relevance': 'RELEVANT',\n",
       "   'Explanation': 'The generated answer directly addresses the question by categorizing the Cable Chest Press as a push exercise, which is the correct response.'}),\n",
       " ({'id': 146,\n",
       "   'question': 'What are the step-by-step instructions for executing the Standing Calf Raise correctly?'},\n",
       "  'Stand with the balls of your feet on the edge of a step. Raise your heels as high as possible, then lower them back down.',\n",
       "  {'Relevance': 'PARTLY_RELEVANT',\n",
       "   'Explanation': 'The generated answer provides partial instructions for executing the Standing Calf Raise by describing the starting position and the movement. However, it lacks detailed step-by-step instructions such as proper stance, repetitions, safety tips, and the importance of controlling the movement, which are crucial for a complete guide.'}),\n",
       " ({'id': 171,\n",
       "   'question': 'How do I set up the resistance band for the Banded Pull-Up?'},\n",
       "  'To set up the resistance band for the Banded Pull-Up, loop a resistance band around a pull-up bar and place your knees in the band.',\n",
       "  {'Relevance': 'RELEVANT',\n",
       "   'Explanation': 'The generated answer directly addresses the question by providing clear instructions on how to set up the resistance band for a Banded Pull-Up, including the correct placement of the band and the body part involved.'}),\n",
       " ({'id': 98,\n",
       "   'question': 'How should I position myself on the bench for this exercise?'},\n",
       "  'To position yourself on the bench for the Bench Press, lie flat on a bench with a barbell.',\n",
       "  {'Relevance': 'PARTLY_RELEVANT',\n",
       "   'Explanation': \"The generated answer provides some information about positioning for the Bench Press exercise, which relates to positioning on the bench. However, it does not cover the broader context of how to position oneself on the bench in various exercises or details on body alignment and safety, which could enhance the answer's relevance.\"}),\n",
       " ({'id': 115,\n",
       "   'question': 'Which muscle groups are primarily activated during jumping squats?'},\n",
       "  'The muscle groups primarily activated during jumping squats are Quadriceps, Glutes, and Calves.',\n",
       "  {'Relevance': 'RELEVANT',\n",
       "   'Explanation': 'The generated answer accurately lists the primary muscle groups (Quadriceps, Glutes, and Calves) that are activated during jumping squats, directly addressing the question about which muscles are involved in this exercise.'}),\n",
       " ({'id': 175,\n",
       "   'question': 'What is the Cable Front Raise exercise primarily targeting in the upper body?'},\n",
       "  'The Cable Front Raise exercise is primarily targeting the Deltoids in the upper body.',\n",
       "  {'Relevance': 'RELEVANT',\n",
       "   'Explanation': 'The generated answer accurately identifies that the Cable Front Raise exercise primarily targets the Deltoids in the upper body, which directly addresses the question.'}),\n",
       " ({'id': 146,\n",
       "   'question': 'Can the Standing Calf Raise be performed without any weights?'},\n",
       "  'Yes, the Standing Calf Raise can be performed without any weights, as it can be done using bodyweight.',\n",
       "  {'Relevance': 'RELEVANT',\n",
       "   'Explanation': 'The generated answer directly addresses the question by confirming that the Standing Calf Raise can indeed be performed without weights, specifying that it can be done using bodyweight, which is pertinent information related to the inquiry.'}),\n",
       " ({'id': 97,\n",
       "   'question': 'How should my feet be positioned while doing this exercise?'},\n",
       "  'NONE',\n",
       "  {'Relevance': 'NON_RELEVANT',\n",
       "   'Explanation': \"The generated answer 'NONE' does not provide any information or guidance regarding the positioning of feet during the exercise, making it completely irrelevant to the question asked.\"}),\n",
       " ({'id': 105,\n",
       "   'question': 'How should I position my feet while doing the Barbell Shrug?'},\n",
       "  'Stand with feet shoulder-width apart while doing the Barbell Shrug.',\n",
       "  {'Relevance': 'RELEVANT',\n",
       "   'Explanation': 'The generated answer directly addresses the question by providing specific information about foot positioning while doing the Barbell Shrug, indicating that feet should be shoulder-width apart.'}),\n",
       " ({'id': 69,\n",
       "   'question': 'What is the Landmine Press and how is it performed?'},\n",
       "  'The Landmine Press is a strength exercise that targets the upper body, specifically activating the pectorals, deltoids, and triceps. It is performed by holding the end of a barbell anchored in a landmine attachment and pressing the bar overhead with one arm.',\n",
       "  {'Relevance': 'RELEVANT',\n",
       "   'Explanation': 'The generated answer adequately describes what the Landmine Press is and provides details on how the exercise is performed. It mentions the targeted muscle groups and provides instructions on using the barbell with a landmine attachment, directly addressing both parts of the question.'}),\n",
       " ({'id': 181,\n",
       "   'question': 'Is the Cable Side Lunge considered a push or pull exercise?'},\n",
       "  'The Cable Side Lunge is considered a push exercise.',\n",
       "  {'Relevance': 'NON_RELEVANT',\n",
       "   'Explanation': 'The generated answer incorrectly classifies the Cable Side Lunge as a push exercise. In reality, it primarily involves the use of leg muscles in a lateral motion and is not typically categorized as either a push or pull exercise, making the answer irrelevant to the question.'}),\n",
       " ({'id': 176,\n",
       "   'question': 'Which muscle groups are primarily activated during the Reverse Crunch?'},\n",
       "  'The muscle groups primarily activated during the Reverse Crunch are the Rectus Abdominis and Hip Flexors.',\n",
       "  {'Relevance': 'RELEVANT',\n",
       "   'Explanation': 'The generated answer accurately identifies the primary muscle groups activated during the Reverse Crunch, directly addressing the question asked.'}),\n",
       " ({'id': 72,\n",
       "   'question': 'Is there a specific body part that Dumbbell Shrugs focus on?'},\n",
       "  'NONE',\n",
       "  {'Relevance': 'NON_RELEVANT',\n",
       "   'Explanation': \"The generated answer 'NONE' does not address the question about which specific body part Dumbbell Shrugs focus on. The question seeks information regarding the target muscles or body part, and the response fails to provide any relevant information.\"}),\n",
       " ({'id': 61,\n",
       "   'question': 'Which muscle groups are primarily targeted by the Machine Chest Fly?'},\n",
       "  'The muscle groups primarily targeted by the Machine Chest Fly are the Pectorals.',\n",
       "  {'Relevance': 'RELEVANT',\n",
       "   'Explanation': 'The generated answer correctly identifies the primary muscle groups targeted by the Machine Chest Fly as the Pectorals, directly addressing the question.'}),\n",
       " ({'id': 71,\n",
       "   'question': 'What position should I start in for the Windshield Wipers exercise?'},\n",
       "  'Lie on your back with legs extended towards the ceiling.',\n",
       "  {'Relevance': 'NON_RELEVANT',\n",
       "   'Explanation': 'The generated answer describes a position (lying on your back with legs extended towards the ceiling) that does not correspond to any recognized starting position for the Windshield Wipers exercise, which typically involves a lying position with legs bent and feet on the ground or lifted in a specific orientation. Therefore, it does not address the question appropriately.'}),\n",
       " ({'id': 0, 'question': 'Do you need any equipment to perform push-ups?'},\n",
       "  'No, you do not need any equipment to perform push-ups, as they can be done using bodyweight.',\n",
       "  {'Relevance': 'RELEVANT',\n",
       "   'Explanation': 'The generated answer directly addresses the question by confirming that no equipment is needed to perform push-ups, accurately stating that they can be done using bodyweight.'}),\n",
       " ({'id': 206,\n",
       "   'question': 'What body part does the Dumbbell Bench Press focus on?'},\n",
       "  'The Dumbbell Bench Press focuses on the Upper Body, specifically activating the Pectorals, Triceps, and Deltoids.',\n",
       "  {'Relevance': 'RELEVANT',\n",
       "   'Explanation': 'The generated answer directly addresses the question by specifying that the Dumbbell Bench Press focuses on the Upper Body, and it clearly identifies the Pectorals, Triceps, and Deltoids as the specific muscles targeted, which is highly relevant to the inquiry.'}),\n",
       " ({'id': 156,\n",
       "   'question': 'Can you explain the correct sitting position for the Machine Chest Press?'},\n",
       "  'Sit at a chest press machine with your feet flat on the floor. Press the handles forward until your arms are fully extended.',\n",
       "  {'Relevance': 'PARTLY_RELEVANT',\n",
       "   'Explanation': 'The generated answer provides some information about the sitting position by mentioning feet placement and the action of pressing the handles. However, it lacks details about the back support, hand positioning, or other aspects that contribute to a correct sitting position while using the Machine Chest Press.'}),\n",
       " ({'id': 69,\n",
       "   'question': 'What type of equipment do I need to perform the Landmine Press?'},\n",
       "  'You need a Barbell to perform the Landmine Press.',\n",
       "  {'Relevance': 'RELEVANT',\n",
       "   'Explanation': 'The generated answer directly addresses the question by specifying that a Barbell is needed to perform the Landmine Press, which is the specific information requested.'}),\n",
       " ({'id': 195,\n",
       "   'question': 'Can you explain how to perform the Standing Chest Fly correctly?'},\n",
       "  'To perform the Standing Chest Fly correctly, follow these instructions: \\n\\n1. Stand in the middle of a cable machine with handles in each hand.\\n2. Bring the handles together in front of your chest.\\n3. Return to the starting position. \\n\\nThis exercise activates the pectorals and deltoids.',\n",
       "  {'Relevance': 'RELEVANT',\n",
       "   'Explanation': 'The generated answer provides clear and specific instructions on how to perform the Standing Chest Fly, addressing the question directly. It includes steps to execute the exercise properly and mentions the muscles targeted, which adds completeness to the response.'}),\n",
       " ({'id': 201,\n",
       "   'question': 'What body part does the Weighted Pull-Up mainly target?'},\n",
       "  'The Weighted Pull-Up mainly targets the Upper Body, specifically the Latissimus Dorsi and Biceps muscle groups.',\n",
       "  {'Relevance': 'RELEVANT',\n",
       "   'Explanation': 'The generated answer correctly identifies the primary body part targeted by the Weighted Pull-Up as the Upper Body and specifies the Latissimus Dorsi and Biceps, which are indeed the main muscles engaged during this exercise.'}),\n",
       " ({'id': 37, 'question': 'What equipment do I need to perform Renegade Rows?'},\n",
       "  'You need Dumbbells to perform Renegade Rows.',\n",
       "  {'Relevance': 'RELEVANT',\n",
       "   'Explanation': 'The generated answer directly addresses the question by stating that dumbbells are needed to perform Renegade Rows, which is the core focus of the query.'}),\n",
       " ({'id': 41, 'question': 'What equipment do I need to perform inverted rows?'},\n",
       "  'To perform inverted rows, you need a bar or suspension trainer.',\n",
       "  {'Relevance': 'RELEVANT',\n",
       "   'Explanation': 'The generated answer directly addresses the question by specifying the necessary equipment (a bar or suspension trainer) to perform inverted rows, making it relevant and helpful.'}),\n",
       " ({'id': 96,\n",
       "   'question': 'Which muscle groups are activated during the Incline Bench Press?'},\n",
       "  'The muscle groups activated during the Incline Bench Press are Pectorals, Triceps, and Deltoids.',\n",
       "  {'Relevance': 'RELEVANT',\n",
       "   'Explanation': 'The generated answer directly addresses the question by listing the specific muscle groups (Pectorals, Triceps, and Deltoids) that are activated during the Incline Bench Press, fulfilling the inquiry thoroughly.'}),\n",
       " ({'id': 51,\n",
       "   'question': 'What muscle groups are primarily activated during the Cable Row exercise?'},\n",
       "  'The muscle groups primarily activated during the Cable Row exercise are the Latissimus Dorsi and Biceps.',\n",
       "  {'Relevance': 'RELEVANT',\n",
       "   'Explanation': \"The generated answer accurately identifies the Latissimus Dorsi and Biceps as the primary muscle groups activated during the Cable Row exercise, directly aligning with the question's focus on muscle activation.\"}),\n",
       " ({'id': 40,\n",
       "   'question': 'What is the primary muscle group activated by the Single-Leg Deadlift?'},\n",
       "  'The primary muscle group activated by the Single-Leg Deadlift is the Hamstrings.',\n",
       "  {'Relevance': 'PARTLY_RELEVANT',\n",
       "   'Explanation': 'The generated answer identifies the Hamstrings as a primary muscle group activated by the Single-Leg Deadlift. However, it is important to note that while the Hamstrings are indeed engaged, other muscle groups such as the Glutes and Lower Back also play significant roles in this exercise. Thus, the answer is not fully comprehensive.'}),\n",
       " ({'id': 0,\n",
       "   'question': 'How do you know when to push back up while doing push-ups?'},\n",
       "  'You know to push back up while doing push-ups when your chest nearly touches the floor during the lowering phase. This indicates that you have reached the bottom position and are ready to return to the starting position.',\n",
       "  {'Relevance': 'RELEVANT',\n",
       "   'Explanation': 'The generated answer directly addresses the question by explaining when to push back up during push-ups, specifically indicating that it is appropriate to do so when the chest is near the floor. This provides clear and pertinent guidance related to the mechanics of performing a push-up.'}),\n",
       " ({'id': 81, 'question': 'What equipment do I need for TRX Rows?'},\n",
       "  'You need TRX equipment for TRX Rows.',\n",
       "  {'Relevance': 'PARTLY_RELEVANT',\n",
       "   'Explanation': 'The generated answer correctly identifies that TRX equipment is needed for TRX Rows, but it lacks additional details about specific types of TRX equipment or any other relevant accessories that might enhance the response.'}),\n",
       " ({'id': 14, 'question': 'Can I perform Leg Raises without any equipment?'},\n",
       "  'Yes, you can perform Leg Raises without any equipment as they are a bodyweight exercise.',\n",
       "  {'Relevance': 'RELEVANT',\n",
       "   'Explanation': 'The generated answer directly addresses the question by confirming that Leg Raises can be performed without equipment and categorizes them as a bodyweight exercise, which is pertinent information for the reader.'}),\n",
       " ({'id': 188,\n",
       "   'question': 'Can you explain how to perform the Cable Lateral Lunge properly?'},\n",
       "  'To perform the Cable Lateral Lunge properly, follow these instructions: Attach a handle to a low pulley and stand to the side of the cable machine. Step out into a side lunge, then return to the starting position.',\n",
       "  {'Relevance': 'RELEVANT',\n",
       "   'Explanation': 'The generated answer provides clear and direct instructions on how to perform a Cable Lateral Lunge, including necessary equipment and key movements involved in the exercise, which directly addresses the question asked.'}),\n",
       " ({'id': 28, 'question': 'How should I lower my legs after raising them?'},\n",
       "  'To lower your legs after raising them during the Reverse Hyperextension exercise, you should follow this instruction: Lift your legs towards the ceiling, then lower them back down.',\n",
       "  {'Relevance': 'RELEVANT',\n",
       "   'Explanation': 'The generated answer directly addresses the question by providing instructions specifically related to how to lower the legs after raising them, particularly in the context of the Reverse Hyperextension exercise.'}),\n",
       " ({'id': 111,\n",
       "   'question': 'What muscles are primarily engaged during the Incline Dumbbell Curl?'},\n",
       "  'The muscles primarily engaged during the Incline Dumbbell Curl are the Biceps and Forearms.',\n",
       "  {'Relevance': 'RELEVANT',\n",
       "   'Explanation': 'The generated answer accurately identifies the primary muscles involved in the Incline Dumbbell Curl, which directly addresses the question asked.'}),\n",
       " ({'id': 143,\n",
       "   'question': 'Can you explain the grip technique used during the Zottman Curl?'},\n",
       "  'The grip technique used during the Zottman Curl involves starting with a supinated grip (palms facing up) to curl the weights up, and then rotating your wrists to use a pronated grip (palms facing down) while lowering the weights.',\n",
       "  {'Relevance': 'RELEVANT',\n",
       "   'Explanation': 'The generated answer directly addresses the question by explaining the grip technique used during the Zottman Curl. It describes the transition between supinated and pronated grips clearly, which is essential to understanding the technique.'}),\n",
       " ({'id': 173,\n",
       "   'question': 'Can you explain how to safely return to the starting position after standing up?'},\n",
       "  'NONE',\n",
       "  {'Relevance': 'NON_RELEVANT',\n",
       "   'Explanation': \"The generated answer 'NONE' does not provide any information or guidance regarding the process of safely returning to the starting position after standing up, making it irrelevant to the question asked.\"}),\n",
       " ({'id': 33,\n",
       "   'question': 'What is the correct stance for performing a Dumbbell Deadlift?'},\n",
       "  'The correct stance for performing a Dumbbell Deadlift is to stand with feet hip-width apart, holding a dumbbell in each hand.',\n",
       "  {'Relevance': 'RELEVANT',\n",
       "   'Explanation': 'The generated answer provides a clear and accurate description of the correct stance for performing a Dumbbell Deadlift, directly addressing the question posed.'}),\n",
       " ({'id': 171, 'question': 'Is the Banded Pull-Up suitable for beginners?'},\n",
       "  'The CONTEXT does not explicitly state whether the Banded Pull-Up is suitable for beginners. Therefore, the answer is NONE.',\n",
       "  {'Relevance': 'NON_RELEVANT',\n",
       "   'Explanation': 'The generated answer does not address the question about the suitability of the Banded Pull-Up for beginners. Instead of providing an answer or relevant information, it dismisses the query by stating that the context does not explicitly mention suitability, which makes it irrelevant to the inquiry.'}),\n",
       " ({'id': 161,\n",
       "   'question': 'What type of activity is the Smith Machine Shoulder Press classified as?'},\n",
       "  'The Smith Machine Shoulder Press is classified as a Strength activity.',\n",
       "  {'Relevance': 'RELEVANT',\n",
       "   'Explanation': 'The generated answer correctly classifies the Smith Machine Shoulder Press as a type of strength activity, which directly answers the question asked.'}),\n",
       " ({'id': 14, 'question': 'How should I lift my legs during the exercise?'},\n",
       "  'During the exercise, you should lift your legs until they are perpendicular to the floor, then lower them back down.',\n",
       "  {'Relevance': 'RELEVANT',\n",
       "   'Explanation': 'The generated answer directly addresses the question by providing clear instructions on how to lift the legs during the exercise, specifying the position to aim for and the movement involved.'}),\n",
       " ({'id': 23,\n",
       "   'question': 'Can you explain the stance I should take while doing Cable Flyes?'},\n",
       "  'To perform Cable Flyes, stand in the middle of a cable machine with handles in each hand. With a slight bend in your elbows, bring your hands together in front of your chest.',\n",
       "  {'Relevance': 'PARTLY_RELEVANT',\n",
       "   'Explanation': 'The generated answer provides a basic explanation of how to perform Cable Flyes, which is somewhat relevant to the question about stance. However, it does not directly address the specific stance one should take while doing the exercise, focusing instead on the mechanics of the movement.'}),\n",
       " ({'id': 168,\n",
       "   'question': 'Where should I attach the resistance band for the Standing Resistance Band Row?'},\n",
       "  'Attach a resistance band to a sturdy anchor.',\n",
       "  {'Relevance': 'PARTLY_RELEVANT',\n",
       "   'Explanation': 'The generated answer provides a general direction for attaching a resistance band, suggesting to attach it to a sturdy anchor. However, it lacks specificity about the exact location to attach the band for the Standing Resistance Band Row, such as height or position relative to the body, which are important for this exercise.'}),\n",
       " ({'id': 67,\n",
       "   'question': 'Which area of the body does the Romanian Deadlift primarily focus on?'},\n",
       "  'The Romanian Deadlift primarily focuses on the Lower Body, specifically targeting the Hamstrings, Glutes, and Lower Back.',\n",
       "  {'Relevance': 'RELEVANT',\n",
       "   'Explanation': 'The generated answer directly addresses the question by specifying the primary area of the body that the Romanian Deadlift focuses on, namely the lower body, and it also details the specific muscles involved, which are the hamstrings, glutes, and lower back.'}),\n",
       " ({'id': 22,\n",
       "   'question': 'How should I position my body during the Side Plank?'},\n",
       "  'To position your body during the Side Plank, lie on one side with your legs straight. Lift your hips so your body forms a straight line, supporting yourself on one forearm.',\n",
       "  {'Relevance': 'RELEVANT',\n",
       "   'Explanation': 'The generated answer provides clear and accurate instructions on how to position the body during a Side Plank, directly addressing the question asked.'}),\n",
       " ({'id': 1, 'question': 'What is the proper stance for performing squats?'},\n",
       "  'Stand with feet shoulder-width apart. Lower your body as if sitting back into a chair, keeping your chest up. Return to standing.',\n",
       "  {'Relevance': 'RELEVANT',\n",
       "   'Explanation': 'The generated answer provides clear and concise instructions for the proper stance when performing squats, addressing the question directly and effectively.'}),\n",
       " ({'id': 106,\n",
       "   'question': 'Which muscles are primarily worked during the T-Bar Row?'},\n",
       "  'The muscles primarily worked during the T-Bar Row are the Latissimus Dorsi and Biceps.',\n",
       "  {'Relevance': 'PARTLY_RELEVANT',\n",
       "   'Explanation': 'The generated answer identifies the Latissimus Dorsi, which is a primary muscle worked during the T-Bar Row, but it also mentions the Biceps, which are not the primary focus of this exercise. A more complete answer would include other major muscles targeted, such as the Rhomboids and Trapezius.'}),\n",
       " ({'id': 56,\n",
       "   'question': 'Which equipment do I need to perform the Sumo Deadlift?'},\n",
       "  'You need a Barbell to perform the Sumo Deadlift.',\n",
       "  {'Relevance': 'RELEVANT',\n",
       "   'Explanation': 'The generated answer directly addresses the question by specifying that a Barbell is needed to perform the Sumo Deadlift, which is a correct and relevant piece of information.'}),\n",
       " ({'id': 88,\n",
       "   'question': 'Is the Box Squat considered a push or pull exercise?'},\n",
       "  'The Box Squat is considered a push exercise.',\n",
       "  {'Relevance': 'RELEVANT',\n",
       "   'Explanation': 'The generated answer directly addresses the question by categorizing the Box Squat as a push exercise, which is an accurate and relevant response.'}),\n",
       " ({'id': 149,\n",
       "   'question': 'What muscle groups are activated during the Resistance Band Chest Press?'},\n",
       "  'The muscle groups activated during the Resistance Band Chest Press are Pectorals, Triceps, and Deltoids.',\n",
       "  {'Relevance': 'RELEVANT',\n",
       "   'Explanation': 'The generated answer accurately identifies the key muscle groups (Pectorals, Triceps, and Deltoids) that are engaged during the Resistance Band Chest Press, directly addressing the question asked.'}),\n",
       " ({'id': 87,\n",
       "   'question': 'Can chin-ups be performed with any equipment other than a pull-up bar?'},\n",
       "  'NONE',\n",
       "  {'Relevance': 'NON_RELEVANT',\n",
       "   'Explanation': \"The generated answer 'NONE' does not provide any relevant information regarding alternative equipment for performing chin-ups. It fails to address the question directly and is not informative.\"}),\n",
       " ({'id': 118,\n",
       "   'question': 'What position should I be in when using the leg curl machine?'},\n",
       "  'When using the leg curl machine, you should be in a seated position for the Seated Leg Curl or lie face down for the Lying Leg Curl or Prone Leg Curl.',\n",
       "  {'Relevance': 'RELEVANT',\n",
       "   'Explanation': 'The generated answer directly addresses the question by specifying the correct positions to be in while using the leg curl machine. It provides clear and relevant information about both seated and lying options, which is pertinent to the inquiry.'}),\n",
       " ({'id': 119,\n",
       "   'question': 'How can I modify the One-Arm Push-Up if I find it too challenging?'},\n",
       "  'NONE',\n",
       "  {'Relevance': 'NON_RELEVANT',\n",
       "   'Explanation': \"The generated answer 'NONE' does not provide any information or alternatives for modifying the One-Arm Push-Up, which is what the question specifically asks for. Therefore, it is completely unrelated to the question.\"}),\n",
       " ({'id': 1,\n",
       "   'question': 'What should I do with my feet while performing this exercise?'},\n",
       "  'For the Superman Exercise, while performing this exercise, your feet should be lifted off the ground simultaneously with your arms and chest. \\n\\nFor the Side Plank with Leg Lift, your top leg should be lifted towards the ceiling and then lowered back down, but there are no specific instructions regarding your bottom foot.\\n\\nFor Jumping Jacks, start with your feet together, then jump your feet out while raising your arms overhead, and return to the starting position, meaning your feet will be moving out and back together during the exercise.\\n\\nFor the Resistance Band Squat, stand on a resistance band with your feet shoulder-width apart.\\n\\nFor the Kettlebell Deadlift, you should stand with your feet shoulder-width apart. \\n\\nIn summary:\\n- Superman Exercise: Lift feet off the ground simultaneously.\\n- Side Plank with Leg Lift: Lift top leg (no specific instruction for bottom foot).\\n- Jumping Jacks: Jump feet out and back together.\\n- Resistance Band Squat: Stand with feet shoulder-width apart.\\n- Kettlebell Deadlift: Stand with feet shoulder-width apart.',\n",
       "  {'Relevance': 'RELEVANT',\n",
       "   'Explanation': 'The generated answer directly addresses the question about what to do with the feet during various exercises. It provides specific instructions for each exercise mentioned, clearly outlining the appropriate actions for the feet, which is exactly what the question inquires about.'}),\n",
       " ({'id': 82,\n",
       "   'question': 'What is the technique for performing the twist in Medicine Ball Russian Twists?'},\n",
       "  'To perform the twist in Medicine Ball Russian Twists, sit on the floor with knees bent, holding a medicine ball. Twist your torso to each side, tapping the ball on the floor.',\n",
       "  {'Relevance': 'RELEVANT',\n",
       "   'Explanation': 'The generated answer directly addresses the technique for performing the twist in Medicine Ball Russian Twists by explaining the positioning and movement involved in the exercise.'}),\n",
       " ({'id': 11, 'question': 'What are the steps to properly perform lunges?'},\n",
       "  'To properly perform lunges, follow these steps:\\n\\n1. Step forward with one leg.\\n2. Lower your hips until both knees are bent at a 90-degree angle.\\n3. Push back to the starting position.',\n",
       "  {'Relevance': 'RELEVANT',\n",
       "   'Explanation': 'The generated answer provides clear and concise steps for properly performing lunges, directly addressing the question asked.'}),\n",
       " ({'id': 86,\n",
       "   'question': 'Is the Dumbbell Front Raise considered a push or a pull exercise?'},\n",
       "  'NONE',\n",
       "  {'Relevance': 'NON_RELEVANT',\n",
       "   'Explanation': \"The generated answer 'NONE' does not address the question about whether the Dumbbell Front Raise is considered a push or a pull exercise. It provides no information or context related to the exercise classification.\"}),\n",
       " ({'id': 168,\n",
       "   'question': 'What equipment do I need for the Standing Resistance Band Row exercise?'},\n",
       "  'You need a Resistance Band for the Standing Resistance Band Row exercise.',\n",
       "  {'Relevance': 'RELEVANT',\n",
       "   'Explanation': 'The generated answer directly addresses the question by stating that a Resistance Band is needed for the Standing Resistance Band Row exercise, which is the key piece of equipment required.'}),\n",
       " ({'id': 167,\n",
       "   'question': 'How should I step on the Step Mill for best results?'},\n",
       "  'To step on the Step Mill for best results, step continuously on a revolving staircase, keeping a steady pace.',\n",
       "  {'Relevance': 'PARTLY_RELEVANT',\n",
       "   'Explanation': 'The generated answer provides some useful information about stepping continuously and maintaining a steady pace on the Step Mill. However, it lacks specific details or techniques that could enhance the effectiveness of the exercise, such as posture, foot placement, or workout duration, which are important for achieving the best results.'}),\n",
       " ({'id': 192,\n",
       "   'question': 'What equipment do I need to perform the Tire Flip exercise?'},\n",
       "  'You need a Tire to perform the Tire Flip exercise.',\n",
       "  {'Relevance': 'RELEVANT',\n",
       "   'Explanation': 'The generated answer directly addresses the question by stating that a tire is needed to perform the Tire Flip exercise, making it highly relevant to the equipment inquiry.'}),\n",
       " ({'id': 16,\n",
       "   'question': 'Is it essential to tap the floor with my hands during the Russian Twists?'},\n",
       "  'Yes, it is essential to tap the floor with your hands during the Russian Twists, as stated in the instructions.',\n",
       "  {'Relevance': 'RELEVANT',\n",
       "   'Explanation': 'The generated answer directly addresses the question by affirmatively stating that tapping the floor with the hands during Russian Twists is essential, which is precisely what the question inquires about.'}),\n",
       " ({'id': 205,\n",
       "   'question': 'What muscle groups are activated by the Face Pull?'},\n",
       "  'The muscle groups activated by the Face Pull are Rear Deltoids, Trapezius, and Rhomboids.',\n",
       "  {'Relevance': 'RELEVANT',\n",
       "   'Explanation': 'The generated answer directly addresses the question by listing the specific muscle groups (Rear Deltoids, Trapezius, and Rhomboids) that are activated by the Face Pull exercise, providing a clear and accurate response.'}),\n",
       " ({'id': 31,\n",
       "   'question': 'Which muscle groups are activated during a Battle Ropes workout?'},\n",
       "  'The muscle groups activated during a Battle Ropes workout are Deltoids, Forearms, and Core.',\n",
       "  {'Relevance': 'RELEVANT',\n",
       "   'Explanation': 'The generated answer accurately identifies specific muscle groups (Deltoids, Forearms, and Core) that are activated during a Battle Ropes workout, which directly addresses the question asked.'}),\n",
       " ({'id': 90, 'question': 'How do I position the barbell for this exercise?'},\n",
       "  'NONE',\n",
       "  {'Relevance': 'NON_RELEVANT',\n",
       "   'Explanation': \"The generated answer 'NONE' does not provide any information or guidance on how to position the barbell for the exercise, making it completely irrelevant to the question asked.\"}),\n",
       " ({'id': 25,\n",
       "   'question': 'What type of exercise are Barbell Rows categorized as?'},\n",
       "  'Barbell Rows are categorized as a Strength exercise.',\n",
       "  {'Relevance': 'RELEVANT',\n",
       "   'Explanation': 'The generated answer accurately categorizes Barbell Rows as a type of exercise, specifically identifying them as a Strength exercise, which directly answers the question asked.'}),\n",
       " ({'id': 153,\n",
       "   'question': 'What type of activity is Hanging Knee Raises classified as?'},\n",
       "  'Hanging Knee Raises is classified as a Strength activity.',\n",
       "  {'Relevance': 'RELEVANT',\n",
       "   'Explanation': 'The generated answer correctly identifies Hanging Knee Raises as a type of Strength activity, which directly addresses the question asked.'}),\n",
       " ({'id': 186,\n",
       "   'question': 'What is the Deadlift High Pull exercise primarily designed to work on in terms of muscle groups?'},\n",
       "  'The Deadlift High Pull exercise is primarily designed to work on the following muscle groups: Glutes, Hamstrings, and Shoulders.',\n",
       "  {'Relevance': 'PARTLY_RELEVANT',\n",
       "   'Explanation': 'The generated answer correctly identifies some of the muscle groups targeted by the Deadlift High Pull exercise, such as the Glutes and Hamstrings. However, it omits other relevant muscle groups like the back (particularly the trapezius) and legs, which are also significantly involved in this exercise. Therefore, while it provides some useful information, it is not completely comprehensive.'}),\n",
       " ({'id': 170,\n",
       "   'question': 'What type of grip should I use when holding the dumbbells for Reverse Curls?'},\n",
       "  'You should use an overhand grip when holding the dumbbells for Reverse Curls.',\n",
       "  {'Relevance': 'RELEVANT',\n",
       "   'Explanation': 'The generated answer directly addresses the question by specifying the appropriate type of grip (overhand grip) for holding dumbbells during Reverse Curls, which is the information the question seeks.'}),\n",
       " ({'id': 188,\n",
       "   'question': 'Is the Cable Lateral Lunge a push or pull type exercise?'},\n",
       "  'The Cable Lateral Lunge is a push type exercise.',\n",
       "  {'Relevance': 'NON_RELEVANT',\n",
       "   'Explanation': 'The generated answer incorrectly categorizes the Cable Lateral Lunge as a push type exercise. This exercise primarily involves a lateral movement that focuses on the legs and core, and it does not fit cleanly into the classification of push or pull exercises. Therefore, the answer does not adequately address the question.'}),\n",
       " ({'id': 163,\n",
       "   'question': 'How should I position my feet when using the back extension machine?'},\n",
       "  'Your feet should be braced when using the back extension machine.',\n",
       "  {'Relevance': 'PARTLY_RELEVANT',\n",
       "   'Explanation': 'The generated answer addresses foot positioning but lacks specific details on how to position the feet on the back extension machine. It suggests that the feet should be braced, but does not clarify what that entails or provide guidance on the correct posture while using the machine.'}),\n",
       " ({'id': 166, 'question': 'What is the Weighted Plank exercise used for?'},\n",
       "  'The Weighted Plank exercise is used to strengthen the core, specifically activating the Rectus Abdominis, Obliques, and Shoulders.',\n",
       "  {'Relevance': 'RELEVANT',\n",
       "   'Explanation': 'The generated answer accurately describes the purpose of the Weighted Plank exercise, specifically mentioning the muscles it targets, which directly addresses the question.'}),\n",
       " ({'id': 163,\n",
       "   'question': 'What type of exercise is the Machine Back Extension?'},\n",
       "  'The Machine Back Extension is a type of exercise classified as Strength.',\n",
       "  {'Relevance': 'RELEVANT',\n",
       "   'Explanation': 'The generated answer correctly identifies the Machine Back Extension as an exercise and classifies it within the context of Strength training, which is directly relevant to the question about the type of exercise.'}),\n",
       " ({'id': 115, 'question': 'What body part do jumping squats target mainly?'},\n",
       "  'Jumping squats mainly target the lower body.',\n",
       "  {'Relevance': 'RELEVANT',\n",
       "   'Explanation': 'The generated answer accurately identifies that jumping squats target the lower body, which directly addresses the question about the main body part affected by this exercise.'}),\n",
       " ({'id': 122,\n",
       "   'question': 'Is the Resistance Band Squat primarily a lower body or upper body exercise?'},\n",
       "  'The Resistance Band Squat is primarily a lower body exercise.',\n",
       "  {'Relevance': 'RELEVANT',\n",
       "   'Explanation': 'The generated answer directly addresses the question by stating that the Resistance Band Squat is primarily a lower body exercise, which is the sought information.'}),\n",
       " ({'id': 128,\n",
       "   'question': 'What type of equipment do I need to perform Cable Kickbacks?'},\n",
       "  'You need a Cable Machine to perform Cable Kickbacks.',\n",
       "  {'Relevance': 'RELEVANT',\n",
       "   'Explanation': 'The generated answer directly addresses the question by stating that a Cable Machine is needed to perform Cable Kickbacks, which is the specific equipment requested.'}),\n",
       " ({'id': 16, 'question': 'Do I need any equipment to perform Russian Twists?'},\n",
       "  'No, you do not need any equipment to perform Russian Twists as they can be done using bodyweight.',\n",
       "  {'Relevance': 'RELEVANT',\n",
       "   'Explanation': 'The generated answer directly addresses the question by stating that no equipment is needed to perform Russian Twists, which is the core of the inquiry.'}),\n",
       " ({'id': 112,\n",
       "   'question': 'What is the primary body part targeted by decline sit-ups?'},\n",
       "  'The primary body part targeted by decline sit-ups is the Core.',\n",
       "  {'Relevance': 'RELEVANT',\n",
       "   'Explanation': 'The generated answer correctly identifies the core as the primary body part targeted by decline sit-ups, directly addressing the question asked.'}),\n",
       " ({'id': 83,\n",
       "   'question': 'What specific body parts does the Pendlay Row target?'},\n",
       "  'The Pendlay Row targets the Upper Body, specifically activating the Latissimus Dorsi and Biceps.',\n",
       "  {'Relevance': 'PARTLY_RELEVANT',\n",
       "   'Explanation': 'The generated answer identifies some specific muscles targeted by the Pendlay Row, namely the Latissimus Dorsi and Biceps, which is relevant. However, it could be improved by mentioning additional targeted muscle groups, such as the Rhomboids and Trapezius, to fully address the question regarding specific body parts.'}),\n",
       " ({'id': 94,\n",
       "   'question': 'How does the TRX variation differ from traditional push-ups?'},\n",
       "  'The TRX variation differs from traditional push-ups in that the TRX push-ups are performed with the hands in TRX handles, which allows for greater instability and engages the core more effectively. In contrast, traditional push-ups are done with the hands directly on the floor, providing a stable surface. Both exercises target similar muscle groups, including the pectorals, triceps, and deltoids.',\n",
       "  {'Relevance': 'RELEVANT',\n",
       "   'Explanation': 'The generated answer directly addresses the question by explaining how the TRX variation differs from traditional push-ups. It highlights the use of TRX handles leading to greater instability and core engagement compared to the stability of traditional push-ups on the floor. The mention of targeted muscle groups further supports the relevance of the answer.'}),\n",
       " ({'id': 123,\n",
       "   'question': 'Can beginners safely attempt the One-Legged Squat exercise?'},\n",
       "  'NONE',\n",
       "  {'Relevance': 'NON_RELEVANT',\n",
       "   'Explanation': \"The generated answer 'NONE' does not provide any information or insight regarding the safety of beginners attempting the One-Legged Squat exercise, making it completely irrelevant to the question asked.\"}),\n",
       " ({'id': 76,\n",
       "   'question': 'How should I position my body while doing Flutter Kicks?'},\n",
       "  'Lie on your back with legs extended. Lift your feet off the ground and alternate kicking them up and down.',\n",
       "  {'Relevance': 'RELEVANT',\n",
       "   'Explanation': 'The generated answer provides specific instructions on how to position the body while doing Flutter Kicks, which directly addresses the question asked.'}),\n",
       " ({'id': 150,\n",
       "   'question': 'What is the primary muscle group targeted by the One-Arm Dumbbell Row?'},\n",
       "  'The primary muscle group targeted by the One-Arm Dumbbell Row is the Latissimus Dorsi.',\n",
       "  {'Relevance': 'RELEVANT',\n",
       "   'Explanation': 'The generated answer directly addresses the question by identifying the primary muscle group targeted by the One-Arm Dumbbell Row, which is the Latissimus Dorsi. This information is both accurate and specific to the question asked.'})]"
      ]
     },
     "execution_count": 100,
     "metadata": {},
     "output_type": "execute_result"
    }
   ],
   "source": [
    "evaluations"
   ]
  },
  {
   "cell_type": "code",
   "execution_count": 101,
   "id": "ddfdf985-330f-47bc-a080-2a440312e47d",
   "metadata": {},
   "outputs": [
    {
     "data": {
      "text/html": [
       "<div>\n",
       "<style scoped>\n",
       "    .dataframe tbody tr th:only-of-type {\n",
       "        vertical-align: middle;\n",
       "    }\n",
       "\n",
       "    .dataframe tbody tr th {\n",
       "        vertical-align: top;\n",
       "    }\n",
       "\n",
       "    .dataframe thead th {\n",
       "        text-align: right;\n",
       "    }\n",
       "</style>\n",
       "<table border=\"1\" class=\"dataframe\">\n",
       "  <thead>\n",
       "    <tr style=\"text-align: right;\">\n",
       "      <th></th>\n",
       "      <th>record</th>\n",
       "      <th>answer</th>\n",
       "      <th>evaluation</th>\n",
       "    </tr>\n",
       "  </thead>\n",
       "  <tbody>\n",
       "    <tr>\n",
       "      <th>0</th>\n",
       "      <td>{'id': 171, 'question': 'What is the primary m...</td>\n",
       "      <td>The primary muscle group activated during the ...</td>\n",
       "      <td>{'Relevance': 'RELEVANT', 'Explanation': 'The ...</td>\n",
       "    </tr>\n",
       "    <tr>\n",
       "      <th>1</th>\n",
       "      <td>{'id': 115, 'question': 'Can jumping squats be...</td>\n",
       "      <td>Yes, jumping squats can be performed without a...</td>\n",
       "      <td>{'Relevance': 'RELEVANT', 'Explanation': 'The ...</td>\n",
       "    </tr>\n",
       "    <tr>\n",
       "      <th>2</th>\n",
       "      <td>{'id': 53, 'question': 'Can you explain the pr...</td>\n",
       "      <td>To execute a Dumbbell Lateral Raise properly, ...</td>\n",
       "      <td>{'Relevance': 'RELEVANT', 'Explanation': 'The ...</td>\n",
       "    </tr>\n",
       "    <tr>\n",
       "      <th>3</th>\n",
       "      <td>{'id': 198, 'question': 'How do I ensure my ar...</td>\n",
       "      <td>To ensure your arms are fully extended during ...</td>\n",
       "      <td>{'Relevance': 'RELEVANT', 'Explanation': 'The ...</td>\n",
       "    </tr>\n",
       "    <tr>\n",
       "      <th>4</th>\n",
       "      <td>{'id': 19, 'question': 'What part of the body ...</td>\n",
       "      <td>The part of the body primarily engaged in Gobl...</td>\n",
       "      <td>{'Relevance': 'PARTLY_RELEVANT', 'Explanation'...</td>\n",
       "    </tr>\n",
       "    <tr>\n",
       "      <th>...</th>\n",
       "      <td>...</td>\n",
       "      <td>...</td>\n",
       "      <td>...</td>\n",
       "    </tr>\n",
       "    <tr>\n",
       "      <th>195</th>\n",
       "      <td>{'id': 83, 'question': 'What specific body par...</td>\n",
       "      <td>The Pendlay Row targets the Upper Body, specif...</td>\n",
       "      <td>{'Relevance': 'PARTLY_RELEVANT', 'Explanation'...</td>\n",
       "    </tr>\n",
       "    <tr>\n",
       "      <th>196</th>\n",
       "      <td>{'id': 94, 'question': 'How does the TRX varia...</td>\n",
       "      <td>The TRX variation differs from traditional pus...</td>\n",
       "      <td>{'Relevance': 'RELEVANT', 'Explanation': 'The ...</td>\n",
       "    </tr>\n",
       "    <tr>\n",
       "      <th>197</th>\n",
       "      <td>{'id': 123, 'question': 'Can beginners safely ...</td>\n",
       "      <td>NONE</td>\n",
       "      <td>{'Relevance': 'NON_RELEVANT', 'Explanation': '...</td>\n",
       "    </tr>\n",
       "    <tr>\n",
       "      <th>198</th>\n",
       "      <td>{'id': 76, 'question': 'How should I position ...</td>\n",
       "      <td>Lie on your back with legs extended. Lift your...</td>\n",
       "      <td>{'Relevance': 'RELEVANT', 'Explanation': 'The ...</td>\n",
       "    </tr>\n",
       "    <tr>\n",
       "      <th>199</th>\n",
       "      <td>{'id': 150, 'question': 'What is the primary m...</td>\n",
       "      <td>The primary muscle group targeted by the One-A...</td>\n",
       "      <td>{'Relevance': 'RELEVANT', 'Explanation': 'The ...</td>\n",
       "    </tr>\n",
       "  </tbody>\n",
       "</table>\n",
       "<p>200 rows × 3 columns</p>\n",
       "</div>"
      ],
      "text/plain": [
       "                                                record  \\\n",
       "0    {'id': 171, 'question': 'What is the primary m...   \n",
       "1    {'id': 115, 'question': 'Can jumping squats be...   \n",
       "2    {'id': 53, 'question': 'Can you explain the pr...   \n",
       "3    {'id': 198, 'question': 'How do I ensure my ar...   \n",
       "4    {'id': 19, 'question': 'What part of the body ...   \n",
       "..                                                 ...   \n",
       "195  {'id': 83, 'question': 'What specific body par...   \n",
       "196  {'id': 94, 'question': 'How does the TRX varia...   \n",
       "197  {'id': 123, 'question': 'Can beginners safely ...   \n",
       "198  {'id': 76, 'question': 'How should I position ...   \n",
       "199  {'id': 150, 'question': 'What is the primary m...   \n",
       "\n",
       "                                                answer  \\\n",
       "0    The primary muscle group activated during the ...   \n",
       "1    Yes, jumping squats can be performed without a...   \n",
       "2    To execute a Dumbbell Lateral Raise properly, ...   \n",
       "3    To ensure your arms are fully extended during ...   \n",
       "4    The part of the body primarily engaged in Gobl...   \n",
       "..                                                 ...   \n",
       "195  The Pendlay Row targets the Upper Body, specif...   \n",
       "196  The TRX variation differs from traditional pus...   \n",
       "197                                               NONE   \n",
       "198  Lie on your back with legs extended. Lift your...   \n",
       "199  The primary muscle group targeted by the One-A...   \n",
       "\n",
       "                                            evaluation  \n",
       "0    {'Relevance': 'RELEVANT', 'Explanation': 'The ...  \n",
       "1    {'Relevance': 'RELEVANT', 'Explanation': 'The ...  \n",
       "2    {'Relevance': 'RELEVANT', 'Explanation': 'The ...  \n",
       "3    {'Relevance': 'RELEVANT', 'Explanation': 'The ...  \n",
       "4    {'Relevance': 'PARTLY_RELEVANT', 'Explanation'...  \n",
       "..                                                 ...  \n",
       "195  {'Relevance': 'PARTLY_RELEVANT', 'Explanation'...  \n",
       "196  {'Relevance': 'RELEVANT', 'Explanation': 'The ...  \n",
       "197  {'Relevance': 'NON_RELEVANT', 'Explanation': '...  \n",
       "198  {'Relevance': 'RELEVANT', 'Explanation': 'The ...  \n",
       "199  {'Relevance': 'RELEVANT', 'Explanation': 'The ...  \n",
       "\n",
       "[200 rows x 3 columns]"
      ]
     },
     "execution_count": 101,
     "metadata": {},
     "output_type": "execute_result"
    }
   ],
   "source": [
    "df_eval = pd.DataFrame(evaluations, columns=['record', 'answer', 'evaluation'])\n",
    "df_eval"
   ]
  },
  {
   "cell_type": "code",
   "execution_count": 102,
   "id": "f0c46faa-5979-49de-a70e-be3b810516d2",
   "metadata": {},
   "outputs": [],
   "source": [
    "df_eval['id'] = df_eval.record.apply(lambda d: d['id'])\n",
    "df_eval['question'] = df_eval.record.apply(lambda d: d['question'])\n",
    "\n",
    "df_eval['relevance'] = df_eval.evaluation.apply(lambda d: d['Relevance'])\n",
    "df_eval['explanation'] = df_eval.evaluation.apply(lambda d: d['Explanation'])"
   ]
  },
  {
   "cell_type": "code",
   "execution_count": 103,
   "id": "17701879-92c4-456b-8d88-744abf4947e5",
   "metadata": {},
   "outputs": [],
   "source": [
    "del df_eval['record']\n",
    "del df_eval['evaluation']"
   ]
  },
  {
   "cell_type": "code",
   "execution_count": 104,
   "id": "1c76ef6c-2369-4b98-97d2-54f054e05db4",
   "metadata": {},
   "outputs": [
    {
     "data": {
      "text/plain": [
       "relevance\n",
       "RELEVANT           0.695\n",
       "PARTLY_RELEVANT    0.185\n",
       "NON_RELEVANT       0.120\n",
       "Name: proportion, dtype: float64"
      ]
     },
     "execution_count": 104,
     "metadata": {},
     "output_type": "execute_result"
    }
   ],
   "source": [
    "df_eval.relevance.value_counts(normalize=True)\n"
   ]
  },
  {
   "cell_type": "code",
   "execution_count": 105,
   "id": "b1f0bbf5-56d1-481c-801a-614faeaeab8e",
   "metadata": {},
   "outputs": [
    {
     "data": {
      "text/plain": [
       "relevance\n",
       "RELEVANT           139\n",
       "PARTLY_RELEVANT     37\n",
       "NON_RELEVANT        24\n",
       "Name: count, dtype: int64"
      ]
     },
     "execution_count": 105,
     "metadata": {},
     "output_type": "execute_result"
    }
   ],
   "source": [
    "df_eval.relevance.value_counts()\n"
   ]
  },
  {
   "cell_type": "code",
   "execution_count": 106,
   "id": "a0872652-45cd-42ef-9852-bd9d349a0227",
   "metadata": {},
   "outputs": [],
   "source": [
    "df_eval.to_csv('../data/rag-eval-gpt-4o-mini.csv', index=False)\n"
   ]
  },
  {
   "cell_type": "code",
   "execution_count": 107,
   "id": "fc56d1cc-9493-4505-9702-80fe78148d3e",
   "metadata": {},
   "outputs": [
    {
     "data": {
      "text/html": [
       "<div>\n",
       "<style scoped>\n",
       "    .dataframe tbody tr th:only-of-type {\n",
       "        vertical-align: middle;\n",
       "    }\n",
       "\n",
       "    .dataframe tbody tr th {\n",
       "        vertical-align: top;\n",
       "    }\n",
       "\n",
       "    .dataframe thead th {\n",
       "        text-align: right;\n",
       "    }\n",
       "</style>\n",
       "<table border=\"1\" class=\"dataframe\">\n",
       "  <thead>\n",
       "    <tr style=\"text-align: right;\">\n",
       "      <th></th>\n",
       "      <th>answer</th>\n",
       "      <th>id</th>\n",
       "      <th>question</th>\n",
       "      <th>relevance</th>\n",
       "      <th>explanation</th>\n",
       "    </tr>\n",
       "  </thead>\n",
       "  <tbody>\n",
       "    <tr>\n",
       "      <th>19</th>\n",
       "      <td>The One-Arm Dumbbell Snatch is considered a pu...</td>\n",
       "      <td>190</td>\n",
       "      <td>Is the One-Arm Dumbbell Snatch considered a pu...</td>\n",
       "      <td>NON_RELEVANT</td>\n",
       "      <td>The generated answer incorrectly categorizes t...</td>\n",
       "    </tr>\n",
       "    <tr>\n",
       "      <th>22</th>\n",
       "      <td>NONE</td>\n",
       "      <td>30</td>\n",
       "      <td>Can calf raises target any other body parts be...</td>\n",
       "      <td>NON_RELEVANT</td>\n",
       "      <td>The generated answer 'NONE' does not provide a...</td>\n",
       "    </tr>\n",
       "    <tr>\n",
       "      <th>49</th>\n",
       "      <td>NONE</td>\n",
       "      <td>36</td>\n",
       "      <td>What is the correct position to start the Incl...</td>\n",
       "      <td>NON_RELEVANT</td>\n",
       "      <td>The generated answer 'NONE' does not provide a...</td>\n",
       "    </tr>\n",
       "    <tr>\n",
       "      <th>52</th>\n",
       "      <td>The Cable Lateral Raise is a push exercise.</td>\n",
       "      <td>100</td>\n",
       "      <td>Is the Cable Lateral Raise a push or pull exer...</td>\n",
       "      <td>NON_RELEVANT</td>\n",
       "      <td>The generated answer incorrectly categorizes t...</td>\n",
       "    </tr>\n",
       "    <tr>\n",
       "      <th>57</th>\n",
       "      <td>NONE</td>\n",
       "      <td>99</td>\n",
       "      <td>What is the appropriate weight for the dumbbel...</td>\n",
       "      <td>NON_RELEVANT</td>\n",
       "      <td>The generated answer 'NONE' does not address t...</td>\n",
       "    </tr>\n",
       "    <tr>\n",
       "      <th>64</th>\n",
       "      <td>NONE</td>\n",
       "      <td>54</td>\n",
       "      <td>How long should I hold the Wall Sit position f...</td>\n",
       "      <td>NON_RELEVANT</td>\n",
       "      <td>The generated answer 'NONE' does not provide a...</td>\n",
       "    </tr>\n",
       "    <tr>\n",
       "      <th>67</th>\n",
       "      <td>NONE</td>\n",
       "      <td>107</td>\n",
       "      <td>Can you explain the correct stance for perform...</td>\n",
       "      <td>NON_RELEVANT</td>\n",
       "      <td>The generated answer is 'NONE', which fails to...</td>\n",
       "    </tr>\n",
       "    <tr>\n",
       "      <th>69</th>\n",
       "      <td>NONE</td>\n",
       "      <td>17</td>\n",
       "      <td>What is the primary body position to start per...</td>\n",
       "      <td>NON_RELEVANT</td>\n",
       "      <td>The generated answer 'NONE' does not provide a...</td>\n",
       "    </tr>\n",
       "    <tr>\n",
       "      <th>76</th>\n",
       "      <td>NONE</td>\n",
       "      <td>187</td>\n",
       "      <td>Is the Reverse Grip Lat Pulldown suitable for ...</td>\n",
       "      <td>NON_RELEVANT</td>\n",
       "      <td>The generated answer 'NONE' does not provide a...</td>\n",
       "    </tr>\n",
       "    <tr>\n",
       "      <th>79</th>\n",
       "      <td>NONE</td>\n",
       "      <td>99</td>\n",
       "      <td>How do I avoid injury while doing the Dumbbell...</td>\n",
       "      <td>NON_RELEVANT</td>\n",
       "      <td>The generated answer 'NONE' does not provide a...</td>\n",
       "    </tr>\n",
       "    <tr>\n",
       "      <th>113</th>\n",
       "      <td>NONE</td>\n",
       "      <td>117</td>\n",
       "      <td>Is the Dumbbell Tricep Extension considered a ...</td>\n",
       "      <td>NON_RELEVANT</td>\n",
       "      <td>The generated answer 'NONE' does not provide a...</td>\n",
       "    </tr>\n",
       "    <tr>\n",
       "      <th>117</th>\n",
       "      <td>NONE</td>\n",
       "      <td>139</td>\n",
       "      <td>Can you explain the correct form for executing...</td>\n",
       "      <td>NON_RELEVANT</td>\n",
       "      <td>The generated answer 'NONE' does not provide a...</td>\n",
       "    </tr>\n",
       "    <tr>\n",
       "      <th>128</th>\n",
       "      <td>NONE</td>\n",
       "      <td>97</td>\n",
       "      <td>How should my feet be positioned while doing t...</td>\n",
       "      <td>NON_RELEVANT</td>\n",
       "      <td>The generated answer 'NONE' does not provide a...</td>\n",
       "    </tr>\n",
       "    <tr>\n",
       "      <th>131</th>\n",
       "      <td>The Cable Side Lunge is considered a push exer...</td>\n",
       "      <td>181</td>\n",
       "      <td>Is the Cable Side Lunge considered a push or p...</td>\n",
       "      <td>NON_RELEVANT</td>\n",
       "      <td>The generated answer incorrectly classifies th...</td>\n",
       "    </tr>\n",
       "    <tr>\n",
       "      <th>133</th>\n",
       "      <td>NONE</td>\n",
       "      <td>72</td>\n",
       "      <td>Is there a specific body part that Dumbbell Sh...</td>\n",
       "      <td>NON_RELEVANT</td>\n",
       "      <td>The generated answer 'NONE' does not address t...</td>\n",
       "    </tr>\n",
       "    <tr>\n",
       "      <th>135</th>\n",
       "      <td>Lie on your back with legs extended towards th...</td>\n",
       "      <td>71</td>\n",
       "      <td>What position should I start in for the Windsh...</td>\n",
       "      <td>NON_RELEVANT</td>\n",
       "      <td>The generated answer describes a position (lyi...</td>\n",
       "    </tr>\n",
       "    <tr>\n",
       "      <th>154</th>\n",
       "      <td>NONE</td>\n",
       "      <td>173</td>\n",
       "      <td>Can you explain how to safely return to the st...</td>\n",
       "      <td>NON_RELEVANT</td>\n",
       "      <td>The generated answer 'NONE' does not provide a...</td>\n",
       "    </tr>\n",
       "    <tr>\n",
       "      <th>156</th>\n",
       "      <td>The CONTEXT does not explicitly state whether ...</td>\n",
       "      <td>171</td>\n",
       "      <td>Is the Banded Pull-Up suitable for beginners?</td>\n",
       "      <td>NON_RELEVANT</td>\n",
       "      <td>The generated answer does not address the ques...</td>\n",
       "    </tr>\n",
       "    <tr>\n",
       "      <th>168</th>\n",
       "      <td>NONE</td>\n",
       "      <td>87</td>\n",
       "      <td>Can chin-ups be performed with any equipment o...</td>\n",
       "      <td>NON_RELEVANT</td>\n",
       "      <td>The generated answer 'NONE' does not provide a...</td>\n",
       "    </tr>\n",
       "    <tr>\n",
       "      <th>170</th>\n",
       "      <td>NONE</td>\n",
       "      <td>119</td>\n",
       "      <td>How can I modify the One-Arm Push-Up if I find...</td>\n",
       "      <td>NON_RELEVANT</td>\n",
       "      <td>The generated answer 'NONE' does not provide a...</td>\n",
       "    </tr>\n",
       "    <tr>\n",
       "      <th>174</th>\n",
       "      <td>NONE</td>\n",
       "      <td>86</td>\n",
       "      <td>Is the Dumbbell Front Raise considered a push ...</td>\n",
       "      <td>NON_RELEVANT</td>\n",
       "      <td>The generated answer 'NONE' does not address t...</td>\n",
       "    </tr>\n",
       "    <tr>\n",
       "      <th>181</th>\n",
       "      <td>NONE</td>\n",
       "      <td>90</td>\n",
       "      <td>How do I position the barbell for this exercise?</td>\n",
       "      <td>NON_RELEVANT</td>\n",
       "      <td>The generated answer 'NONE' does not provide a...</td>\n",
       "    </tr>\n",
       "    <tr>\n",
       "      <th>186</th>\n",
       "      <td>The Cable Lateral Lunge is a push type exercise.</td>\n",
       "      <td>188</td>\n",
       "      <td>Is the Cable Lateral Lunge a push or pull type...</td>\n",
       "      <td>NON_RELEVANT</td>\n",
       "      <td>The generated answer incorrectly categorizes t...</td>\n",
       "    </tr>\n",
       "    <tr>\n",
       "      <th>197</th>\n",
       "      <td>NONE</td>\n",
       "      <td>123</td>\n",
       "      <td>Can beginners safely attempt the One-Legged Sq...</td>\n",
       "      <td>NON_RELEVANT</td>\n",
       "      <td>The generated answer 'NONE' does not provide a...</td>\n",
       "    </tr>\n",
       "  </tbody>\n",
       "</table>\n",
       "</div>"
      ],
      "text/plain": [
       "                                                answer   id  \\\n",
       "19   The One-Arm Dumbbell Snatch is considered a pu...  190   \n",
       "22                                                NONE   30   \n",
       "49                                                NONE   36   \n",
       "52         The Cable Lateral Raise is a push exercise.  100   \n",
       "57                                                NONE   99   \n",
       "64                                                NONE   54   \n",
       "67                                                NONE  107   \n",
       "69                                                NONE   17   \n",
       "76                                                NONE  187   \n",
       "79                                                NONE   99   \n",
       "113                                               NONE  117   \n",
       "117                                               NONE  139   \n",
       "128                                               NONE   97   \n",
       "131  The Cable Side Lunge is considered a push exer...  181   \n",
       "133                                               NONE   72   \n",
       "135  Lie on your back with legs extended towards th...   71   \n",
       "154                                               NONE  173   \n",
       "156  The CONTEXT does not explicitly state whether ...  171   \n",
       "168                                               NONE   87   \n",
       "170                                               NONE  119   \n",
       "174                                               NONE   86   \n",
       "181                                               NONE   90   \n",
       "186   The Cable Lateral Lunge is a push type exercise.  188   \n",
       "197                                               NONE  123   \n",
       "\n",
       "                                              question     relevance  \\\n",
       "19   Is the One-Arm Dumbbell Snatch considered a pu...  NON_RELEVANT   \n",
       "22   Can calf raises target any other body parts be...  NON_RELEVANT   \n",
       "49   What is the correct position to start the Incl...  NON_RELEVANT   \n",
       "52   Is the Cable Lateral Raise a push or pull exer...  NON_RELEVANT   \n",
       "57   What is the appropriate weight for the dumbbel...  NON_RELEVANT   \n",
       "64   How long should I hold the Wall Sit position f...  NON_RELEVANT   \n",
       "67   Can you explain the correct stance for perform...  NON_RELEVANT   \n",
       "69   What is the primary body position to start per...  NON_RELEVANT   \n",
       "76   Is the Reverse Grip Lat Pulldown suitable for ...  NON_RELEVANT   \n",
       "79   How do I avoid injury while doing the Dumbbell...  NON_RELEVANT   \n",
       "113  Is the Dumbbell Tricep Extension considered a ...  NON_RELEVANT   \n",
       "117  Can you explain the correct form for executing...  NON_RELEVANT   \n",
       "128  How should my feet be positioned while doing t...  NON_RELEVANT   \n",
       "131  Is the Cable Side Lunge considered a push or p...  NON_RELEVANT   \n",
       "133  Is there a specific body part that Dumbbell Sh...  NON_RELEVANT   \n",
       "135  What position should I start in for the Windsh...  NON_RELEVANT   \n",
       "154  Can you explain how to safely return to the st...  NON_RELEVANT   \n",
       "156      Is the Banded Pull-Up suitable for beginners?  NON_RELEVANT   \n",
       "168  Can chin-ups be performed with any equipment o...  NON_RELEVANT   \n",
       "170  How can I modify the One-Arm Push-Up if I find...  NON_RELEVANT   \n",
       "174  Is the Dumbbell Front Raise considered a push ...  NON_RELEVANT   \n",
       "181   How do I position the barbell for this exercise?  NON_RELEVANT   \n",
       "186  Is the Cable Lateral Lunge a push or pull type...  NON_RELEVANT   \n",
       "197  Can beginners safely attempt the One-Legged Sq...  NON_RELEVANT   \n",
       "\n",
       "                                           explanation  \n",
       "19   The generated answer incorrectly categorizes t...  \n",
       "22   The generated answer 'NONE' does not provide a...  \n",
       "49   The generated answer 'NONE' does not provide a...  \n",
       "52   The generated answer incorrectly categorizes t...  \n",
       "57   The generated answer 'NONE' does not address t...  \n",
       "64   The generated answer 'NONE' does not provide a...  \n",
       "67   The generated answer is 'NONE', which fails to...  \n",
       "69   The generated answer 'NONE' does not provide a...  \n",
       "76   The generated answer 'NONE' does not provide a...  \n",
       "79   The generated answer 'NONE' does not provide a...  \n",
       "113  The generated answer 'NONE' does not provide a...  \n",
       "117  The generated answer 'NONE' does not provide a...  \n",
       "128  The generated answer 'NONE' does not provide a...  \n",
       "131  The generated answer incorrectly classifies th...  \n",
       "133  The generated answer 'NONE' does not address t...  \n",
       "135  The generated answer describes a position (lyi...  \n",
       "154  The generated answer 'NONE' does not provide a...  \n",
       "156  The generated answer does not address the ques...  \n",
       "168  The generated answer 'NONE' does not provide a...  \n",
       "170  The generated answer 'NONE' does not provide a...  \n",
       "174  The generated answer 'NONE' does not address t...  \n",
       "181  The generated answer 'NONE' does not provide a...  \n",
       "186  The generated answer incorrectly categorizes t...  \n",
       "197  The generated answer 'NONE' does not provide a...  "
      ]
     },
     "execution_count": 107,
     "metadata": {},
     "output_type": "execute_result"
    }
   ],
   "source": [
    "df_eval[df_eval.relevance == 'NON_RELEVANT']\n"
   ]
  }
 ],
 "metadata": {
  "kernelspec": {
   "display_name": "Python 3 (ipykernel)",
   "language": "python",
   "name": "python3"
  },
  "language_info": {
   "codemirror_mode": {
    "name": "ipython",
    "version": 3
   },
   "file_extension": ".py",
   "mimetype": "text/x-python",
   "name": "python",
   "nbconvert_exporter": "python",
   "pygments_lexer": "ipython3",
   "version": "3.11.5"
  }
 },
 "nbformat": 4,
 "nbformat_minor": 5
}
